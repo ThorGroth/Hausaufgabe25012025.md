{
  "nbformat": 4,
  "nbformat_minor": 0,
  "metadata": {
    "colab": {
      "provenance": [],
      "include_colab_link": true
    },
    "kernelspec": {
      "name": "python3",
      "display_name": "Python 3"
    },
    "language_info": {
      "name": "python"
    }
  },
  "cells": [
    {
      "cell_type": "markdown",
      "metadata": {
        "id": "view-in-github",
        "colab_type": "text"
      },
      "source": [
        "<a href=\"https://colab.research.google.com/github/ThorGroth/Hausaufgabe25012025.md/blob/main/if_else.ipynb\" target=\"_parent\"><img src=\"https://colab.research.google.com/assets/colab-badge.svg\" alt=\"Open In Colab\"/></a>"
      ]
    },
    {
      "cell_type": "markdown",
      "source": [
        "## Aufgaben für if-else-Verzweigungen\n",
        "\n",
        "\n",
        "1.  Schreibe ein Programm, das eine Zahl überprüft: Wenn die Zahl negativ ist, gib \"Negativ\" aus, wenn 0 gib \"Null\" aus, wenn positiv, dann \"Positiv\"\n",
        "2.   Erstelle eine if-elif-else-Struktur, die eine Temperatur bewertet: Bei unter 0 Grad: \"Sehr kalt\", bei 0-10 Grad: \"Kalt\", bei 11-20 Grad: \"Mild\", bei 21-30 Grad: \"Warm\", bei über 30 Grad: \"Heiß\""
      ],
      "metadata": {
        "id": "abi1Aq6Pt7im"
      }
    },
    {
      "cell_type": "markdown",
      "source": [
        "Aufgabe 1."
      ],
      "metadata": {
        "id": "-faX-RAxuxkS"
      }
    },
    {
      "cell_type": "code",
      "source": [
        "zahl = 5\n",
        "if zahl == 0:\n",
        "  print(\"Null\")\n",
        "elif zahl < 0:\n",
        "  print(\"Negativ\")\n",
        "elif zahl > 0:\n",
        "  print(\"Positiv\")"
      ],
      "metadata": {
        "id": "02rJq6O5v4Wu",
        "outputId": "df2d1c23-b3ee-4658-c584-42327e58e44a",
        "colab": {
          "base_uri": "https://localhost:8080/"
        }
      },
      "execution_count": 6,
      "outputs": [
        {
          "output_type": "stream",
          "name": "stdout",
          "text": [
            "Positiv\n"
          ]
        }
      ]
    },
    {
      "cell_type": "markdown",
      "source": [
        "Aufgabe 2."
      ],
      "metadata": {
        "id": "5ehJYeHIxPhR"
      }
    },
    {
      "cell_type": "code",
      "source": [
        "Temperatur = -5\n",
        "if Temperatur < 0:\n",
        "  print(\"Sehr kalt\")\n",
        "elif Temperatur <= 10:\n",
        "  print(\"Kalt\")\n",
        "elif Temperatur <= 20:\n",
        "  print(\"Mild\")\n",
        "elif Temperatur <= 30:\n",
        "  print(\"Warm\")\n",
        "else:\n",
        "  print(\"Heiß\")"
      ],
      "metadata": {
        "id": "7Unf7xq0xi_v",
        "outputId": "84084c12-d60d-445f-e474-c8d598da2147",
        "colab": {
          "base_uri": "https://localhost:8080/"
        }
      },
      "execution_count": 11,
      "outputs": [
        {
          "output_type": "stream",
          "name": "stdout",
          "text": [
            "Sehr kalt\n"
          ]
        }
      ]
    }
  ]
}