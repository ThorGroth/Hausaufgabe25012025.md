{
  "nbformat": 4,
  "nbformat_minor": 0,
  "metadata": {
    "colab": {
      "provenance": [],
      "include_colab_link": true
    },
    "kernelspec": {
      "name": "python3",
      "display_name": "Python 3"
    },
    "language_info": {
      "name": "python"
    }
  },
  "cells": [
    {
      "cell_type": "markdown",
      "metadata": {
        "id": "view-in-github",
        "colab_type": "text"
      },
      "source": [
        "<a href=\"https://colab.research.google.com/github/ThorGroth/Hausaufgabe25012025.md/blob/main/Thor_Michael_Groth_AND_oder_OR.ipynb\" target=\"_parent\"><img src=\"https://colab.research.google.com/assets/colab-badge.svg\" alt=\"Open In Colab\"/></a>"
      ]
    },
    {
      "cell_type": "markdown",
      "source": [],
      "metadata": {
        "id": "-8OTOexO1Vkj"
      }
    },
    {
      "cell_type": "markdown",
      "source": [
        "## **Aufgabe 1: Apfelauswahl mit `or`**\n",
        "### **Beschreibung:**  \n",
        "Schreibe ein Programm, das den Benutzer fragt, ob er einen **süßen** oder einen **weichen** Apfel möchte. Danach soll das Programm prüfen, ob eine bestimmte Apfelsorte den Wünschen entspricht.\n",
        "\n",
        "### **Details:**\n",
        "- Das Programm enthält eine Liste mit Apfelsorten und deren Eigenschaften (Farbe, Geschmack, Konsistenz).\n",
        "- Der Benutzer gibt ein, ob er einen süßen oder weichen Apfel möchte.\n",
        "- Das Programm prüft mit **`or`**, ob mindestens eine dieser Eigenschaften für eine Apfelsorte zutrifft.\n",
        "- Falls ja, werden passende Apfelsorten ausgegeben.\n",
        "\n",
        "### **Beispiel-Eingabe:**\n",
        "```\n",
        "Möchtest du einen süßen Apfel? (ja/nein): ja\n",
        "Möchtest du einen weichen Apfel? (ja/nein): nein\n",
        "```\n",
        "### **Beispiel-Ausgabe:**\n",
        "```\n",
        "Du solltest diese Apfelsorten kaufen: Golden Delicious, Fuji, Honeycrisp\n",
        "```\n",
        "\n",
        "\n"
      ],
      "metadata": {
        "id": "vAXdwXC91kbw"
      }
    },
    {
      "cell_type": "code",
      "source": [
        "# Aufgabe 1\n",
        "apfel_sorten = {\n",
        "    \"Golden Delicious\":{\"farbe\": \"gelb\", \"geschmack\": \"süß\", \"konsistenz\": \"weich\"},\n",
        "    \"Honeycrisp\": {\"farbe\": \"grün\", \"geschmack\": \"sauer\", \"konsistenz\": \"hart\"},\n",
        "    \"Fuji\": {\"farbe\": \"rot\", \"geschmack\": \"süß\", \"konsistenz\": \"weich\"},\n",
        "}\n",
        "geschmack = input(\"Möchtest du einen süßen apfel? (ja/nein): \")\n",
        "konsistenz = input(\"Möchtest du einen weichen apfel? (ja/nein): \")\n",
        "if geschmack == \"ja\" or konsistenz == \"ja\":\n",
        "  print(\"Du solltest diese Apfelsorten kaufen: \")\n",
        "  for apfel in apfel_sorten:\n",
        "    if apfel_sorten[apfel][\"geschmack\"] == \"süß\" or apfel_sorten[apfel][\"konsistenz\"] == \"weich\":\n",
        "      print(apfel)\n",
        "else:\n",
        "  print(\"Du solltest diese Apfelsorten kaufen:\")\n",
        "  print(\"Honeycrisp\")\n",
        "\n",
        "\n",
        "\n"
      ],
      "metadata": {
        "id": "tyPqDAaL2Qn7",
        "colab": {
          "base_uri": "https://localhost:8080/"
        },
        "outputId": "2359453a-ff82-43de-d0e9-f959fc667998"
      },
      "execution_count": 78,
      "outputs": [
        {
          "output_type": "stream",
          "name": "stdout",
          "text": [
            "Möchtest du einen süßen apfel? (ja/nein): ja\n",
            "Möchtest du einen weichen apfel? (ja/nein): nein\n",
            "Du solltest diese Apfelsorten kaufen: \n",
            "Golden Delicious\n",
            "Fuji\n"
          ]
        }
      ]
    },
    {
      "cell_type": "markdown",
      "source": [
        "---\n",
        "\n",
        "## **Aufgabe 2: Kinoticket-Preis mit `or`**\n",
        "### **Beschreibung:**  \n",
        "Ein Kino hat folgende Ticketpreise:  \n",
        "- Kinder unter **12 Jahren** und Senioren ab **65 Jahren** zahlen **5€**.  \n",
        "- Alle anderen zahlen **10€**.  \n",
        "\n",
        "Schreibe ein Programm, das:\n",
        "1. Den Benutzer nach seinem **Alter** fragt.\n",
        "2. Den Preis mit **`or`** berechnet (ermäßigt nur, wenn **eine der beiden Bedingungen** erfüllt sind).\n",
        "3. Den passenden Ticketpreis ausgibt.\n",
        "\n",
        "### **Beispiel-Eingabe:**\n",
        "```\n",
        "Wie alt bist du? 70\n",
        "```\n",
        "### **Beispiel-Ausgabe:**\n",
        "```\n",
        "Dein Ticket kostet 5€.\n",
        "```\n",
        "\n"
      ],
      "metadata": {
        "id": "QF22zpnt12-y"
      }
    },
    {
      "cell_type": "code",
      "source": [
        "# Aufgabe 2\n",
        "alter = int(input(\"Wie alt bist du? \"))\n",
        "if alter < 12 or alter >= 65:\n",
        "  print(\"Dein Ticket kostet 5€.\")\n",
        "else:\n",
        "  print(\"Dein Ticket kostet 10€.\")"
      ],
      "metadata": {
        "id": "cQ6Bw-Bj2Trh",
        "colab": {
          "base_uri": "https://localhost:8080/"
        },
        "outputId": "c8246f0e-3faa-4794-e7aa-223c2eaeac9a"
      },
      "execution_count": 5,
      "outputs": [
        {
          "output_type": "stream",
          "name": "stdout",
          "text": [
            "Wie alt bist du? 37\n",
            "Dein Ticket kostet 10€.\n"
          ]
        }
      ]
    },
    {
      "cell_type": "markdown",
      "source": [
        "---\n",
        "\n",
        "## **Aufgabe 3: Passwortprüfung mit `and`**\n",
        "### **Beschreibung:**  \n",
        "Ein sicheres Passwort muss folgende Bedingungen erfüllen:\n",
        "- **Mindestens 8 Zeichen lang**\n",
        "- **Mindestens eine Zahl enthalten**\n",
        "\n",
        "Schreibe ein Programm, das:\n",
        "1. Den Benutzer nach einem Passwort fragt.\n",
        "2. Prüft, ob beide Bedingungen mit **`and`** erfüllt sind.\n",
        "3. Entsprechend eine Meldung ausgibt.\n",
        "\n",
        "### **Beispiel-Eingabe:**\n",
        "```\n",
        "Gib ein Passwort ein: secret123\n",
        "```\n",
        "### **Beispiel-Ausgabe:**\n",
        "```\n",
        "Passwort ist sicher!\n",
        "```\n",
        "\n",
        "Falls das Passwort unsicher ist:\n",
        "```\n",
        "Gib ein Passwort ein: abc\n",
        "Passwort ist unsicher.\n",
        "```\n",
        "\n"
      ],
      "metadata": {
        "id": "43Wat6t118_n"
      }
    },
    {
      "cell_type": "code",
      "source": [
        "# Aufgabe 3\n",
        "passwort = input(\"Gib ein Passwort ein: \")\n",
        "if len(passwort) >= 8 and any(char.isdigit() for char in passwort):\n",
        "  print(\"Passwort ist sicher!\")\n",
        "else:\n",
        "  print(\"Passwort ist unsicher.\")"
      ],
      "metadata": {
        "id": "Rxwm-kg_2WS5",
        "colab": {
          "base_uri": "https://localhost:8080/"
        },
        "outputId": "d26da7be-64cb-4bca-f5c6-fa2a3b83803f"
      },
      "execution_count": 8,
      "outputs": [
        {
          "output_type": "stream",
          "name": "stdout",
          "text": [
            "Gib ein Passwort ein: Thor1988\n",
            "Passwort ist sicher!\n"
          ]
        }
      ]
    },
    {
      "cell_type": "markdown",
      "source": [
        "---\n",
        "\n",
        "## **Aufgabe 4: Wetterempfehlung mit `or`**\n",
        "### **Beschreibung:**  \n",
        "Schreibe ein Programm, das eine **Tagesempfehlung** gibt, basierend auf dem Wetter.\n",
        "\n",
        "**Regeln:**\n",
        "- Falls es **regnet oder kalt ist (unter 10°C)** → `\"Zieh eine Jacke an!\"`\n",
        "- Falls es **sonnig und warm ist (über 20°C)** → `\"Geh raus und genieße die Sonne!\"`\n",
        "- Falls es **dazwischen** liegt → `\"Zieh dich bequem an.\"`\n",
        "\n",
        "### **Beispiel-Eingabe:**\n",
        "```\n",
        "Regnet es? (ja/nein): ja\n",
        "Wie ist die Temperatur in °C?: 15\n",
        "```\n",
        "### **Beispiel-Ausgabe:**\n",
        "```\n",
        "Zieh eine Jacke an!\n",
        "```\n",
        "\n"
      ],
      "metadata": {
        "id": "-CoK14FD2FXq"
      }
    },
    {
      "cell_type": "code",
      "source": [
        "# Aufgabe 4\n",
        "regnet = input(\"Regnet es? (ja/nein): \")\n",
        "temperatur = int(input(\"Wie ist die Temperatur in °C?: \"))\n",
        "if regnet == \"ja\" or temperatur < 10:\n",
        "  print(\"Zieh eine Jacke an!\")\n",
        "elif regnet == \"nein\" and temperatur >= 10:\n",
        "    print(\"Genieße das wetter!\")"
      ],
      "metadata": {
        "id": "aff1Z7xY2Y9Y",
        "colab": {
          "base_uri": "https://localhost:8080/"
        },
        "outputId": "20cbd336-ad04-4a70-c958-ca3b29803ff1"
      },
      "execution_count": 51,
      "outputs": [
        {
          "output_type": "stream",
          "name": "stdout",
          "text": [
            "Regnet es? (ja/nein): nein\n",
            "Wie ist die Temperatur in °C?: 12\n",
            "Genieße das wetter!\n"
          ]
        }
      ]
    },
    {
      "cell_type": "markdown",
      "source": [
        "---\n",
        "\n",
        "## **Aufgabe 5: Einkaufsrabatt mit `and` und `or`**\n",
        "### **Beschreibung:**  \n",
        "Ein Supermarkt gibt Rabatte basierend auf dem Einkaufswert:\n",
        "- **10% Rabatt**, wenn der Einkauf **über 100€** liegt **und** eine Kundenkarte vorhanden ist.\n",
        "- **5% Rabatt**, wenn nur eine der beiden Bedingungen erfüllt ist (also entweder über 100€ oder eine Kundenkarte).\n",
        "\n",
        "Schreibe ein Programm, das:\n",
        "1. Den Einkaufsbetrag und die Info zur Kundenkarte abfragt.\n",
        "2. Mit **`and` und `or`** die Rabatte berechnet.\n",
        "3. Den endgültigen Preis ausgibt.\n",
        "\n",
        "### **Beispiel-Eingabe:**\n",
        "```\n",
        "Wie hoch ist dein Einkaufsbetrag? 120\n",
        "Hast du eine Kundenkarte? (ja/nein): ja\n",
        "```\n",
        "### **Beispiel-Ausgabe:**\n",
        "```\n",
        "Du bekommst 10% Rabatt! Dein neuer Preis ist: 108€\n",
        "```\n",
        "\n",
        "Falls der Einkauf nur eine der Bedingungen erfüllt:\n",
        "```\n",
        "Wie hoch ist dein Einkaufsbetrag? 90\n",
        "Hast du eine Kundenkarte? (ja/nein): ja\n",
        "Du bekommst 5% Rabatt! Dein neuer Preis ist: 85.50€\n",
        "```\n",
        "\n"
      ],
      "metadata": {
        "id": "rBB9JlXv2IY9"
      }
    },
    {
      "cell_type": "code",
      "source": [
        "# Aufgabe 5\n",
        "einkaufsbetrag = float(input(\"Wie hoch ist dein Einkaufsbetrag? \"))\n",
        "hat_kundenkarte = input(\"Hast du eine Kundenkarte? (ja/nein): \")\n",
        "\n",
        "if einkaufsbetrag > 100 and hat_kundenkarte == \"ja\":\n",
        "    print(\"Du bekommst 10% Rabatt! Dein neuer Preis ist: \", einkaufsbetrag * 0.9, \"€\")\n",
        "elif einkaufsbetrag > 100 or hat_kundenkarte == \"ja\":\n",
        "    print(\"Du bekommst 5% Rabatt! Dein neuer Preis ist: \", einkaufsbetrag * 0.95, \"€\")"
      ],
      "metadata": {
        "id": "CCox1g2N2bxF",
        "colab": {
          "base_uri": "https://localhost:8080/"
        },
        "outputId": "1e1ff1d6-e751-4d85-b25b-c75803eab5a6"
      },
      "execution_count": 40,
      "outputs": [
        {
          "output_type": "stream",
          "name": "stdout",
          "text": [
            "Wie hoch ist dein Einkaufsbetrag? 110\n",
            "Hast du eine Kundenkarte? (ja/nein): nein\n",
            "Du bekommst 5% Rabatt! Dein neuer Preis ist:  104.5 €\n"
          ]
        }
      ]
    },
    {
      "cell_type": "markdown",
      "source": [
        "---\n",
        "\n",
        "## **Aufgabe 6: Zugangskontrolle mit `or`**\n",
        "### **Beschreibung:**  \n",
        "Ein Gebäude hat eine Sicherheitskontrolle. Besucher dürfen nur eintreten, wenn sie entweder:\n",
        "- **Einen Mitarbeiterausweis** haben oder\n",
        "- **Einen Termin mit einer gültigen Einladung** haben.\n",
        "\n",
        "Schreibe ein Programm, das:\n",
        "1. Den Benutzer fragt, ob er einen Mitarbeiterausweis hat.\n",
        "2. Falls nicht, fragt, ob er eine Einladung hat.\n",
        "3. Mit **`or`** entscheidet, ob der Zugang gewährt wird.\n",
        "\n",
        "### **Beispiel-Eingabe:**\n",
        "```\n",
        "Hast du einen Mitarbeiterausweis? (ja/nein): nein\n",
        "Hast du eine Einladung? (ja/nein): ja\n",
        "```\n",
        "### **Beispiel-Ausgabe:**\n",
        "```\n",
        "Zugang gewährt!\n",
        "```\n",
        "\n",
        "Falls weder Ausweis noch Einladung vorhanden sind:\n",
        "```\n",
        "Hast du einen Mitarbeiterausweis? (ja/nein): nein\n",
        "Hast du eine Einladung? (ja/nein): nein\n",
        "Zugang verweigert.\n",
        "```"
      ],
      "metadata": {
        "id": "yiDQfJzM2MLP"
      }
    },
    {
      "cell_type": "code",
      "source": [
        "# Aufgabe 6\n",
        "hat_ausweis = input(\"Hast du einen Mitarbeiterausweis? (ja/nein): \")\n",
        "hat_einladung = input(\"Hast du eine Einladung? (ja/nein): \")\n",
        "\n",
        "if hat_ausweis == \"ja\" or hat_einladung == \"ja\":\n",
        " print(\"Zugang gewährt!\")\n",
        "else:\n",
        " print(\"Zugang verweigert.\")"
      ],
      "metadata": {
        "id": "k5nOfBM42fSv",
        "colab": {
          "base_uri": "https://localhost:8080/"
        },
        "outputId": "ccdb1fa6-cc9e-4a41-9553-0731f9c0534a"
      },
      "execution_count": 50,
      "outputs": [
        {
          "output_type": "stream",
          "name": "stdout",
          "text": [
            "Hast du einen Mitarbeiterausweis? (ja/nein): nein\n",
            "Hast du eine Einladung? (ja/nein): nein\n",
            "Zugang verweigert.\n"
          ]
        }
      ]
    }
  ]
}