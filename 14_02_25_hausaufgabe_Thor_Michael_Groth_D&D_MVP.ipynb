{
  "nbformat": 4,
  "nbformat_minor": 0,
  "metadata": {
    "colab": {
      "provenance": [],
      "include_colab_link": true
    },
    "kernelspec": {
      "name": "python3",
      "display_name": "Python 3"
    },
    "language_info": {
      "name": "python"
    }
  },
  "cells": [
    {
      "cell_type": "markdown",
      "metadata": {
        "id": "view-in-github",
        "colab_type": "text"
      },
      "source": [
        "<a href=\"https://colab.research.google.com/github/ThorGroth/Hausaufgabe25012025.md/blob/main/14_02_25_hausaufgabe_Thor_Michael_Groth_D%26D_MVP.ipynb\" target=\"_parent\"><img src=\"https://colab.research.google.com/assets/colab-badge.svg\" alt=\"Open In Colab\"/></a>"
      ]
    },
    {
      "cell_type": "markdown",
      "source": [
        "# 🏰 D&D Abenteuer\n",
        "## Die verborgene Sprache der Götter\n",
        "In den dampfenden Regenwäldern der Smaragdküste liegt das Königreich Bytea, eine blühende Zivilisation, in der sich Magie und Technologie vermischen. Die Menschen hier verehren die alten Kodex-Götter, deren Schriften in einer vergessenen Sprache verfasst sind – einer Sprache, von der es heißt, sie könne den Geist erleuchten und das Universum formen. Doch nur wenige sind in der Lage, diese Sprache zu entziffern.\n",
        "\n",
        "Seit Jahrhunderten herrscht Frieden, doch dunkle Mächte drohen, das Gleichgewicht zu stören. Der uralte Bug-König Segfault, ein korrupter Magier, der einst ein brillanter Gelehrter der Kodex-Götter war, hat das sagenumwobene Script der unendlichen Schleife gestohlen. Mit diesem Artefakt kann er das Gefüge der Realität verzerren und die Zeit in ewiger Wiederholung fangen.\n",
        "\n",
        "Eine Prophezeiung besagt, dass nur jene, die das verlorene Wissen der Kodex-Götter meistern, Segfault aufhalten können. Und hier beginnt eure Reise.\n"
      ],
      "metadata": {
        "id": "rC0ulGGrX2BD"
      }
    },
    {
      "cell_type": "markdown",
      "source": [
        "## Kapitel 1\n"
      ],
      "metadata": {
        "id": "0-Dhzgg7zMrD"
      }
    },
    {
      "cell_type": "markdown",
      "source": [
        "### 🔹 Was werden wir anwenden?\n",
        "1. **Charaktere erstellen** (Variablen, Dictionaries, input())\n",
        "2. **Würfelsystem & Kampf** (random, Schleifen, Funktionen)\n",
        "3. **Erkundung & Zufallsereignisse** (Listen, Verzweigungen)\n",
        "4. **Inventar & Items** (Listen, Manipulation)\n",
        "5. **Eine Quest mit Entscheidungen** (if-elif-else, Verzweigungen)\n",
        "\n",
        "Lass uns anfangen! 🎲"
      ],
      "metadata": {
        "id": "vNVRmTN1X9Z7"
      }
    },
    {
      "cell_type": "markdown",
      "source": [
        "## 🎭 1. Charaktererstellung\n",
        "Unser Charakter soll folgende Attribute haben\n",
        "```python\n",
        "character = {\n",
        "  \"name\": input\n",
        "  \"klasse\": input\n",
        "  \"spezies\": input\n",
        "  \"Geschick\": random(5,20)\n",
        "  \"Intelligenz\": random(5,20)\n",
        "  \"Stärke\": random(5,20)\n",
        "  \"HP\": 20\n",
        "}\n"
      ],
      "metadata": {
        "id": "trQFt6lcYP-_"
      }
    },
    {
      "cell_type": "code",
      "source": [
        "import random\n",
        "\n",
        "inventory_list = [\n",
        "    \"⚔️ Rostiges Eisenschwert\",\n",
        "    \"🛡️ Klapprige Holzrüstung\",\n",
        "    \"🪵 Durchlöchertes Holzschild\",\n",
        "    \"🔪 Stumpfes Messer\",\n",
        "    \"🧪 Abgelaufener Lebenstrank\",\n",
        "    \"🍵 Schimmeliger Zaubertrank\",\n",
        "    \"💀 Stinkender Heiltrank\"\n",
        "]\n",
        "\n",
        "def create_character():\n",
        "  print(\"🎭 Erstelle deinen Charakter\")\n",
        "  name = input(\"Wie heißt dein Held? \")\n",
        "  klasse = input(\"Was ist deine Klasse? \")\n",
        "  spezies = input(\"Was ist deine Spezies? \")\n",
        "  character = {\n",
        "      \"Name\": name,\n",
        "      \"Klasse\": klasse,\n",
        "      \"Spezies\": spezies,\n",
        "      \"Angriff\": random.randint(5, 20),\n",
        "      \"HP\": 20,\n",
        "      \"Inventar\": random.choices(inventory_list, k=2)\n",
        "  }\n",
        "  #print(f\"Dein Charakter wurde erstellt!\")\n",
        "  return character\n",
        "\n",
        "player = create_character()\n",
        "# print(f\"Mein Name ist {player['Name']}, dabei bin ich von der Klasse {player['Klasse']} und habe {player['Stärke']} Stärke\")\n",
        "#print(player[\"Name\"])\n",
        "print(\"\\nDein Charakter:\")\n",
        "for key, value in player.items():\n",
        "  print(f\"{key}: {value}\")"
      ],
      "metadata": {
        "colab": {
          "base_uri": "https://localhost:8080/"
        },
        "id": "FQXrKmLCYcd1",
        "outputId": "f81db3db-2073-4bdd-bd70-ab4a37f750b5"
      },
      "execution_count": 3,
      "outputs": [
        {
          "output_type": "stream",
          "name": "stdout",
          "text": [
            "🎭 Erstelle deinen Charakter\n",
            "Wie heißt dein Held? Thor\n",
            "Was ist deine Klasse? Krieger\n",
            "Was ist deine Spezies? Orc\n",
            "\n",
            "Dein Charakter:\n",
            "Name: Thor\n",
            "Klasse: Krieger\n",
            "Spezies: Orc\n",
            "Angriff: 11\n",
            "HP: 20\n",
            "Inventar: ['🍵 Schimmeliger Zaubertrank', '🔪 Stumpfes Messer']\n"
          ]
        }
      ]
    },
    {
      "cell_type": "markdown",
      "source": [
        "## 💀 2. Gegnererstellung\n",
        "- Dictionary\n",
        "```python\n",
        "enemy_list = [\n",
        "  {\"Name\": \"stinkender Ork\", \"Angriff\": random(5,15), \"HP\": random(5,20)},\n",
        "  {\"Name\": \"windige Schlange\", \"Angriff\": random(5,15), \"HP\": random(5,20)},\n",
        "  {\"Name\": \"runzeliges Warzenschwein\", \"Angriff\": random(5,15), \"HP\": random(5,20)},\n",
        "  {\"Name\": \"winziger Goblin\", \"Angriff\": random(5,15), \"HP\": random(5,20)}\n",
        "   ]\n",
        "```\n",
        "- Liste an Gegnern\n",
        "- Funktion mit zufälliger Wahl an Gegnern"
      ],
      "metadata": {
        "id": "fMvEyO8pYclV"
      }
    },
    {
      "cell_type": "code",
      "source": [
        "import random\n",
        "\n",
        "enemy_list = [\n",
        "  {\"Name\": \"🤢👹 stinkender Ork\", \"Angriff\": random.randint(5,15), \"HP\": random.randint(5,20)},\n",
        "  {\"Name\": \"🐍💨 windige Schlange\", \"Angriff\": random.randint(5,15), \"HP\": random.randint(5,20)},\n",
        "  {\"Name\": \"🐗🧐 runzeliges Warzenschwein\", \"Angriff\": random.randint(5,15), \"HP\": random.randint(5,20)},\n",
        "  {\"Name\": \"🧌🔍 winziger Goblin\", \"Angriff\": random.randint(5,15), \"HP\": random.randint(5,20)}\n",
        "   ]\n",
        "\n",
        "def create_enemy():\n",
        "  enemy = random.choice(enemy_list).copy()\n",
        "  return enemy\n",
        "\n",
        "enemy1 = create_enemy()\n",
        "for key, value in enemy1.items():\n",
        "  print(f\"{key}: {value}\")"
      ],
      "metadata": {
        "colab": {
          "base_uri": "https://localhost:8080/"
        },
        "id": "e_aWWYZmYskN",
        "outputId": "7f1430e7-bd88-428d-a56f-21a428facc39"
      },
      "execution_count": 4,
      "outputs": [
        {
          "output_type": "stream",
          "name": "stdout",
          "text": [
            "Name: 🐍💨 windige Schlange\n",
            "Angriff: 5\n",
            "HP: 11\n"
          ]
        }
      ]
    },
    {
      "cell_type": "markdown",
      "source": [
        "## 🎲 3. Würfelsystem"
      ],
      "metadata": {
        "id": "6SxV82BDYsrR"
      }
    },
    {
      "cell_type": "code",
      "source": [
        "import random\n",
        "\n",
        "def dice(sides):\n",
        "  return random.randint(1,sides)\n",
        "\n",
        "seiten = 8\n",
        "print(dice(seiten))"
      ],
      "metadata": {
        "colab": {
          "base_uri": "https://localhost:8080/"
        },
        "id": "WSvgWbmaY0FZ",
        "outputId": "2d04c8f6-aa17-4303-b8e9-7fd2876eee08"
      },
      "execution_count": 5,
      "outputs": [
        {
          "output_type": "stream",
          "name": "stdout",
          "text": [
            "6\n"
          ]
        }
      ]
    },
    {
      "cell_type": "markdown",
      "source": [
        "## ⚔️ 4. Kampf\n",
        "- Funktion zwischen Gegner und Spieler\n",
        "- Solange beide noch HP haben, soll der Schaden ausgewürfelt werden"
      ],
      "metadata": {
        "id": "t5hFyY0HY0ND"
      }
    },
    {
      "cell_type": "code",
      "source": [
        "#player2 = create_character()\n",
        "#enemy2 = create_enemy()\n",
        "#print(enemy2)\n",
        "def kampf(character, enemy):\n",
        "  print(f\"Du kämpfst gegen {enemy['Name']}\")\n",
        "\n",
        "  while character[\"HP\"] > 0 and enemy[\"HP\"] > 0:\n",
        "    # charakter greift an\n",
        "    input(\"Drücke ENTER zum würfelnss\")\n",
        "    schaden = dice(6)\n",
        "    print(f\"{character['Name']} würfelt: {schaden}\")\n",
        "    print(f\"{enemy['Name']} nimmt {schaden} Schaden\")\n",
        "\n",
        "    enemy[\"HP\"] -= schaden\n",
        "    print(f\"{enemy['Name']} hat nun {enemy['HP']} HP\")\n",
        "\n",
        "    # Überprüfen ob der Gegner besiegt wurde\n",
        "    if enemy[\"HP\"] <= 0:\n",
        "      print(\"Du hast gewonnen\")\n",
        "      break\n",
        "\n",
        "    schaden_gegner = dice(4)\n",
        "    character[\"HP\"] -= schaden_gegner\n",
        "    print(f\"Dein {character['Name']} hat nun {character['HP']} HP\")\n",
        "    print(f\"{enemy['Name']} würfelt: {schaden}\")\n",
        "    print(f\"{character['Name']} nimmt {schaden} Schaden\")\n",
        "    print(\"-------------------\")\n",
        "\n",
        "    if character[\"HP\"] <= 0:\n",
        "      print(\"Charakter wurde besiegt!\")\n",
        "      break\n",
        "\n",
        "##kampf(player, enemy2)\n"
      ],
      "metadata": {
        "id": "as-4WLP1ZRvN"
      },
      "execution_count": 7,
      "outputs": []
    },
    {
      "cell_type": "markdown",
      "source": [
        "## 5. Inventar und Gegenstände\n",
        "- Inventar hinzufügen"
      ],
      "metadata": {
        "id": "XrBYELFJaYAR"
      }
    },
    {
      "cell_type": "code",
      "source": [],
      "metadata": {
        "id": "EsPD1ZNbafLm"
      },
      "execution_count": null,
      "outputs": []
    },
    {
      "cell_type": "markdown",
      "source": [
        "## 6. Erkundung und Zufallsereignisse\n",
        "- Dictionary mit zufälligen Erkundungen und jeweils ausgeführten Funktionen"
      ],
      "metadata": {
        "id": "cGAUQnZ9ZR1f"
      }
    },
    {
      "cell_type": "code",
      "source": [],
      "metadata": {
        "id": "wtdj0Gcbaesq"
      },
      "execution_count": null,
      "outputs": []
    },
    {
      "cell_type": "markdown",
      "source": [
        "## 7. Eine Quest mit Entscheidungen\n",
        "\n"
      ],
      "metadata": {
        "id": "7bTNxlOjaftG"
      }
    },
    {
      "cell_type": "code",
      "source": [
        "import random\n",
        "print(\"GAME BEGINS\")\n",
        "print(\"Wähle zunächst einen Charakter: \")\n",
        "my_player = create_character()\n",
        "print(\"Nun beginnt deine Reise...\")\n",
        "print(\"\\nDu stehst vor einer dunklen Höhle. Was tust du?\")\n",
        "print(\"1️⃣ Gehe hinein.\")\n",
        "print(\"2️⃣ Laufe weiter.\")\n",
        "print(\"3️⃣ Setze dich hin und beobachte deine Umgebung.\")\n",
        "\n",
        "wahl = input(\"Wähle 1,2 oder 3: \")\n",
        "if wahl == \"1\":\n",
        "    print(\"Du betrittst die Höhle\")\n",
        "    first_enemy = create_enemy()\n",
        "    print(\"Huch... Ein Gegner erscheint\")\n",
        "    print(f\"{first_enemy['Name']} fordert dich zum Kampf auf\")\n",
        "    kampf(my_player, first_enemy)\n",
        "\n",
        "elif wahl == \"2\":\n",
        "    print(\"Du gehst weiter und findest eine sichere Stelle zum Ausruhen. 🏕️\")\n",
        "    # Inventar zur Liste hinzufügen\n",
        "    new_inventory = random.choice(inventory_list)\n",
        "    print(f\"Oha, hier liegt ein {new_inventory} rum. Heb es doch auf!\")\n",
        "    input(\"Drücke ENTER, um das aufzuheben\")\n",
        "    my_player['Inventar'].append(new_inventory)\n",
        "    print(f\"Cool, dein Inventar besteht nun aus: {my_player['Inventar']}\")\n",
        "\n",
        "elif wahl == \"3\":\n",
        "    print(\"🧘 Du setzt dich hin und beobachtest die Umgebung aufmerksam...\")\n",
        "    print(\"Nach einigen Minuten bemerkst du ein leises Knistern in der Luft, als ob Magie um dich herum pulsiert.\")\n",
        "    print(\"Ein alter Wanderer erscheint plötzlich vor dir. Er trägt einen langen, zerfledderten Umhang und hat Augen, die voller Wissen funkeln.\")\n",
        "    print(\"'Suchst du Weisheit oder Macht?', fragt er mit ruhiger Stimme.\")\n",
        "\n",
        "    print(\"1️⃣ Frage nach Weisheit 📜\")\n",
        "    print(\"2️⃣ Bitte um Macht ⚡\")\n",
        "    entscheidung = input(\"Wähle 1 oder 2: \")\n",
        "\n",
        "    if entscheidung == \"1\":\n",
        "        print(\"📖 Der Wanderer erzählt dir von einer alten Prophezeiung und zeigt dir eine verborgene Schriftrolle.\")\n",
        "        print(\"✨ Du erhältst +5 Intelligenz! Deine Reise geht weiter mit neuem Wissen im Gepäck.\")\n",
        "    else:\n",
        "        print(\"⚡ Der Wanderer hebt seine Hand und ein greller Blitz zuckt über deine Haut.\")\n",
        "        print(\"💪 Du erhältst +5 Angriff! Die neue Kraft fließt durch deine Adern, bereit für das nächste Abenteuer.\")\n",
        "\n",
        "    print(\"Doch kaum ist der Wanderer verschwunden, hörst du ein lautes Brüllen in der Ferne...\")\n",
        "    enemy1 = create_enemy()\n",
        "    print(f\"🔥 Ein {enemy1['Name']} taucht auf und greift dich an!\")\n",
        "    kampf(my_player, enemy1)\n",
        "\n",
        "    if my_player[\"HP\"] > 0:\n",
        "        print(\"Nach dem Kampf findest du eine kleine Quelle mit kristallklarem Wasser. Trinken? (ja/nein)\")\n",
        "        if input().lower() == \"ja\":\n",
        "            my_player[\"HP\"] += 20\n",
        "            print(f\"💧 Das Wasser heilt dich! Deine HP sind jetzt: {my_player['HP']}\")\n",
        "\n",
        "        print(\"Während du weiterziehst, stehst du vor einer Weggabelung. Welchen Pfad wählst du?\")\n",
        "        print(\"1️⃣ Den dunklen Pfad durch den verfluchten Wald 🌲\")\n",
        "        print(\"2️⃣ Den steinigen Weg über die Berge ⛰️\")\n",
        "        pfad = input(\"Wähle 1 oder 2: \")\n",
        "\n",
        "        if pfad == \"1\":\n",
        "            print(\"Du betrittst den verfluchten Wald und spürst eine unheimliche Präsenz...\")\n",
        "        else:\n",
        "            print(\"Du kletterst die Berge hinauf und fühlst die kühle Brise um dich herum...\")\n",
        "\n",
        "        print(\"Plötzlich taucht ein zweiter Feind auf!\")\n",
        "        enemy2 = create_enemy()\n",
        "        print(f\"😈 Ein {enemy2['Name']} stellt sich dir in den Weg!\")\n",
        "        kampf(my_player, enemy2)\n",
        "\n",
        "    if my_player[\"HP\"] > 0:\n",
        "        print(\"Nach dem Kampf entdeckst du eine kleine Truhe unter einem Baum. Du öffnest sie vorsichtig...\")\n",
        "        loot = random.choice(inventory_list)\n",
        "        my_player['Inventar'].append(loot)\n",
        "        print(f\"🎁 Du hast {loot} gefunden! Dein Inventar: {my_player['Inventar']}\")\n",
        "    else:\n",
        "        print(\"💀 Dein Abenteuer endet hier, doch deine Geschichte wird weitergetragen...\")\n",
        "else:\n",
        "    print(\"Du hast nichts getan und bist stehen geblieben. 😴\")"
      ],
      "metadata": {
        "colab": {
          "base_uri": "https://localhost:8080/"
        },
        "id": "e8Afro-wPp3C",
        "outputId": "ee9a27b5-3671-480a-e09e-2dee9457af33"
      },
      "execution_count": 15,
      "outputs": [
        {
          "output_type": "stream",
          "name": "stdout",
          "text": [
            "GAME BEGINS\n",
            "Wähle zunächst einen Charakter: \n",
            "🎭 Erstelle deinen Charakter\n",
            "Wie heißt dein Held? Thor\n",
            "Was ist deine Klasse? Berserker\n",
            "Was ist deine Spezies? Orc\n",
            "Nun beginnt deine Reise...\n",
            "\n",
            "Du stehst vor einer dunklen Höhle. Was tust du?\n",
            "1️⃣ Gehe hinein.\n",
            "2️⃣ Laufe weiter.\n",
            "3️⃣ Setze dich hin und beobachte deine Umgebung.\n",
            "Wähle 1,2 oder 3: 3\n",
            "🧘 Du setzt dich hin und beobachtest die Umgebung aufmerksam...\n",
            "Nach einigen Minuten bemerkst du ein leises Knistern in der Luft, als ob Magie um dich herum pulsiert.\n",
            "Ein alter Wanderer erscheint plötzlich vor dir. Er trägt einen langen, zerfledderten Umhang und hat Augen, die voller Wissen funkeln.\n",
            "'Suchst du Weisheit oder Macht?', fragt er mit ruhiger Stimme.\n",
            "1️⃣ Frage nach Weisheit 📜\n",
            "2️⃣ Bitte um Macht ⚡\n",
            "Wähle 1 oder 2: 2\n",
            "⚡ Der Wanderer hebt seine Hand und ein greller Blitz zuckt über deine Haut.\n",
            "💪 Du erhältst +5 Angriff! Die neue Kraft fließt durch deine Adern, bereit für das nächste Abenteuer.\n",
            "Doch kaum ist der Wanderer verschwunden, hörst du ein lautes Brüllen in der Ferne...\n",
            "🔥 Ein 🧌🔍 Winziger Goblin taucht auf und greift dich an!\n",
            "⚔️ Du kämpfst gegen 🧌🔍 Winziger Goblin! 🩸\n",
            "🎲 Drücke ENTER zum Würfeln...\n",
            "🔥 Angriff läuft... \n",
            "\n",
            "🎲 Thor würfelt: 1\n",
            "💥 🧌🔍 Winziger Goblin nimmt 1 Schaden!\n",
            "🎲 🧌🔍 Winziger Goblin würfelt: 4\n",
            "🔥 Thor nimmt 4 Schaden!\n",
            "❤️ Verbleibende HP: 16\n",
            "-------------------\n",
            "🎲 Drücke ENTER zum Würfeln...\n",
            "🔥 Angriff läuft... \n",
            "\n",
            "🎲 Thor würfelt: 2\n",
            "💥 🧌🔍 Winziger Goblin nimmt 2 Schaden!\n",
            "🎲 🧌🔍 Winziger Goblin würfelt: 1\n",
            "🔥 Thor nimmt 1 Schaden!\n",
            "❤️ Verbleibende HP: 15\n",
            "-------------------\n",
            "🎲 Drücke ENTER zum Würfeln...\n",
            "🔥 Angriff läuft... \n",
            "\n",
            "🎲 Thor würfelt: 5\n",
            "💥 🧌🔍 Winziger Goblin nimmt 5 Schaden!\n",
            "🎲 🧌🔍 Winziger Goblin würfelt: 4\n",
            "🔥 Thor nimmt 4 Schaden!\n",
            "❤️ Verbleibende HP: 11\n",
            "-------------------\n",
            "🎲 Drücke ENTER zum Würfeln...\n",
            "🔥 Angriff läuft... \n",
            "\n",
            "🎲 Thor würfelt: 3\n",
            "💥 🧌🔍 Winziger Goblin nimmt 3 Schaden!\n",
            "🎲 🧌🔍 Winziger Goblin würfelt: 4\n",
            "🔥 Thor nimmt 4 Schaden!\n",
            "❤️ Verbleibende HP: 7\n",
            "-------------------\n",
            "🎲 Drücke ENTER zum Würfeln...\n",
            "🔥 Angriff läuft... \n",
            "\n",
            "🎲 Thor würfelt: 4\n",
            "💥 🧌🔍 Winziger Goblin nimmt 4 Schaden!\n",
            "🏆 Du hast 🧌🔍 Winziger Goblin besiegt!\n",
            "Nach dem Kampf findest du eine kleine Quelle mit kristallklarem Wasser. Trinken? (ja/nein)\n",
            "ja\n",
            "💧 Das Wasser heilt dich! Deine HP sind jetzt: 27\n",
            "Während du weiterziehst, stehst du vor einer Weggabelung. Welchen Pfad wählst du?\n",
            "1️⃣ Den dunklen Pfad durch den verfluchten Wald 🌲\n",
            "2️⃣ Den steinigen Weg über die Berge ⛰️\n",
            "Wähle 1 oder 2: 1\n",
            "Du betrittst den verfluchten Wald und spürst eine unheimliche Präsenz...\n",
            "Plötzlich taucht ein zweiter Feind auf!\n",
            "😈 Ein 🐍💨 Windige Schlange stellt sich dir in den Weg!\n",
            "⚔️ Du kämpfst gegen 🐍💨 Windige Schlange! 🩸\n",
            "🎲 Drücke ENTER zum Würfeln...\n",
            "🔥 Angriff läuft... \n",
            "\n",
            "🎲 Thor würfelt: 6\n",
            "💥 🐍💨 Windige Schlange nimmt 6 Schaden!\n",
            "🎲 🐍💨 Windige Schlange würfelt: 1\n",
            "🔥 Thor nimmt 1 Schaden!\n",
            "❤️ Verbleibende HP: 26\n",
            "-------------------\n",
            "🎲 Drücke ENTER zum Würfeln...\n",
            "🔥 Angriff läuft... \n",
            "\n",
            "🎲 Thor würfelt: 2\n",
            "💥 🐍💨 Windige Schlange nimmt 2 Schaden!\n",
            "🎲 🐍💨 Windige Schlange würfelt: 4\n",
            "🔥 Thor nimmt 4 Schaden!\n",
            "❤️ Verbleibende HP: 22\n",
            "-------------------\n",
            "🎲 Drücke ENTER zum Würfeln...\n",
            "🔥 Angriff läuft... \n",
            "\n",
            "🎲 Thor würfelt: 3\n",
            "💥 🐍💨 Windige Schlange nimmt 3 Schaden!\n",
            "🏆 Du hast 🐍💨 Windige Schlange besiegt!\n",
            "Nach dem Kampf entdeckst du eine kleine Truhe unter einem Baum. Du öffnest sie vorsichtig...\n",
            "🎁 Du hast 🪵 Durchlöchertes Holzschild gefunden! Dein Inventar: ['💀 Stinkender Heiltrank', '🧪 Abgelaufener Lebenstrank', '🪵 Durchlöchertes Holzschild']\n"
          ]
        }
      ]
    }
  ]
}