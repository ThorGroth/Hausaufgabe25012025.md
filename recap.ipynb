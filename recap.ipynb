{
  "nbformat": 4,
  "nbformat_minor": 0,
  "metadata": {
    "colab": {
      "provenance": [],
      "include_colab_link": true
    },
    "kernelspec": {
      "name": "python3",
      "display_name": "Python 3"
    },
    "language_info": {
      "name": "python"
    }
  },
  "cells": [
    {
      "cell_type": "markdown",
      "metadata": {
        "id": "view-in-github",
        "colab_type": "text"
      },
      "source": [
        "<a href=\"https://colab.research.google.com/github/ThorGroth/Hausaufgabe25012025.md/blob/main/recap.ipynb\" target=\"_parent\"><img src=\"https://colab.research.google.com/assets/colab-badge.svg\" alt=\"Open In Colab\"/></a>"
      ]
    },
    {
      "cell_type": "markdown",
      "source": [
        "# Willkommen in Google Colab!\n",
        " In Google Colab kannst du Code direkt ausführen und mit den Ergebnissen interaktiv arbeiten.\n",
        "Probier es aus, indem du auf \"Play\" neben der Zelle klickst oder Shift+Enter drückst!\n",
        "\n",
        "Nimm dieses Notebook und füge deinen Code hinzu an den passenden Stellen. Abgabe: Gehe oben links auf Datei, dann auf Herunterladen, dann auf .ipynb. Dann startet ein Download des Notebooks. Diese heruntergeladene Datei fügst du bitte als Abgabe in den Classroom ein.\n"
      ],
      "metadata": {
        "id": "P5_Z397OqQRc"
      }
    },
    {
      "cell_type": "markdown",
      "source": [
        "# Teil 1: ,,eintippen\"\n",
        "\n",
        "So wie jede/r gute Musiker/in zu Beginn das eigene Instrument mit kleinen Fingerübungen einspielt, bevor das aktuelle Stück eingeübt wird, so werden wir uns ein wenig ins Coden ,,eintippen\""
      ],
      "metadata": {
        "id": "QOrrFrQp3fey"
      }
    },
    {
      "cell_type": "markdown",
      "source": [
        "## 1. Print-Befehl - Text ausgeben\n",
        " Der print-Befehl wird verwendet, um Text auf dem Bildschirm auszugeben."
      ],
      "metadata": {
        "id": "x6a2Gj5Gq4oR"
      }
    },
    {
      "cell_type": "markdown",
      "source": [
        "Hier wird \"Hallo, Welt!\" auf dem Bildschirm angezeigt.\n",
        "Probier es aus, indem du auf Play drückst"
      ],
      "metadata": {
        "id": "GcKAxpB2rFaw"
      }
    },
    {
      "cell_type": "code",
      "source": [
        "print(\"Hallo, Welt!\")"
      ],
      "metadata": {
        "id": "PLzIe2PiqcEE"
      },
      "execution_count": null,
      "outputs": []
    },
    {
      "cell_type": "markdown",
      "source": [
        "Super, lass uns noch etwas weitergehen\n",
        "\n",
        "Wenn du den Text ohne Anführungszeichen schreibst, bekommst du einen Fehler.\n",
        "Dies führt zu einem Fehler! Versuche es mal selbst, wenn du es nicht glaubst."
      ],
      "metadata": {
        "id": "orTpZfLVrPZ8"
      }
    },
    {
      "cell_type": "code",
      "source": [
        " print(\"Hi there!\")"
      ],
      "metadata": {
        "id": "sHkJujvorY9O",
        "colab": {
          "base_uri": "https://localhost:8080/"
        },
        "outputId": "980cb915-8903-4a2e-87e4-31fcae9c4cdd"
      },
      "execution_count": null,
      "outputs": [
        {
          "output_type": "stream",
          "name": "stdout",
          "text": [
            "Hi there!\n"
          ]
        }
      ]
    },
    {
      "cell_type": "markdown",
      "source": [
        "## 2. Programmierübung: Emoticon\n",
        "Dein Ziel ist es, ein Emoticon auszugeben: :-).\n",
        "Schreibe den Python-Code, um das Emoticon korrekt auszugeben."
      ],
      "metadata": {
        "id": "boElnUk3rmE-"
      }
    },
    {
      "cell_type": "code",
      "source": [
        "# Hier kommt dein Code\n",
        "print (\":-)\")"
      ],
      "metadata": {
        "id": "vzNGVexZrpCC",
        "colab": {
          "base_uri": "https://localhost:8080/"
        },
        "outputId": "2340c684-c788-4681-e293-86dc12d402f4"
      },
      "execution_count": null,
      "outputs": [
        {
          "output_type": "stream",
          "name": "stdout",
          "text": [
            ":-)\n"
          ]
        }
      ]
    },
    {
      "cell_type": "markdown",
      "source": [
        "## 3. Mehrere Befehle hintereinander ausführen\n",
        " Mehrere Befehle können hintereinander ausgeführt werden, um mehrere Zeilen auszugeben.\n",
        "Beispiel:"
      ],
      "metadata": {
        "id": "Cke_GA_-ryg7"
      }
    },
    {
      "cell_type": "code",
      "source": [
        "print(\"Willkommen in der Einführung in die Programmierung!\")\n",
        "print(\"Wir üben heute den Einsatz des Print-Befehls.\")\n",
        "print(\"Dieses Programm gibt drei Zeilen Text aus.\")"
      ],
      "metadata": {
        "id": "MMlK5MCtr9JD",
        "colab": {
          "base_uri": "https://localhost:8080/"
        },
        "outputId": "c18220e3-f570-4c5f-ebba-73dcb68b5a43"
      },
      "execution_count": null,
      "outputs": [
        {
          "output_type": "stream",
          "name": "stdout",
          "text": [
            "Willkommen in der Einführung in die Programmierung!\n",
            "Wir üben heute den Einsatz des Print-Befehls.\n",
            "Dieses Programm gibt drei Zeilen Text aus.\n"
          ]
        }
      ]
    },
    {
      "cell_type": "markdown",
      "source": [
        "## 4. Programmierübung: Fixe den Code: Hogwarts-Schüler\n",
        "In dieser Übung möchtest du die Namen der Hogwarts-Schüler in alphabetischer Reihenfolge ausgeben.\n",
        "Der folgende Code soll die Namen der Schüler aus der Harry-Potter-Reihe ausgeben, aber der Code funktioniert nicht ganz richtig.\n",
        "Dein Ziel ist es, den Code so zu ändern, dass die Namen in alphabetischer Reihenfolge erscheinen.\n",
        "\n",
        "Falsche Ausgabe (hier ist der Fehler):\n",
        "\n",
        "```\n",
        "print(\"Harry Potter\")\n",
        "print(\"Hermione Granger\")\n",
        "print(\"Ron Weasley\")\n",
        "print(\"Draco Malfoy\")\n",
        "print(\"Neville Longbottom\")\n",
        "print(\"Luna Lovegood\")\n",
        "print(\"Ginny Weasley\")\n",
        "```\n",
        "\n",
        "\n",
        "\n"
      ],
      "metadata": {
        "id": "XGcF2s9osSGn"
      }
    },
    {
      "cell_type": "code",
      "source": [
        "# Deine Lösung hier:\n",
        "# Sortiere die Namen alphabetisch!\n",
        "Schüler = [\n",
        "\"Harry Potter\",\n",
        "\"Hermione Granger\",\n",
        "\"Ron Weasley\",\n",
        "\"Draco Malfoy\",\n",
        "\"Neville Longbottom\",\n",
        "\"Luna Lovegood\",\n",
        "\"Ginny Weasley\",\n",
        "]\n",
        "Schüler.sort()\n",
        "\n",
        "for name in Schüler:\n",
        "    print(name)"
      ],
      "metadata": {
        "id": "IvmyT7jXscAo",
        "colab": {
          "base_uri": "https://localhost:8080/"
        },
        "outputId": "239a0e29-ab5b-45a5-c19b-91145eae0300"
      },
      "execution_count": null,
      "outputs": [
        {
          "output_type": "stream",
          "name": "stdout",
          "text": [
            "Draco Malfoy\n",
            "Ginny Weasley\n",
            "Harry Potter\n",
            "Hermione Granger\n",
            "Luna Lovegood\n",
            "Neville Longbottom\n",
            "Ron Weasley\n"
          ]
        }
      ]
    },
    {
      "cell_type": "code",
      "source": [
        "print(\"Draco Malfoy\")\n",
        "print(\"Ginny Weasley\")\n",
        "print(\"Harry Potter\")\n",
        "print(\"Hermione Granger\")\n",
        "print(\"Luna Lovegood\")\n",
        "print(\"Neville Longbottom\")\n",
        "print(\"Ron Weasley\")\n",
        "\n",
        "\n"
      ],
      "metadata": {
        "colab": {
          "base_uri": "https://localhost:8080/"
        },
        "id": "ZaDxUt26jAOQ",
        "outputId": "db2de17f-238c-4679-cd06-f287dac65314"
      },
      "execution_count": null,
      "outputs": [
        {
          "output_type": "stream",
          "name": "stdout",
          "text": [
            "Draco Malfoy\n",
            "Ginny Weasley\n",
            "Harry Potter\n",
            "Hermione Granger\n",
            "Luna Lovegood\n",
            "Neville Longbottom\n",
            "Ron Weasley\n"
          ]
        }
      ]
    },
    {
      "cell_type": "markdown",
      "source": [
        "## 5. Programmierübung: Der Erlkönig\n",
        "Schreibe ein Programm, das genau die folgenden Zeilen ausgibt:\n",
        "\n",
        "```\n",
        "Wer reitet so spät durch Nacht und Wind?\n",
        "Es ist der Vater mit seinem Kind;\n",
        "Er hat den Knaben wohl in dem Arm,\n",
        "Er fasst ihn sicher, er hält ihn warm.\n",
        "```\n",
        "\n"
      ],
      "metadata": {
        "id": "b2gGmNClsmsY"
      }
    },
    {
      "cell_type": "code",
      "source": [
        "# Deine Lösung hier:\n",
        "print(\"Wer reitet so spät durch Nacht und Wind?\")\n",
        "print(\"Es ist der Vater mit seinem Kind;\")\n",
        "print(\"Er hat den Knaben wohl in dem Arm,\")\n",
        "print(\"Er fasst ihn sicher, er hält ihn warm.\")"
      ],
      "metadata": {
        "id": "Y8Tx7JUotHeJ",
        "colab": {
          "base_uri": "https://localhost:8080/"
        },
        "outputId": "e84ebba1-83b6-4ad8-eee2-10bd3c6a186b"
      },
      "execution_count": null,
      "outputs": [
        {
          "output_type": "stream",
          "name": "stdout",
          "text": [
            "Wer reitet so spät durch Nacht und Wind?\n",
            "Es ist der Vater mit seinem Kind;\n",
            "Er hat den Knaben wohl in dem Arm,\n",
            "Er fasst ihn sicher, er hält ihn warm.\n"
          ]
        }
      ]
    },
    {
      "cell_type": "code",
      "source": [
        "print(\"Wer reitet so spät durch Nacht und Wind?\\\n",
        "Es ist der Vater mit seinem Kind;\\\n",
        "Er hat den Knaben wohl in dem Arm,\\\n",
        "Er fasst ihn sicher, er hält ihn warm.\")"
      ],
      "metadata": {
        "colab": {
          "base_uri": "https://localhost:8080/"
        },
        "id": "WUleJhCsle22",
        "outputId": "aa24158a-b286-4158-f10d-558e57ca2b89"
      },
      "execution_count": null,
      "outputs": [
        {
          "output_type": "stream",
          "name": "stdout",
          "text": [
            "Wer reitet so spät durch Nacht und Wind?Es ist der Vater mit seinem Kind;Er hat den Knaben wohl in dem Arm,Er fasst ihn sicher, er hält ihn warm.\n"
          ]
        }
      ]
    },
    {
      "cell_type": "code",
      "source": [
        "print(\"Wer reitet so spät durch Nacht und Wind?\\n\\\n",
        "Es ist der Vater \\nmit seinem Kind;\\n\\\n",
        "Er hat den Knaben wohl in dem Arm,\\n\\\n",
        "Er fasst ihn sicher, er hält ihn warm.\")"
      ],
      "metadata": {
        "colab": {
          "base_uri": "https://localhost:8080/"
        },
        "id": "-OU5tDp-mQHc",
        "outputId": "3409669d-95ec-4007-c9b7-73b7430dbe42"
      },
      "execution_count": null,
      "outputs": [
        {
          "output_type": "stream",
          "name": "stdout",
          "text": [
            "Wer reitet so spät durch Nacht und Wind?\n",
            "Es ist der Vater \n",
            "mit seinem Kind;\n",
            "Er hat den Knaben wohl in dem Arm,\n",
            "Er fasst ihn sicher, er hält ihn warm.\n"
          ]
        }
      ]
    },
    {
      "cell_type": "code",
      "source": [
        "print(\"\"\"Wer reitet so spät durch Nacht und Wind?\n",
        "Es ist der Vater mit seinem Kind;\n",
        "Er hat den Knaben wohl in dem Arm,\n",
        "Er fasst ihn sicher, er hält ihn warm.\"\"\")"
      ],
      "metadata": {
        "colab": {
          "base_uri": "https://localhost:8080/"
        },
        "id": "BJWHhp80nGV7",
        "outputId": "e0c2c549-997c-4719-f8ec-edff4841d96c"
      },
      "execution_count": null,
      "outputs": [
        {
          "output_type": "stream",
          "name": "stdout",
          "text": [
            "Wer reitet so spät durch Nacht und Wind?\n",
            "Es ist der Vater mit seinem Kind;\n",
            "Er hat den Knaben wohl in dem Arm,\n",
            "Er fasst ihn sicher, er hält ihn warm.\n"
          ]
        }
      ]
    },
    {
      "cell_type": "markdown",
      "source": [
        "## 6. Arithmetische Operationen\n",
        "\n",
        "Du kannst auch arithmetische Operationen innerhalb des Print-Befehls ausführen.\n",
        "Zum Beispiel:\n"
      ],
      "metadata": {
        "id": "5SxP2BnAtJLn"
      }
    },
    {
      "cell_type": "code",
      "source": [
        "print(2 + 5)   # Addition\n",
        "print(3 * 3)   # Multiplikation\n",
        "print(2 + 2 * 10)  # Punkt-vor-Strich-Rechnung"
      ],
      "metadata": {
        "id": "yjDbnhk1tUNO",
        "colab": {
          "base_uri": "https://localhost:8080/"
        },
        "outputId": "59a7aa45-4126-47d7-869a-99912fbf3273"
      },
      "execution_count": null,
      "outputs": [
        {
          "output_type": "stream",
          "name": "stdout",
          "text": [
            "7\n",
            "9\n",
            "22\n"
          ]
        }
      ]
    },
    {
      "cell_type": "markdown",
      "source": [
        "### Hinweis: Achte darauf, dass keine Anführungszeichen um die arithmetischen Operationen gesetzt werden.\n",
        "Arithmetische Operationen werden anders behandelt als Strings."
      ],
      "metadata": {
        "id": "TCSUw6IUtZJ7"
      }
    },
    {
      "cell_type": "code",
      "source": [
        "# Beispiel mit und ohne Anführungszeichen:\n",
        "print(2 + 2 * 10)  # Berechnet den Wert\n",
        "print(\"2 + 2 * 10\")  # Gibt den Ausdruck als Text aus, ohne ihn zu berechnen"
      ],
      "metadata": {
        "id": "g56iHTSrtdJe",
        "colab": {
          "base_uri": "https://localhost:8080/"
        },
        "outputId": "0fb1f2b9-f800-49ea-e32a-8dee5704e32e"
      },
      "execution_count": null,
      "outputs": [
        {
          "output_type": "stream",
          "name": "stdout",
          "text": [
            "22\n",
            "2 + 2 * 10\n"
          ]
        }
      ]
    },
    {
      "cell_type": "code",
      "source": [],
      "metadata": {
        "id": "z8tkCUUOn2fy"
      },
      "execution_count": null,
      "outputs": []
    },
    {
      "cell_type": "markdown",
      "source": [
        "## 7. Kommentare\n",
        "Jede Zeile, die mit einem # beginnt, ist ein Kommentar und wird vom Programm ignoriert.\n"
      ],
      "metadata": {
        "id": "cj0hzl-ptf4a"
      }
    },
    {
      "cell_type": "code",
      "source": [
        "# Kommentare helfen, den Code zu erklären und für andere verständlich zu machen.\n",
        "print(\"Stunden im Jahr:\")\n",
        "# In einem Jahr gibt es 365 Tage und 24 Stunden an jedem Tag.\n",
        "print(365 * 24)"
      ],
      "metadata": {
        "id": "6yyDsxEXtj4a"
      },
      "execution_count": null,
      "outputs": []
    },
    {
      "cell_type": "markdown",
      "source": [
        "## 8. Programmierübung: Minuten im Jahr\n",
        " Schreibe ein Programm, das die Anzahl der Minuten in einem Jahr berechnet.\n",
        " Tipp: Multipliziere 365 Tage mit 24 Stunden und 60 Minuten pro Stunde.\n"
      ],
      "metadata": {
        "id": "h-CVgk8AtnAp"
      }
    },
    {
      "cell_type": "code",
      "source": [
        "# Deine Lösung hier:\n",
        "tage_jahr = 365\n",
        "stunden_pro_tag = 24\n",
        "minuten_pro_stunde = 60\n",
        "# print((365*24)*60)\n",
        "minuten_jahr = tage_jahr*stunden_pro_tag*minuten_pro_stunde\n",
        "print (\"Anzahl der minuten in einem Jahr\", minuten_jahr)"
      ],
      "metadata": {
        "id": "4nK984tztrMz",
        "colab": {
          "base_uri": "https://localhost:8080/"
        },
        "outputId": "9836800d-56cf-4799-fbd5-11396a437a16"
      },
      "execution_count": null,
      "outputs": [
        {
          "output_type": "stream",
          "name": "stdout",
          "text": [
            "Anzahl der minuten in einem Jahr 525600\n"
          ]
        }
      ]
    },
    {
      "cell_type": "markdown",
      "source": [
        "---\n",
        "\n",
        "# Teil 2: es geht weiter\n",
        "\n",
        "### 3. Input - Eingabe"
      ],
      "metadata": {
        "id": "ALwdD9mmuuy4"
      }
    },
    {
      "cell_type": "markdown",
      "source": [
        "**Eingabe** bezieht sich auf alle Informationen, die ein Benutzer dem Programm gibt. Insbesondere `input` liest der Python-Befehl eine vom Benutzer eingegebene Eingabezeile ein. Er kann auch verwendet werden, um dem Benutzer eine Nachricht anzuzeigen, um ihn zur Eingabe einer bestimmten Eingabe aufzufordern.\n",
        "\n",
        "Das folgende Programm liest den Namen des Benutzers mit dem inputBefehl ein. Anschließend druckt es ihn mit dem printBefehl aus:"
      ],
      "metadata": {
        "id": "CgwJR7vO4Jzc"
      }
    },
    {
      "cell_type": "code",
      "source": [
        "name = input(\"Wie lautet dein Name? \")\n",
        "print(\"Halli Hallo, \" + name)"
      ],
      "metadata": {
        "id": "GHM5UYIo4iZ0",
        "colab": {
          "base_uri": "https://localhost:8080/"
        },
        "outputId": "89243fd9-9f1d-4706-9344-4dcafe59fbd6"
      },
      "execution_count": null,
      "outputs": [
        {
          "output_type": "stream",
          "name": "stdout",
          "text": [
            "Wie lautet dein Name? Thor\n",
            "Halli Hallo, Thor\n"
          ]
        }
      ]
    },
    {
      "cell_type": "markdown",
      "source": [
        "Das Wort `name `in diesem Programm ist eine Variable . Im Kontext der Programmierung ist eine **Variable** ein Ort zum Speichern eines Wertes , beispielsweise einer Zeichenfolge oder einer Zahl. Dieser Wert kann später verwendet und auch geändert werden.\n",
        "\n",
        "Es ist eine gängige internationale Programmierpraxis, Variablen auf Englisch zu benennen. Der Name der Variable hat keine direkte Auswirkung auf ihren Inhalt, daher ist der Name in diesem Sinne nicht wichtig. Es kann jedoch oft hilfreich sein, die Funktionsweise von Code zu verstehen, wenn Variablen logisch und auf Englisch benannt sind."
      ],
      "metadata": {
        "id": "8FXHOoQe4xWQ"
      }
    },
    {
      "cell_type": "markdown",
      "source": [
        "Auf eine einzelne Variable kann in einem Programm viele Male verwiesen werden:\n",
        "\n"
      ],
      "metadata": {
        "id": "SESV7n4P5CVJ"
      }
    },
    {
      "cell_type": "code",
      "source": [
        "name = input(\"Wie lautet dein Name? \")\n",
        "\n",
        "print(\"Hi, \" + name + \"!\")\n",
        "print(name + \" ist ein wirklich schöner Name.\")"
      ],
      "metadata": {
        "id": "U1CBkk-c5EE2",
        "colab": {
          "base_uri": "https://localhost:8080/"
        },
        "outputId": "baa9e2d5-f7ad-4098-feee-00a9b30a36b8"
      },
      "execution_count": null,
      "outputs": [
        {
          "output_type": "stream",
          "name": "stdout",
          "text": [
            "Wie lautet dein Name? Thor\n",
            "Hi, Thor!\n",
            "Thor ist ein wirklich schöner Name.\n"
          ]
        }
      ]
    },
    {
      "cell_type": "markdown",
      "source": [
        "### Übung\n",
        "\n",
        "Schreibe ein Programm, dass den eingegebenen Namen mehrmals nutzt\n",
        "\n",
        "Beispielausgabe:\n",
        "\n",
        "```\n",
        "Wie heißt du? Ellen Musterfrau\n",
        "Hallo Ellen Musterfrau! Nur damit ich sichergehe: Du heißt Ellen Musterfrau?\n",
        "\n",
        "```\n",
        "\n"
      ],
      "metadata": {
        "id": "1S5_nK3G5QDh"
      }
    },
    {
      "cell_type": "code",
      "source": [
        "# Dein Code hier\n",
        "name = input(\"Wie heißt du? \")\n",
        "print(\"Hallo \" + name + \"! Nur damit ich sichergehe: Du heißt \" + name + \"?\")"
      ],
      "metadata": {
        "id": "Wk6phnHS5mP2",
        "colab": {
          "base_uri": "https://localhost:8080/"
        },
        "outputId": "68b8b1d3-18b2-4e70-c7dd-48cccff75ce0"
      },
      "execution_count": null,
      "outputs": [
        {
          "output_type": "stream",
          "name": "stdout",
          "text": [
            "Wie heißt du? thor\n",
            "Hallo thor! Nur damit ich sichergehe: Du heißt thor?\n"
          ]
        }
      ]
    },
    {
      "cell_type": "markdown",
      "source": [
        "Ein Programm kann mehr als eine Eingabe anfordern. Beachte, dass unten jeder input Befehl den empfangenen Wert in einer anderen Variablen speichert."
      ],
      "metadata": {
        "id": "DxZuvqE85x-Z"
      }
    },
    {
      "cell_type": "code",
      "source": [
        "name = input(\"Wie lautet dein Name? \")\n",
        "email = input(\"Wie lautet deine Email Addresse? \")\n",
        "nickname = input(\"Wie lautet dein Nickname? \")\n",
        "\n",
        "print(\"Lass uns sicher gehen, dass wir alles korrekt haben\")\n",
        "print(\"Dein Name: \" + name)\n",
        "print(\"Deine Email Adresse: \" + email)\n",
        "print(\"Dein Nickname: \" + nickname)"
      ],
      "metadata": {
        "id": "EPzSMo-_54Qg",
        "colab": {
          "base_uri": "https://localhost:8080/"
        },
        "outputId": "a362cf95-ebc4-4731-e8d4-134d3e38400a"
      },
      "execution_count": null,
      "outputs": [
        {
          "output_type": "stream",
          "name": "stdout",
          "text": [
            "Wie lautet dein Name? thor\n",
            "Wie lautet deine Email Addresse? @\n",
            "Wie lautet dein Nickname? t\n",
            "Lass uns sicher gehen, dass wir alles korrekt haben\n",
            "Dein Name: thor\n",
            "Deine Email Adresse: @\n",
            "Dein Nickname: t\n"
          ]
        }
      ]
    },
    {
      "cell_type": "markdown",
      "source": [
        "Wenn dieselbe Variable zum Speichern mehrerer Eingaben verwendet wird, ersetzt jeder neue Wert den vorherigen.\n",
        "\n",
        "Beispiel:"
      ],
      "metadata": {
        "id": "vSQM5tr66UDa"
      }
    },
    {
      "cell_type": "code",
      "source": [
        "address = input(\"Wie lautet deine Adresse? \")\n",
        "print(\"Du lebst also aktuell hier: \" + address)\n",
        "\n",
        "address = input(\"Tippe bitte deine neue Adresse ein: \")\n",
        "print(\"Dein neuer Wohnort lautet \" + address)"
      ],
      "metadata": {
        "id": "mVpld8ac6mT9",
        "colab": {
          "base_uri": "https://localhost:8080/"
        },
        "outputId": "e9525c13-60bd-4671-ecc8-f46b1f13c914"
      },
      "execution_count": null,
      "outputs": [
        {
          "output_type": "stream",
          "name": "stdout",
          "text": [
            "Wie lautet deine Adresse? köln\n",
            "Du lebst also aktuell hier: köln\n",
            "Tippe bitte deine neue Adresse ein: berlin\n",
            "Dein neuer Wohnort lautet berlin\n"
          ]
        }
      ]
    },
    {
      "cell_type": "markdown",
      "source": [
        "### Übung\n",
        "Schreibe ein Programm, das nach dem Namen und der Adresse des Benutzers fragt. Das Programm sollte die angegebenen Informationen auch ausdrucken, und zwar wie folgt\n",
        "\n",
        "\n",
        "\n",
        "```\n",
        "Vorname: Steve\n",
        "Nachname: Sanders\n",
        "Straße und Hausnummer: Musterstraße 8\n",
        "Stadt und Postleitzahl: 07545 München\n",
        "Steve Sanders Musterstraße 9 07545 München\n",
        "```\n",
        "\n"
      ],
      "metadata": {
        "id": "AF5iY5S561bg"
      }
    },
    {
      "cell_type": "code",
      "source": [
        "# Dein Code hier\n",
        "vorname = input(\"Wie lautet dein Vorname? \")\n",
        "nachname = input(\"Wie lautet dein Nachname? \")\n",
        "straße_und_hausnummer = input(\"Wie lautet deine Straße und Hausnummer (Musterstraße 8) ? \")\n",
        "stadt_und_postleitzahl = input(\"Wie lautet deine postleitzahl und deine Stadt? \")\n",
        "print(\"vorname:\" , vorname)\n",
        "print(\"nachname:\" , nachname)\n",
        "print(\"straße und hausnummer:\" , straße_und_hausnummer)\n",
        "print(\"stadt und postleitzahl:\" , stadt_und_postleitzahl)\n",
        "print(vorname, nachname, straße_und_hausnummer, stadt_und_postleitzahl)"
      ],
      "metadata": {
        "id": "BcyLleiX7HcM",
        "colab": {
          "base_uri": "https://localhost:8080/"
        },
        "outputId": "e89f2476-f1ad-44d1-d932-1ae355c18aa4"
      },
      "execution_count": null,
      "outputs": [
        {
          "output_type": "stream",
          "name": "stdout",
          "text": [
            "Wie lautet dein Vorname? Thor\n",
            "Wie lautet dein Nachname? Groth\n",
            "Wie lautet deine Straße und Hausnummer (Musterstraße 8) ? Brühler 1b\n",
            "Wie lautet deine postleitzahl und deine Stadt? 50968 Köln\n",
            "vorname: Thor\n",
            "nachname: Groth\n",
            "straße und hausnummer: Brühler 1b\n",
            "stadt und postleitzahl: 50968 Köln\n",
            "Thor Groth Brühler 1b 50968 Köln\n"
          ]
        }
      ]
    },
    {
      "cell_type": "markdown",
      "source": [
        "### Übung 2\n",
        "\n",
        "Schreiben ein Programm, das folgende Geschichte ausgibt. Der Benutzer gibt einen Namen und eine Jahreszahl an, die in den Ausdruck eingefügt werden sollen.\n",
        "\n",
        "\n",
        "\n",
        "```\n",
        "Bitte geben Sie einen Namen ein: Mary\n",
        "Bitte geben Sie ein Jahr ein: 1572\n",
        "\n",
        "Mary ist eine tapfere Ritterin, geboren im Jahr 1572. Eines Morgens wurde Mary von einem schrecklichen Lärm geweckt: Ein Drache näherte sich dem Dorf. Nur Mary konnte die Dorfbewohner retten.\n",
        "```\n",
        "\n"
      ],
      "metadata": {
        "id": "IVeW7JHu7Ntn"
      }
    },
    {
      "cell_type": "code",
      "source": [
        "# Dein Code hier\n",
        "name = input(\"Bitte geben sie einen namen ein: \")\n",
        "jahr = input(\"Bitte geben sie eine Jahr ein: \")\n",
        "print(name + \" ist eine tapfere Ritterin, geboren im Jahr \" + jahr + \". Eines Morgens wurde \" + name + \" von einem schrecklichen Lärm geweckt: Ein Drache näherte sich dem Dorf. Nur \" + name + \" konnte die Dorfbewohner retten.\")"
      ],
      "metadata": {
        "id": "Zy7TcUdZ7c6e",
        "colab": {
          "base_uri": "https://localhost:8080/"
        },
        "outputId": "661a7e81-07ea-4723-9278-86aa63c045e3"
      },
      "execution_count": null,
      "outputs": [
        {
          "output_type": "stream",
          "name": "stdout",
          "text": [
            "Bitte geben sie einen namen ein: Helen\n",
            "Bitte geben sie eine Jahr ein: 2025\n",
            "Helen ist eine tapfere Ritterin, geboren im Jahr 2025. Eines Morgens wurde Helen von einem schrecklichen Lärm geweckt: Ein Drache näherte sich dem Dorf. Nur Helen konnte die Dorfbewohner retten.\n"
          ]
        }
      ]
    },
    {
      "cell_type": "markdown",
      "source": [
        "-----\n",
        "\n",
        "# Teil 3: Variablen\n",
        "\n"
      ],
      "metadata": {
        "id": "2XhAMNq17or7"
      }
    },
    {
      "cell_type": "markdown",
      "source": [
        "## Ganze Zahlen\n",
        "\n",
        "Bisher haben wir nur Zeichenfolgen in Variablen gespeichert, aber es gibt auch viele andere Arten von Informationen, die wir speichern und später abrufen möchten. Schauen wir uns zuerst ganze Zahlen an. Ganze Zahlen sind Zahlen, die weder einen Dezimal- noch einen Bruchteil haben, wie beispielsweise -15, 0 und 1.\n",
        "\n",
        "Das folgende Programm erstellt die Variable age, die einen ganzzahligen Wert enthält."
      ],
      "metadata": {
        "id": "Hqb_teab7tK9"
      }
    },
    {
      "cell_type": "code",
      "source": [
        "age = 24\n",
        "print(age)"
      ],
      "metadata": {
        "id": "IIwB3nkx78Dc",
        "colab": {
          "base_uri": "https://localhost:8080/"
        },
        "outputId": "3c8f2e85-4ca4-462d-8aa2-10ae834797c2"
      },
      "execution_count": null,
      "outputs": [
        {
          "output_type": "stream",
          "name": "stdout",
          "text": [
            "24\n"
          ]
        }
      ]
    },
    {
      "cell_type": "markdown",
      "source": [
        "Beachte, dass hier keine Anführungszeichen stehen. Wenn wir die Zahl in Anführungszeichen setzen würden, wäre unsere Variable keine Ganzzahl mehr, sondern eine Zeichenfolge. Eine Zeichenfolge kann Zahlen enthalten, wird aber anders verarbeitet.\n",
        "\n",
        "Warum ist es also wichtig, dass Variablen einen Typ haben, wenn das folgende Programm trotzdem zweimal dasselbe ausgibt?"
      ],
      "metadata": {
        "id": "6ATPhFvX7-tn"
      }
    },
    {
      "cell_type": "code",
      "source": [
        "number1 = 100\n",
        "number2 = \"100\"\n",
        "\n",
        "print(number1)\n",
        "print(number2)"
      ],
      "metadata": {
        "id": "kiccCbMt8C_j",
        "colab": {
          "base_uri": "https://localhost:8080/"
        },
        "outputId": "e921ef9b-db26-48e9-cd85-ddee8246ae61"
      },
      "execution_count": null,
      "outputs": [
        {
          "output_type": "stream",
          "name": "stdout",
          "text": [
            "100\n",
            "100\n"
          ]
        }
      ]
    },
    {
      "cell_type": "markdown",
      "source": [
        "Variablentypen sind wichtig, weil unterschiedliche Operationen unterschiedliche Variablentypen auf unterschiedliche Weise beeinflussen. Sehen wir uns ein Beispiel an:"
      ],
      "metadata": {
        "id": "TB2lMQ0U8F7j"
      }
    },
    {
      "cell_type": "code",
      "source": [
        "number1 = 100\n",
        "number2 = \"100\"\n",
        "\n",
        "print(number1 + number1)\n",
        "print(number2 + number2)"
      ],
      "metadata": {
        "id": "5z5cUjdN8IQh",
        "colab": {
          "base_uri": "https://localhost:8080/"
        },
        "outputId": "acfa70d0-427d-4a8e-cc5e-5e94456dd9e8"
      },
      "execution_count": null,
      "outputs": [
        {
          "output_type": "stream",
          "name": "stdout",
          "text": [
            "200\n",
            "100100\n"
          ]
        }
      ]
    },
    {
      "cell_type": "markdown",
      "source": [
        "Bei ganzzahligen Werten +bedeutet der Operator eine Addition, bei Zeichenfolgenwerten jedoch eine Verkettung oder „Aneinanderreihung“.\n",
        "\n",
        "Nicht alle Operatoren sind für alle Variablentypen verfügbar. Zahlen können zwar mit dem Divisionsoperator dividiert werden /, der Versuch, einen String durch eine Zahl zu dividieren, führt jedoch zu einem Fehler:"
      ],
      "metadata": {
        "id": "__DHWlGF8Lx0"
      }
    },
    {
      "cell_type": "code",
      "source": [
        "number = \"100\"\n",
        "print(number / 2)"
      ],
      "metadata": {
        "id": "R9bNaWC-8OBc",
        "colab": {
          "base_uri": "https://localhost:8080/",
          "height": 158
        },
        "outputId": "3d14c5cc-cf39-41e4-8ec0-607a5352cc31"
      },
      "execution_count": null,
      "outputs": [
        {
          "output_type": "error",
          "ename": "TypeError",
          "evalue": "unsupported operand type(s) for /: 'str' and 'int'",
          "traceback": [
            "\u001b[0;31m---------------------------------------------------------------------------\u001b[0m",
            "\u001b[0;31mTypeError\u001b[0m                                 Traceback (most recent call last)",
            "\u001b[0;32m<ipython-input-50-69085c366a1c>\u001b[0m in \u001b[0;36m<cell line: 0>\u001b[0;34m()\u001b[0m\n\u001b[1;32m      1\u001b[0m \u001b[0mnumber\u001b[0m \u001b[0;34m=\u001b[0m \u001b[0;34m\"100\"\u001b[0m\u001b[0;34m\u001b[0m\u001b[0;34m\u001b[0m\u001b[0m\n\u001b[0;32m----> 2\u001b[0;31m \u001b[0mprint\u001b[0m\u001b[0;34m(\u001b[0m\u001b[0mnumber\u001b[0m \u001b[0;34m/\u001b[0m \u001b[0;36m2\u001b[0m\u001b[0;34m)\u001b[0m\u001b[0;34m\u001b[0m\u001b[0;34m\u001b[0m\u001b[0m\n\u001b[0m",
            "\u001b[0;31mTypeError\u001b[0m: unsupported operand type(s) for /: 'str' and 'int'"
          ]
        }
      ]
    },
    {
      "cell_type": "markdown",
      "source": [
        "### Kombinieren von Werten bei der print Funktion\n",
        "\n",
        "Ebenso wird das folgende Programm nicht funktionieren, da es zwei verschiedene Typen von `Das Ergebnis ist` und `result` gibt"
      ],
      "metadata": {
        "id": "U97yrzaL8SkL"
      }
    },
    {
      "cell_type": "code",
      "source": [
        "result = 10 * 25\n",
        "# die folgende Zeile erzeugt einen Fehler\n",
        "print(result)\n",
        "print(\"Das Ergebnis ist \" + result)"
      ],
      "metadata": {
        "id": "C2PcAJ-M8mXP",
        "colab": {
          "base_uri": "https://localhost:8080/",
          "height": 193
        },
        "outputId": "c8635576-33c4-4633-ea32-9f2e096f7bcf"
      },
      "execution_count": null,
      "outputs": [
        {
          "output_type": "stream",
          "name": "stdout",
          "text": [
            "250\n"
          ]
        },
        {
          "output_type": "error",
          "ename": "TypeError",
          "evalue": "can only concatenate str (not \"int\") to str",
          "traceback": [
            "\u001b[0;31m---------------------------------------------------------------------------\u001b[0m",
            "\u001b[0;31mTypeError\u001b[0m                                 Traceback (most recent call last)",
            "\u001b[0;32m<ipython-input-52-2608cce0dacf>\u001b[0m in \u001b[0;36m<cell line: 0>\u001b[0;34m()\u001b[0m\n\u001b[1;32m      2\u001b[0m \u001b[0;31m# die folgende Zeile erzeugt einen Fehler\u001b[0m\u001b[0;34m\u001b[0m\u001b[0;34m\u001b[0m\u001b[0m\n\u001b[1;32m      3\u001b[0m \u001b[0mprint\u001b[0m\u001b[0;34m(\u001b[0m\u001b[0mresult\u001b[0m\u001b[0;34m)\u001b[0m\u001b[0;34m\u001b[0m\u001b[0;34m\u001b[0m\u001b[0m\n\u001b[0;32m----> 4\u001b[0;31m \u001b[0mprint\u001b[0m\u001b[0;34m(\u001b[0m\u001b[0;34m\"Das Ergebnis ist \"\u001b[0m \u001b[0;34m+\u001b[0m \u001b[0mresult\u001b[0m\u001b[0;34m)\u001b[0m\u001b[0;34m\u001b[0m\u001b[0;34m\u001b[0m\u001b[0m\n\u001b[0m",
            "\u001b[0;31mTypeError\u001b[0m: can only concatenate str (not \"int\") to str"
          ]
        }
      ]
    },
    {
      "cell_type": "markdown",
      "source": [
        "Hier sagt uns Python, dass die Kombination zweier unterschiedlicher Wertetypen nicht einfach so funktioniert. In diesem Fall `Das Ergebnis ist` ist vom Typ **String**, während der in gespeicherte Wert `result` vom Typ **Integer** ist.\n",
        "\n",
        "Wenn wir einen String und einen Integer in einem einzigen Befehl ausgeben möchten, kann der Integer mit der `str`Funktion in einen String umgewandelt werden und die beiden Strings können dann normal kombiniert werden. So würde es beispielsweise funktionieren:"
      ],
      "metadata": {
        "id": "0-gr0PeT8xFX"
      }
    },
    {
      "cell_type": "code",
      "source": [
        "result = 10 * 25\n",
        "print(\"Das Ergebnis ist \" + str(result))"
      ],
      "metadata": {
        "id": "zlw7n0Wh8-HK",
        "colab": {
          "base_uri": "https://localhost:8080/"
        },
        "outputId": "785db21d-63d6-41dc-dc43-f34b3503bb51"
      },
      "execution_count": null,
      "outputs": [
        {
          "output_type": "stream",
          "name": "stdout",
          "text": [
            "Das Ergebnis ist 250\n"
          ]
        }
      ]
    },
    {
      "cell_type": "markdown",
      "source": [
        "Der `print`Befehl verfügt auch über integrierte Funktionen, die das Kombinieren verschiedener Wertetypen unterstützen. Am einfachsten geht das, indem man zwischen den Werten ein Komma einfügen. Alle Werte werden unabhängig von ihrem Typ ausgedruckt:"
      ],
      "metadata": {
        "id": "jBiMgg2_9D9w"
      }
    },
    {
      "cell_type": "code",
      "source": [
        "result = 10 * 25\n",
        "print(\"Das Ergebnis ist\", result)"
      ],
      "metadata": {
        "id": "xgrrIRtc9IsX",
        "colab": {
          "base_uri": "https://localhost:8080/"
        },
        "outputId": "28a22f5f-4137-43be-bb8b-1a8ce8af9cc0"
      },
      "execution_count": null,
      "outputs": [
        {
          "output_type": "stream",
          "name": "stdout",
          "text": [
            "Das Ergebnis ist 250\n"
          ]
        }
      ]
    },
    {
      "cell_type": "markdown",
      "source": [
        "**Beachte**, dass hier zwischen den durch Komma getrennten Werten automatisch ein Leerzeichen eingefügt wird."
      ],
      "metadata": {
        "id": "cKixtLXd9QLQ"
      }
    },
    {
      "cell_type": "markdown",
      "source": [
        "#### `print` mit F-Strings"
      ],
      "metadata": {
        "id": "uC-ZO_-d9UCM"
      }
    },
    {
      "cell_type": "markdown",
      "source": [
        "Was ist, wenn wir mehr Flexibilität und Kontrolle über das haben möchten, was wir ausdrucken? Sogenannte `F-Strings` sind eine weitere Möglichkeit, Ausdrucke in Python zu formatieren. Die Syntax kann zunächst etwas verwirrend aussehen, aber letztendlich sind `F-Strings` oft die einfachste Möglichkeit, Text zu formatieren.\n",
        "\n",
        "Mit F-Strings würde das vorherige Beispiel folgendermaßen aussehen:"
      ],
      "metadata": {
        "id": "6j9fJmwe9Ygb"
      }
    },
    {
      "cell_type": "code",
      "source": [
        "result = 10 * 25\n",
        "print(f\"Das Ergebnis ist {result}\")"
      ],
      "metadata": {
        "id": "U5PN1TgE9hA7",
        "colab": {
          "base_uri": "https://localhost:8080/"
        },
        "outputId": "eb45c99b-4f4a-44d1-9752-f5af737285fd"
      },
      "execution_count": null,
      "outputs": [
        {
          "output_type": "stream",
          "name": "stdout",
          "text": [
            "Das Ergebnis ist 250\n"
          ]
        }
      ]
    },
    {
      "cell_type": "markdown",
      "source": [
        "Ein einzelner F-String kann mehrere Variablen enthalten. Zum Beispiel dieser Code"
      ],
      "metadata": {
        "id": "7a8R03rG9s3Y"
      }
    },
    {
      "cell_type": "code",
      "source": [
        "name = \"Mark\"\n",
        "age = 37\n",
        "city = \"Palo Alto\"\n",
        "größe = 1.75\n",
        "print(f\"Hi {name}, du bist {age} Jahre, in etwa {größe}m groß. Du lebst in {city}.\")"
      ],
      "metadata": {
        "id": "HSuyecoD9lzN",
        "colab": {
          "base_uri": "https://localhost:8080/"
        },
        "outputId": "a87a5d55-3058-4135-c190-4ff89ecb5d51"
      },
      "execution_count": null,
      "outputs": [
        {
          "output_type": "stream",
          "name": "stdout",
          "text": [
            "Hi {name}, du bist {age} Jahre, in etwa {größe}m groß. Du lebst in {city}.\n"
          ]
        }
      ]
    },
    {
      "cell_type": "markdown",
      "source": [
        "Beachte das automatisch eingefügte Leerzeichen zwischen jedem durch Kommas getrennten Teil des Ausdrucks.\n",
        "\n",
        "In ihrer Einfachheit kann die Komma-Notation des `print`Befehls oft nützlich sein, aber manchmal macht sie mehr Ärger als sie wert ist. `F-Strings` sind normalerweise eine zuverlässigere Option."
      ],
      "metadata": {
        "id": "-mUHMsYZ9zBT"
      }
    },
    {
      "cell_type": "markdown",
      "source": [
        "### Übung\n",
        "\n",
        "Ihre Freundin arbeitet an einer App für Arbeitssuchende. Sie schickt Ihnen diesen Code:\n",
        "\n",
        "\n",
        "```\n",
        "name = \"Tim Tester\"\n",
        "age = 20\n",
        "skill1 = \"python\"\n",
        "level1 = \"beginner\"\n",
        "skill2 = \"java\"\n",
        "level2 = \"veteran\"\n",
        "skill3 = \"programming\"\n",
        "level3 = \"semiprofessional\"\n",
        "lower = 2000\n",
        "upper = 3000\n",
        "\n",
        "print(\"Mein Name ist \", name, \" , ich bin \", age, \"Jahre alt\")\n",
        "print(\"Meine Fähigkeiten sind\")\n",
        "print(\"- \", skill1, \" (\", level1, \")\")\n",
        "print(\"- \", skill2, \" (\", level2, \")\")\n",
        "print(\"- \", skill3, \" (\", level3, \" )\")\n",
        "print(\"Ich suche einen Job mit einem Gehalt zwischen\", lower, \"-\", upper, \"Euro pro Monat\")\n",
        "```\n",
        "\n",
        "Die Ausgabe sollte wie folgt sein\n",
        "\n",
        "```\n",
        "Mein Name ist Tim Tester, ich bin 20 Jahre alt\n",
        "\n",
        "Meine Fähigkeiten sind\n",
        " - python (beginner)\n",
        " - Java (Veteran)\n",
        " - Programmieren (semiprofessionell)\n",
        "\n",
        "Ich suche einen Job mit einem Gehalt von 2000-3000 Euro pro Monat\n",
        "```\n",
        "\n",
        "Der Code funktioniert fast richtig, aber nicht ganz.\n",
        "\n",
        "Korrigiere den Code, damit der Ausdruck richtig aussieht. Beachte insbesondere, wie die Komma-Notation im `print`Befehl automatisch ein Leerzeichen um die verschiedenen durch Kommas getrennten Teile einfügt.\n",
        "\n",
        "Der einfachste Weg, den Code so umzuwandeln, dass er die Anforderungen erfüllt, ist die Verwendung von `F-Strings`.\n",
        "\n",
        "Hinweis: Du kannst eine leere Zeile drucken `print`, indem du einen leeren Befehl hinzufügen oder das Zeilenumbruchzeichen `\\n` in deine Zeichenfolge einfügst.\n"
      ],
      "metadata": {
        "id": "uRy1Vp7Z-AIU"
      }
    },
    {
      "cell_type": "code",
      "source": [
        "name = \"Tim Tester\"\n",
        "age = 20\n",
        "skill1 = \"python\"\n",
        "level1 = \"beginner\"\n",
        "skill2 = \"java\"\n",
        "level2 = \"veteran\"\n",
        "skill3 = \"programming\"\n",
        "level3 = \"semiprofessional\"\n",
        "lower = 2000\n",
        "upper = 3000\n",
        "\n",
        "print(\"Mein Name ist \", name, \" , ich bin \", age, \"Jahre alt\\n\")\n",
        "print(\"Meine Fähigkeiten sind\")\n",
        "print(\"- \", skill1, \" (\", level1, \")\")\n",
        "print(\"- \", skill2, \" (\", level2, \")\")\n",
        "print(\"- \", skill3, \" (\", level3, \" )\")\n",
        "print()\n",
        "print(\"Ich suche einen Job mit einem Gehalt zwischen\", lower, \"-\", upper, \"Euro pro Monat\")"
      ],
      "metadata": {
        "id": "5RUz5uc7-kgh",
        "colab": {
          "base_uri": "https://localhost:8080/"
        },
        "outputId": "4550204e-eb88-4581-c852-7d24f1d11ee7"
      },
      "execution_count": null,
      "outputs": [
        {
          "output_type": "stream",
          "name": "stdout",
          "text": [
            "Mein Name ist  Tim Tester  , ich bin  20 Jahre alt\n",
            "\n",
            "Meine Fähigkeiten sind\n",
            "-  python  ( beginner )\n",
            "-  java  ( veteran )\n",
            "-  programming  ( semiprofessional  )\n",
            "\n",
            "Ich suche einen Job mit einem Gehalt zwischen 2000 - 3000 Euro pro Monat\n"
          ]
        }
      ]
    },
    {
      "cell_type": "markdown",
      "source": [
        "## Gleitkommazahlen\n",
        "\n",
        "\n",
        "`Floating point number`oder `Float` ist ein Begriff, der dir beim Programmieren häufig begegnet. Er bezieht sich auf Zahlen mit einem Dezimalpunkt. Sie können ähnlich wie Ganzzahlen verwendet werden.\n",
        "\n",
        "Dieses Programm berechnet den Mittelwert von drei Gleitkommazahlen:"
      ],
      "metadata": {
        "id": "WcjpbO4n_PUq"
      }
    },
    {
      "cell_type": "code",
      "source": [
        "number1 = 2.5\n",
        "number2 = -1.25\n",
        "number3 = 3.62\n",
        "\n",
        "mean = (number1 + number2 + number3) / 3\n",
        "print(f\"Durchschnitt: {mean}\")"
      ],
      "metadata": {
        "id": "fMjxDNMj_ksG",
        "colab": {
          "base_uri": "https://localhost:8080/"
        },
        "outputId": "11f82c91-7956-465e-eb5e-352f7a05f7bd"
      },
      "execution_count": null,
      "outputs": [
        {
          "output_type": "stream",
          "name": "stdout",
          "text": [
            "Durchschnitt: 1.6233333333333333\n"
          ]
        }
      ]
    },
    {
      "cell_type": "markdown",
      "source": [
        "### Übung\n",
        "\n",
        "Dieses Programm enthält bereits zwei Integer-Variablen x und y:\n",
        "\n",
        "```\n",
        "x = 27\n",
        "y = 15\n",
        "```\n",
        "\n",
        "\n",
        "Bitte vervollständige das Programm so, dass es zusätzlich folgendes ausdruckt:\n",
        "\n",
        "Beispielausgabe\n",
        "\n",
        "\n",
        "```\n",
        "27 + 15 = 42\n",
        "27 - 15 = 12\n",
        "27 * 15 = 405\n",
        "27 / 15 = 1.8\n",
        "```\n",
        "\n",
        "\n",
        "\n",
        "Das Programm sollte auch dann korrekt funktionieren, wenn die Werte der Variablen geändert werden. Das heißt, wenn die ersten beiden Zeilen durch Folgendes ersetzt werden:\n",
        "\n",
        "\n",
        "```\n",
        "x = 4\n",
        "y = 9\n",
        "```\n",
        "\n",
        "\n",
        "das Programm sollte folgendes ausdrucken:\n",
        "\n",
        "Beispielausgabe\n",
        "\n",
        "```\n",
        "4 + 9 = 13\n",
        "4 - 9 = -5\n",
        "4 * 9 = 36\n",
        "4 / 9 = 0.4444444444444444\n",
        "```"
      ],
      "metadata": {
        "id": "M1YwzlBw_wqF"
      }
    },
    {
      "cell_type": "code",
      "source": [
        "# Dein Code hier# Dein Code hier\n",
        "x = 27\n",
        "y = 15\n",
        "print(x + y)\n",
        "print(f\"{x} + {y} = {x+y}\")\n",
        "subtraktion = x - y\n",
        "print(str(x) + \" - \" + str(y) + \" = \" + str(subtraktion))\n",
        "print(x, \"*\", y, \"=\", x*y)\n",
        "print(x, \"/\", y, \"=\", x/y)\n",
        "\n",
        "\n"
      ],
      "metadata": {
        "id": "uH_98kMLACy1",
        "colab": {
          "base_uri": "https://localhost:8080/"
        },
        "outputId": "24141b9f-3fe2-4e1d-d381-7a43d5ed8f0f"
      },
      "execution_count": null,
      "outputs": [
        {
          "output_type": "stream",
          "name": "stdout",
          "text": [
            "42\n",
            "27 + 15 = 42\n",
            "27 - 15 = 12\n",
            "27 * 15 = 405\n",
            "27 / 15 = 1.8\n"
          ]
        }
      ]
    },
    {
      "cell_type": "code",
      "source": [
        "x = 2\n",
        "string_x = str(x)\n",
        "print(type(string_x))"
      ],
      "metadata": {
        "colab": {
          "base_uri": "https://localhost:8080/"
        },
        "id": "n1jcyYS8JkAf",
        "outputId": "4c5fae4b-a99b-4f06-e153-41a6eb54d747"
      },
      "execution_count": null,
      "outputs": [
        {
          "output_type": "stream",
          "name": "stdout",
          "text": [
            "<class 'str'>\n"
          ]
        }
      ]
    },
    {
      "cell_type": "markdown",
      "source": [
        "\n",
        "## Arithmetische Operatoren in Python\n",
        "\n",
        "In den vorherigen Abschnitten haben wir Beispiele mit grundlegenden Arithmetikoperationen gesehen. In der folgenden Tabelle siehst du die gebräuchlichsten arithmetischen Operatoren in Python mit Beispielen:\n",
        "\n",
        "| **Operator** | **Zweck**                          | **Beispiel**    | **Ergebnis** |\n",
        "|--------------|------------------------------------|-----------------|--------------|\n",
        "| `+`          | Addition                           | `2 + 4`         | `6`          |\n",
        "| `-`          | Subtraktion                        | `10 - 2.5`      | `7.5`        |\n",
        "| `*`          | Multiplikation                     | `-2 * 123`      | `-246`       |\n",
        "| `/`          | Division (Gleitkommaergebnis)      | `9 / 2`         | `4.5`        |\n",
        "| `//`         | Division (ganzzahliges Ergebnis)   | `9 // 2`        | `4`          |\n",
        "| `%`          | Modulo                             | `9 % 2`         | `1`          |\n",
        "| `**`         | Potenzierung                       | `2 ** 3`        | `8`          |\n",
        "\n",
        "---\n",
        "\n",
        "### Reihenfolge der Rechenoperationen\n",
        "\n",
        "Die Reihenfolge der Rechenoperationen entspricht der aus der Mathematik bekannten Reihenfolge:  \n",
        "1. **Exponenten** berechnen.  \n",
        "2. **Multiplikation und Division**.  \n",
        "3. **Addition und Subtraktion**.  \n",
        "\n",
        "Die Reihenfolge kann durch Klammern verändert werden.\n",
        "\n",
        "#### Beispielcode:\n",
        "\n",
        "```python\n",
        "print(2 + 3 * 3)      # Ohne Klammern\n",
        "print((2 + 3) * 3)    # Mit Klammern\n",
        "```\n",
        "\n",
        "#### Beispielausgabe:\n",
        "```\n",
        "11\n",
        "15\n",
        "```\n",
        "\n",
        "Die Verwendung von Klammern hilft, die gewünschte Reihenfolge der Berechnungen explizit festzulegen."
      ],
      "metadata": {
        "id": "RzEQ692kBD4C"
      }
    },
    {
      "cell_type": "code",
      "source": [
        "print(2 + 3 * 3)\n",
        "print((2 + 3) * 3)"
      ],
      "metadata": {
        "id": "HSscn9DCBVpI",
        "colab": {
          "base_uri": "https://localhost:8080/"
        },
        "outputId": "7fe0b3f8-af8f-438c-d423-8ca8798c8197"
      },
      "execution_count": null,
      "outputs": [
        {
          "output_type": "stream",
          "name": "stdout",
          "text": [
            "11\n",
            "15\n"
          ]
        }
      ]
    },
    {
      "cell_type": "markdown",
      "source": [
        "### Operanden, Operatoren und Datentypen\n",
        "Eine Berechnung besteht normalerweise aus Operanden und Operatoren :\n",
        "\n",
        "![1_4_1.png](data:image/png;base64,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)"
      ],
      "metadata": {
        "id": "0HYlPYC_BdQQ"
      }
    },
    {
      "cell_type": "markdown",
      "source": [
        "Der Datentyp eines Operanden bestimmt normalerweise den Datentyp des Ergebnisses: Wenn zwei Ganzzahlen addiert werden, ist das Ergebnis ebenfalls eine Ganzzahl. Wenn eine Gleitkommazahl von einer anderen Gleitkommazahl subtrahiert wird, ist das Ergebnis eine Gleitkommazahl. Tatsächlich ist das Ergebnis auch eine Gleitkommazahl, wenn einer der Operanden in einem Ausdruck eine Gleitkommazahl ist, unabhängig von den anderen Operanden.\n",
        "\n",
        "Eine Ausnahme von dieser Regel ist die Division /. Ihr Ergebnis ist eine Gleitkommazahl, auch wenn die Operanden Ganzzahlen sind. Beispielsweise 1 / 5ergibt die Division die Gleitkommazahl 0.2.\n",
        "\n",
        "Beispiel:"
      ],
      "metadata": {
        "id": "5BMkU2bVBsVq"
      }
    },
    {
      "cell_type": "code",
      "source": [
        "height = 172.5\n",
        "weight = 68.55\n",
        "\n",
        "# Der Body Mass Index (BMI) wird berechnet, indem die Körpermasse durch das Quadrat der Körpergröße geteilt wird.\n",
        "# Die Höhe wird in der Formel in Meter umgerechnet\n",
        "bmi = weight / (height / 100) ** 2\n",
        "\n",
        "print(f\"The BMI is {bmi}\")"
      ],
      "metadata": {
        "id": "fNNj38F5BxGV",
        "colab": {
          "base_uri": "https://localhost:8080/"
        },
        "outputId": "8d9279c6-8773-4baa-ac55-8691aebf053e"
      },
      "execution_count": null,
      "outputs": [
        {
          "output_type": "stream",
          "name": "stdout",
          "text": [
            "The BMI is 23.037177063642087\n"
          ]
        }
      ]
    },
    {
      "cell_type": "markdown",
      "source": [
        "Beachte, dass Python auch einen Ganzzahldivisionsoperator hat //. Wenn die Operanden Ganzzahlen sind, wird eine Ganzzahl erzeugt. Das Ergebnis wird auf die nächste Ganzzahl abgerundet. Dieses Programm beispielsweise"
      ],
      "metadata": {
        "id": "ntk0ieKiB8xO"
      }
    },
    {
      "cell_type": "code",
      "source": [
        "x = 3\n",
        "y = 2\n",
        "\n",
        "print(f\"/ operator {x/y}\")\n",
        "print(f\"// operator {x//y}\")"
      ],
      "metadata": {
        "id": "HvpDtcoIB_pA",
        "colab": {
          "base_uri": "https://localhost:8080/"
        },
        "outputId": "bed1b664-7f0d-4708-a449-7c495f4bd411"
      },
      "execution_count": null,
      "outputs": [
        {
          "output_type": "stream",
          "name": "stdout",
          "text": [
            "/ operator 1.5\n",
            "// operator 1\n"
          ]
        }
      ]
    },
    {
      "cell_type": "markdown",
      "source": [
        "Wir haben den `input`Befehl bereits verwendet, um Zeichenfolgen vom Benutzer einzulesen. Die gleiche Funktion kann auch zum Einlesen von Zahlen verwendet werden, allerdings muss die von der Funktion erzeugte Zeichenfolge anschließend im Programmcode in einen numerischen Datentyp umgewandelt werden. Im vorherigen Abschnitt haben wir mit der strFunktion Ganzzahlen in Zeichenfolgen umgewandelt. Hier gilt das gleiche Grundprinzip, der Name der Umwandlungsfunktion ist jedoch anders.\n",
        "\n",
        "Mit der Funktion kann ein String in einen Integer umgewandelt werden int. Das folgende Programm fragt den Benutzer nach seinem Geburtsjahr und speichert es in der Variable `input_str`. Anschließend erstellt das Programm eine weitere Variable `year`, die das in einen Integer umgewandelte Jahr enthält. Danach ist die Berechnung `2025-year`  mit dem vom Benutzer angegebenen Wert möglich."
      ],
      "metadata": {
        "id": "lk-cyLjtCFSC"
      }
    },
    {
      "cell_type": "code",
      "source": [
        "input_str = input(\"In welchem Jahr wurdest du geboren? \")\n",
        "print(type(input_str))\n",
        "year = int(input_str)\n",
        "print(type(year))\n",
        "print(f\"Am Ende des Jahres 2025 bist du : {2025 - year}\" )"
      ],
      "metadata": {
        "id": "sGAwa1FJCVl-",
        "colab": {
          "base_uri": "https://localhost:8080/"
        },
        "outputId": "1ccc1dbd-d75f-4729-bbb3-af4853f6a232"
      },
      "execution_count": null,
      "outputs": [
        {
          "output_type": "stream",
          "name": "stdout",
          "text": [
            "In welchem Jahr wurdest du geboren? 5\n",
            "<class 'str'>\n",
            "<class 'int'>\n",
            "Am Ende des Jahres 2025 bist du : 2020\n"
          ]
        }
      ]
    },
    {
      "cell_type": "markdown",
      "source": [
        "Normalerweise müssen Sie nicht zwei separate Variablen erstellen (wie oben `input_str`und `year`), um einen Zahlenwert vom Benutzer zu lesen. Stattdessen könntest du die Eingabe mit der `input`Funktion lesen und mit der Funktion konvertieren, und zwar in einem Schritt:"
      ],
      "metadata": {
        "id": "2Va1_JG1ClLP"
      }
    },
    {
      "cell_type": "code",
      "source": [
        "year = int(input(\"In welchem Jahr wurdest du geboren? \"))\n",
        "print(f\"Am Ende des Jahres 2025 bist du : {2025 - year}\" )"
      ],
      "metadata": {
        "id": "07mHFEZtCvej",
        "colab": {
          "base_uri": "https://localhost:8080/"
        },
        "outputId": "f83050fb-1dbe-4942-e198-01517fa59ab8"
      },
      "execution_count": null,
      "outputs": [
        {
          "output_type": "stream",
          "name": "stdout",
          "text": [
            "In welchem Jahr wurdest du geboren? 1988\n",
            "Am Ende des Jahres 2025 bist du : 37\n"
          ]
        }
      ]
    },
    {
      "cell_type": "code",
      "source": [
        "height = float(input(\"Wie groß bist du (in cm)? \"))\n",
        "weight = float(input(\"Wieviel wiegst du? \"))\n",
        "print(type(weight))\n",
        "height = height / 100\n",
        "bmi = weight / height ** 2\n",
        "\n",
        "print(f\"The BMI is {bmi}\")"
      ],
      "metadata": {
        "id": "0tXW-EjgC4dy",
        "colab": {
          "base_uri": "https://localhost:8080/"
        },
        "outputId": "49369ac7-a161-4b78-cd0b-42ddba6561ca"
      },
      "execution_count": null,
      "outputs": [
        {
          "output_type": "stream",
          "name": "stdout",
          "text": [
            "Wie groß bist du (in cm)? 184\n",
            "Wieviel wiegst du? 75\n",
            "<class 'float'>\n",
            "The BMI is 22.152646502835537\n"
          ]
        }
      ]
    },
    {
      "cell_type": "markdown",
      "source": [
        "### Übung\n",
        "\n",
        "Schreiben ein Programm, das den Benutzer nach einer Zahl fragt. Das Programm druckt dann die mit fünf multiplizierte Zahl aus.\n",
        "\n",
        "Das Programm sollte wie folgt funktionieren:\n",
        "\n",
        "```\n",
        "Beispielausgabe\n",
        "Bitte geben Sie eine Zahl ein: 3\n",
        "3 mal 5 ist 15\n",
        "```\n",
        "\n"
      ],
      "metadata": {
        "id": "sEfhNFtQDF3F"
      }
    },
    {
      "cell_type": "code",
      "source": [
        "# Dein Code hier\n",
        "zahl = int(input(\"Bitte geben sie eine Zahl ein: \"))\n",
        "summe = zahl * 5\n",
        "print(f\"{zahl} mal 5 ist {summe}\")"
      ],
      "metadata": {
        "id": "kuSa3B2iDNHT",
        "colab": {
          "base_uri": "https://localhost:8080/"
        },
        "outputId": "144566fb-8062-4347-b23b-4405d5ceda77"
      },
      "execution_count": null,
      "outputs": [
        {
          "output_type": "stream",
          "name": "stdout",
          "text": [
            "Bitte geben sie eine Zahl ein: 33\n",
            "33 mal 5 ist 165\n"
          ]
        }
      ]
    },
    {
      "cell_type": "markdown",
      "source": [
        "### Übung 2\n",
        "\n",
        "Schreibe ein Programm, das den Benutzer nach seinem Namen und Geburtsjahr fragt. Das Programm gibt dann folgende Meldung aus:\n",
        "\n",
        "```\n",
        "Wie heißt du? Frances Fictitious\n",
        "In welchem ​​Jahr bist du geboren? 1990\n",
        "Hallo Frances Fictitious, du wirst Ende des Jahres 2021 31 Jahre alt sein\n",
        "```\n",
        "\n"
      ],
      "metadata": {
        "id": "vOh2zq2vDQDY"
      }
    },
    {
      "cell_type": "code",
      "source": [
        "# Dein Code hier\n",
        "name = input(\"Wie heißt du?(Mark Musterman) \")\n",
        "alter = int(input(\"In welchem Jahr bist du geboren? \"))\n",
        "summe = 2025 - alter\n",
        "print(f\"Hallo {name}, du wirst ende des Jahres 2025 {summe} Jahre alt sein\")"
      ],
      "metadata": {
        "id": "jVHOUC0aDXcT",
        "colab": {
          "base_uri": "https://localhost:8080/"
        },
        "outputId": "8452f3e5-61b4-455f-94ec-3d5eecdd825f"
      },
      "execution_count": null,
      "outputs": [
        {
          "output_type": "stream",
          "name": "stdout",
          "text": [
            "Wie heißt du?(Mark Musterman) Thor Groth\n",
            "In welchem Jahr bist du geboren? 1988\n",
            "Hallo Thor Groth, du wirst ende des Jahres 2025 37 Jahre alt sein\n"
          ]
        }
      ]
    },
    {
      "cell_type": "markdown",
      "source": [
        "## Verwenden von Variablen\n",
        "\n",
        "Schauen wir uns ein Programm an, das die Summe dreier vom Benutzer eingegebener Zahlen berechnet:"
      ],
      "metadata": {
        "id": "a1el33aBDhBb"
      }
    },
    {
      "cell_type": "code",
      "source": [
        "number1 = int(input(\"Erste Zahl: \"))\n",
        "number2 = int(input(\"Zweite Zahl: \"))\n",
        "number3 = int(input(\"Dritte Zahl: \"))\n",
        "\n",
        "sum = number1 + number2 + number3\n",
        "print(f\"Die Summe der drei Zahlen ist: {sum}\")"
      ],
      "metadata": {
        "id": "e0D61ZiaDkd5",
        "colab": {
          "base_uri": "https://localhost:8080/"
        },
        "outputId": "2ee3a85d-34fd-4ad3-dba1-4880c2b46222"
      },
      "execution_count": null,
      "outputs": [
        {
          "output_type": "stream",
          "name": "stdout",
          "text": [
            "Erste Zahl: 19\n",
            "Zweite Zahl: 45\n",
            "Dritte Zahl: 33\n",
            "Die Summe der drei Zahlen ist: 97\n"
          ]
        }
      ]
    },
    {
      "cell_type": "markdown",
      "source": [
        "Das Programm verwendet vier verschiedene Variablen, aber in diesem Fall würden zwei problemlos ausreichen:"
      ],
      "metadata": {
        "id": "DP7IGLz5ErWZ"
      }
    },
    {
      "cell_type": "code",
      "source": [
        "sum = int(input(\"Erste Zahl: \"))\n",
        "sum += int(input(\"Zweite Zahl: \"))\n",
        "sum += int(input(\"Dritte Zahl: \"))\n",
        "\n",
        "\n",
        "print(f\"Die Summe der drei Zahlen ist: {sum}\")"
      ],
      "metadata": {
        "id": "kl45PqhyEuL9",
        "colab": {
          "base_uri": "https://localhost:8080/"
        },
        "outputId": "12375251-3c27-4355-fec3-4ed4bac39333"
      },
      "execution_count": null,
      "outputs": [
        {
          "output_type": "stream",
          "name": "stdout",
          "text": [
            "Erste Zahl: 12\n",
            "Zweite Zahl: 12\n",
            "Dritte Zahl: 12\n",
            "Die Summe der drei Zahlen ist: 36\n"
          ]
        }
      ]
    },
    {
      "cell_type": "markdown",
      "source": [
        "Nun werden alle Eingaben des Benutzers in ein und dieselbe Variable eingelesen `number`. Der Wert der Variablen `sum`wird bei jeder Eingabe einer neuen Zahl durch den Benutzer um den Wert der Variablen erhöht `number`\n",
        "\n",
        "Schauen wir uns diesen Befehl genauer an:\n",
        "\n",
        "`sum = sum + number`"
      ],
      "metadata": {
        "id": "vF1RM1BKE_ZF"
      }
    },
    {
      "cell_type": "markdown",
      "source": [
        "Dabei werden der Wert der Variablen `sum`und der Wert der Variablen `number`addiert und das Ergebnis wieder in der Variablen `sum` gespeichert. Wenn beispielsweise vor dem Befehl der Wert von `sum`3 und der Wert von `number`2 ist, ist der Wert von nach der Ausführung des Befehls `sum`5.\n",
        "\n",
        "Das Erhöhen des Wertes einer Variablen ist eine sehr häufige Operation. Daher gibt es eine häufig verwendete Kurzschreibweise, die dasselbe Ergebnis erzielt wie die explizite Summierung oben:\n",
        "\n",
        "```\n",
        "sum += number\n",
        "```\n",
        "\n",
        "Dadurch können wir das obige Programm etwas prägnanter schreiben:\n",
        "\n"
      ],
      "metadata": {
        "id": "Nezko-NsFKIU"
      }
    },
    {
      "cell_type": "code",
      "source": [
        "number = int(input(\"Erste Zahl: \"))\n",
        "number += int(input(\"Zweite Zahl: \"))\n",
        "number += int(input(\"Dritte Zahl: \"))\n",
        "\n",
        "\n",
        "print(f\"Die Summe der drei Zahlen ist: {number}\")"
      ],
      "metadata": {
        "id": "TqXarANbFkkx",
        "colab": {
          "base_uri": "https://localhost:8080/"
        },
        "outputId": "60c81c25-d5b9-4b77-a6ff-0223b3da5dd0"
      },
      "execution_count": null,
      "outputs": [
        {
          "output_type": "stream",
          "name": "stdout",
          "text": [
            "Erste Zahl: 12\n",
            "Zweite Zahl: 12\n",
            "Dritte Zahl: 12\n",
            "Die Summe der drei Zahlen ist: 36\n"
          ]
        }
      ]
    },
    {
      "cell_type": "markdown",
      "source": [
        "Tatsächlich brauchen wir die Variable `number`gar nicht unbedingt. Die Eingaben des Benutzers können auch folgendermaßen verarbeitet werden:"
      ],
      "metadata": {
        "id": "1CL7ls8lFqRp"
      }
    },
    {
      "cell_type": "code",
      "source": [
        "sum = 0\n",
        "\n",
        "sum += int(input(\"Erste Zahl: \"))\n",
        "sum += int(input(\"Zweite Zahl: \"))\n",
        "sum += int(input(\"Dritte Zahl: \"))\n",
        "\n",
        "print(f\"Die Summe der drei Zahlen ist: {sum}\")"
      ],
      "metadata": {
        "id": "VKRHOrIAFv1b",
        "colab": {
          "base_uri": "https://localhost:8080/"
        },
        "outputId": "80601439-170a-4cc8-d8df-0f18153efaa6"
      },
      "execution_count": null,
      "outputs": [
        {
          "output_type": "stream",
          "name": "stdout",
          "text": [
            "Erste Zahl: 10\n",
            "Zweite Zahl: 10\n",
            "Dritte Zahl: 11\n",
            "Die Summe der drei Zahlen ist: 31\n"
          ]
        }
      ]
    },
    {
      "cell_type": "markdown",
      "source": [
        "Natürlich hängt es vom Kontext ab, wie viele Variablen benötigt werden. Wenn jeder vom Benutzer eingegebene Wert gespeichert werden muss, ist es nicht möglich, dieselbe Variable „wiederzuverwenden“, um verschiedene Werte vom Benutzer zu lesen. Bedenke Folgendes:"
      ],
      "metadata": {
        "id": "dBMa5ZA2F7og"
      }
    },
    {
      "cell_type": "code",
      "source": [
        "number1 = int(input(\"Erste Zahle: \"))\n",
        "number2 = int(input(\"Zweite Zahl: \"))\n",
        "\n",
        "print(f\"{number1} + {number2} = {number1+number2}\")"
      ],
      "metadata": {
        "id": "LnoFdrmZGAfh",
        "colab": {
          "base_uri": "https://localhost:8080/"
        },
        "outputId": "1bb72942-6d22-4649-8ef9-27d6088c1e51"
      },
      "execution_count": null,
      "outputs": [
        {
          "output_type": "stream",
          "name": "stdout",
          "text": [
            "Erste Zahle: 10\n",
            "Zweite Zahl: 10\n",
            "10 + 10 = 20\n"
          ]
        }
      ]
    },
    {
      "cell_type": "markdown",
      "source": [
        "### Übung\n",
        "\n",
        "Schreibe ein Programm, das den Benutzer nach einer Anzahl von Tagen fragt. Das Programm gibt dann die Anzahl der Sekunden in der angegebenen Anzahl von Tagen aus.\n",
        "\n",
        "Das Programm sollte wie folgt funktionieren:\n",
        "\n",
        "\n",
        "```\n",
        "Wie viele Tage? 1\n",
        "Sekunden in so vielen Tagen: 86400\n",
        "```\n",
        "\n",
        "oder\n",
        "\n",
        "\n",
        "\n",
        "```\n",
        "Wie viele Tage? 7\n",
        "Sekunden in so vielen Tagen: 604800\n",
        "```\n",
        "\n",
        "\n"
      ],
      "metadata": {
        "id": "R-U8ouiKGMmA"
      }
    },
    {
      "cell_type": "code",
      "source": [
        "# Dein Code hier\n",
        "tage = int(input(\"Wie viele tage? \"))\n",
        "summe = tage * 86400\n",
        "print(f\"Sekunden in so vielen tagen: {summe}\")"
      ],
      "metadata": {
        "id": "KXTk3yuHGY7u",
        "colab": {
          "base_uri": "https://localhost:8080/"
        },
        "outputId": "61385801-ad5e-4329-e053-50b2a5f76321"
      },
      "execution_count": null,
      "outputs": [
        {
          "output_type": "stream",
          "name": "stdout",
          "text": [
            "Wie viele tage? 3\n",
            "Sekunden in so vielen tagen: 259200\n"
          ]
        }
      ]
    },
    {
      "cell_type": "markdown",
      "source": [
        "### Übung 2\n",
        "\n",
        "Dieses Programm verlangt vom Benutzer drei Zahlen. Anschließend gibt das Programm das Produkt aus, also die Zahlen multipliziert miteinander. Allerdings stimmt mit dem Programm etwas nicht – es funktioniert nicht richtig, wie du siehst, wenn du es ausführst. Du wurdest gebeten das Problem zu beheben.\n",
        "\n",
        "Ein Beispiel für die gewünschte Ausführung des Programms:\n",
        "\n",
        "\n",
        "```\n",
        "Bitte geben Sie die erste Zahl ein: 2\n",
        "Bitte geben Sie die zweite Zahl ein: 3\n",
        "Bitte geben Sie die dritte Zahl ein: 5\n",
        "Das Produkt ist 30\n",
        "```\n",
        "\n"
      ],
      "metadata": {
        "id": "ccosEMOjGcq3"
      }
    },
    {
      "cell_type": "code",
      "source": [
        "# Fix den Code hier\n",
        "number1 = int(input(\"Bitte geben Sie die erste Zahl ein: \"))\n",
        "number2 = int(input(\"Bitte geben Sie die zweite Zahl ein: \"))\n",
        "number3 = int(input(\"Bitte geben Sie die dritte Zahl ein: \"))\n",
        "\n",
        "product = number1 * number2 * number3\n",
        "\n",
        "print(\"Das Produkt ist \", product)"
      ],
      "metadata": {
        "id": "nQdPbdWmGuSN",
        "colab": {
          "base_uri": "https://localhost:8080/"
        },
        "outputId": "99a1c3b4-4a98-4985-9888-47e984873560"
      },
      "execution_count": null,
      "outputs": [
        {
          "output_type": "stream",
          "name": "stdout",
          "text": [
            "Bitte geben Sie die erste Zahl ein: 2\n",
            "Bitte geben Sie die zweite Zahl ein: 3\n",
            "Bitte geben Sie die dritte Zahl ein: 5\n",
            "Das Produkt ist  30\n"
          ]
        }
      ]
    },
    {
      "cell_type": "markdown",
      "source": [
        "### Übung 3\n",
        "\n",
        "Schreibe ein Programm, das den Benutzer nach zwei Zahlen fragt. Das Programm gibt dann die Summe und das Produkt der beiden Zahlen aus.\n",
        "\n",
        "Das Programm sollte wie folgt funktionieren:\n",
        "\n",
        "\n",
        "```\n",
        "Zahl 1: 3\n",
        "Zahl 2: 7\n",
        "Die Summe der Zahlen: 10 Das Produkt der Zahlen: 21\n",
        "```\n",
        "\n"
      ],
      "metadata": {
        "id": "riXBs_bsHB2c"
      }
    },
    {
      "cell_type": "code",
      "source": [
        "# Dein Code hier\n",
        "zahl1 = int(input(\"Zahl 1: \"))\n",
        "zahl2 = int(input(\"Zahl 2: \"))\n",
        "summe = zahl1 + zahl2\n",
        "produkt = zahl1 * zahl2\n",
        "print(f\"Die Summe der Zahlen: {summe} Das Produkt der Zahlen: {produkt}\")"
      ],
      "metadata": {
        "id": "JEfAqESxHR_1",
        "colab": {
          "base_uri": "https://localhost:8080/"
        },
        "outputId": "a720f195-7393-4fc9-8fc2-378137fae9be"
      },
      "execution_count": null,
      "outputs": [
        {
          "output_type": "stream",
          "name": "stdout",
          "text": [
            "Zahl 1: 3\n",
            "Zahl 2: 7\n",
            "Die Summe der Zahlen: 10 Das Produkt der Zahlen: 21\n"
          ]
        }
      ]
    },
    {
      "cell_type": "markdown",
      "source": [
        "### Übung 4\n",
        "\n",
        "Schreibe ein Programm, das den Benutzer nach vier Zahlen fragt. Das Programm druckt dann die Summe und den Mittelwert der Zahlen aus.\n",
        "\n",
        "Das Programm sollte wie folgt funktionieren:\n",
        "\n",
        "```\n",
        "Zahl 1: 2\n",
        "Zahl 2: 1\n",
        "Zahl 3: 6\n",
        "Zahl 4: 7\n",
        "Die Summe der Zahlen ist 16 und der Mittelwert ist 4,0\n",
        "```\n",
        "\n"
      ],
      "metadata": {
        "id": "5LOmsMnJHKn7"
      }
    },
    {
      "cell_type": "code",
      "source": [
        "# Dein Code hier\n",
        "zahl1 = int(input(\"Zahl 1: \"))\n",
        "zahl2 = int(input(\"Zahl 2: \"))\n",
        "zahl3 = int(input(\"Zahl 3: \"))\n",
        "zahl4 = int(input(\"Zahl 4: \"))\n",
        "summe = zahl1 + zahl2 + zahl3 + zahl4\n",
        "mittelwert = summe / 4\n",
        "print(f\"Die Summe der Zahlen ist {summe} und der Mittelwert ist {mittelwert}\")"
      ],
      "metadata": {
        "id": "O9B7otBHHT3I",
        "colab": {
          "base_uri": "https://localhost:8080/"
        },
        "outputId": "cb127858-eae9-4ccd-f11d-209843bd1bee"
      },
      "execution_count": null,
      "outputs": [
        {
          "output_type": "stream",
          "name": "stdout",
          "text": [
            "Zahl 1: 2\n",
            "Zahl 2: 1\n",
            "Zahl 3: 6\n",
            "Zahl 4: 7\n",
            "Die Summe der Zahlen ist 16 und der Mittelwert ist 4.0\n"
          ]
        }
      ]
    },
    {
      "cell_type": "markdown",
      "source": [
        "### Übung 5\n",
        "\n",
        "Schreibe ein Programm, das den typischen Lebensmittelverbrauch eines Benutzers schätzt.\n",
        "\n",
        "Das Programm fragt den Benutzer, wie oft er pro Woche in der Mensa isst. Dann fragt es nach dem Preis eines typischen Mittagessens für Studenten und nach dem Geld, das er während der Woche für Lebensmittel ausgibt.\n",
        "\n",
        "Auf Grundlage dieser Informationen berechnet das Programm den typischen Lebensmittelverbrauch des Benutzers sowohl wöchentlich als auch täglich.\n",
        "\n",
        "Das Programm sollte wie folgt funktionieren:\n",
        "\n",
        "```\n",
        "\n",
        "Wie oft pro Woche essen Sie in der Mensa? 4\n",
        "Wie viel kostet ein typisches Mittagessen für Studenten? 2,5\n",
        "Wie viel Geld geben Sie pro Woche für Lebensmittel aus? 28,5\n",
        "\n",
        "Durchschnittliche Lebensmittelausgaben: Täglich: 5,5 Euro Wöchentlich: 38,5 Euro\n",
        "```\n",
        "\n"
      ],
      "metadata": {
        "id": "p7t1618WHY2r"
      }
    },
    {
      "cell_type": "code",
      "source": [
        "# Dein Code hier\n",
        "woche = int(input(\"Wie oft pro Woche essen Sie in derr Mensa? \"))\n",
        "kosten = float(input(\"Wie viel kostet ein typisches Mittagessen für Studenten? \"))\n",
        "geld = float(input(\"Wie viel Geld geben Sie pro woche für Lebensmittel aus? \"))\n",
        "täglich = (geld / 7) + (woche * kosten / 7)\n",
        "wöchentlich = täglich * 7\n",
        "print(f\"Durchschnittliche Lebensmittelausgaben: Täglich: {täglich} Euro Wöchentlich: {wöchentlich}\")"
      ],
      "metadata": {
        "id": "dSHqTLjyHjh6",
        "colab": {
          "base_uri": "https://localhost:8080/"
        },
        "outputId": "15797a85-ffe6-4be9-f5d6-3a4e9b42eae1"
      },
      "execution_count": null,
      "outputs": [
        {
          "output_type": "stream",
          "name": "stdout",
          "text": [
            "Wie oft pro Woche essen Sie in derr Mensa? 4\n",
            "Wie viel kostet ein typisches Mittagessen für Studenten? 2.5\n",
            "Wie viel Geld geben Sie pro woche für Lebensmittel aus? 28.5\n",
            "Durchschnittliche Lebensmittelausgaben: Täglich: 5.5 Euro Wöchentlich: 38.5\n"
          ]
        }
      ]
    },
    {
      "cell_type": "markdown",
      "source": [
        "### Übung 6\n",
        "\n",
        "Schreibe ein Programm, das nach der Anzahl der Studierenden eines Kurses und der gewünschten Gruppengröße fragt. Das Programm gibt dann die Anzahl der aus den Studierenden des Kurses gebildeten Gruppen aus. Wenn die Aufteilung nicht gleichmäßig ist, kann es sein, dass eine der Gruppen weniger Mitglieder hat als angegeben.\n",
        "\n",
        "Wenn dein Code nicht wie erwartet funktioniert, kannst du die Übung auch später fortsetzen. Das Thema des nächsten Abschnitts sind bedingte Anweisungen . Diese Übung kann auch mit einer bedingten Konstruktion gelöst werden.\n",
        "\n",
        "\n",
        "```\n",
        "Wie viele Studierende nehmen am Kurs teil? 8\n",
        "Gewünschte Gruppengröße? 4\n",
        "Anzahl der gebildeten Gruppen: 2\n",
        "\n",
        "Wie viele Studierende nehmen am Kurs teil? 11\n",
        "Gewünschte Gruppengröße? 3\n",
        "Anzahl der gebildeten Gruppen: 4\n",
        "```\n",
        "\n",
        "\n",
        "\n",
        "Hinweis: Der Operator für die Division ganzer Zahlen //könnte hier nützlich sein."
      ],
      "metadata": {
        "id": "Nvr34OfXHpoy"
      }
    },
    {
      "cell_type": "code",
      "source": [
        "# Dein Code hier\n",
        "studenten = int(input(\"Wie viele Studierende nehmen am Kurs teil? \"))\n",
        "gruppen = int(input(\"Gewünschte Grüppengröße? \"))\n",
        "anzahl = studenten // gruppen\n",
        "if (studenten % gruppen) != 0:\n",
        "  anzahl += 1\n",
        "\n",
        "print(f\"Anzahl der gebildeten Gruppen: {anzahl}\")"
      ],
      "metadata": {
        "id": "2AjnYYQgH8-v",
        "colab": {
          "base_uri": "https://localhost:8080/"
        },
        "outputId": "a83e5dbb-39ec-4ad4-e9de-0cb72fa1ce8e"
      },
      "execution_count": null,
      "outputs": [
        {
          "output_type": "stream",
          "name": "stdout",
          "text": [
            "Wie viele Studierende nehmen am Kurs teil? 11\n",
            "Gewünschte Grüppengröße? 3\n",
            "Anzahl der gebildeten Gruppen: 4\n"
          ]
        }
      ]
    },
    {
      "cell_type": "markdown",
      "source": [
        "----\n",
        "\n",
        "# Teil 4: Bedingte Aussagen - Conditional Statements\n"
      ],
      "metadata": {
        "id": "ga1QnLLrySBP"
      }
    },
    {
      "cell_type": "markdown",
      "source": [
        "Bisher wurde jedes Programm, das wir geschrieben haben, Zeile für Zeile in der Reihenfolge ausgeführt. Anstatt jede Codezeile jedes Mal auszuführen, wenn ein Programm ausgeführt wird, ist es oft nützlich, Abschnitte des Programms zu erstellen, die nur in bestimmten Situationen ausgeführt werden.\n",
        "\n",
        "Der folgende Code prüft beispielsweise, ob das Alter des Benutzers innerhalb einer bestimmten Altersgrenze liegt:"
      ],
      "metadata": {
        "id": "7SIhjqmcyZ-T"
      }
    },
    {
      "cell_type": "code",
      "source": [
        "age = int(input(\"Wie alt sind Sie?\"))\n",
        "\n",
        "if age > 17:\n",
        "    print(\"Du bist volljährig!\")\n",
        "    print(\"Hier ist eine Kopie von GTA6 für Sie.\")\n",
        "\n",
        "print(\"Nächster Kunde, bitte!\")"
      ],
      "metadata": {
        "id": "LWt7LqYryiY3",
        "outputId": "b72a81a1-0c2b-46e1-993d-e01b636a6837",
        "colab": {
          "base_uri": "https://localhost:8080/"
        }
      },
      "execution_count": null,
      "outputs": [
        {
          "output_type": "stream",
          "name": "stdout",
          "text": [
            "Wie alt sind Sie?18\n",
            "Du bist volljährig!\n",
            "Hier ist eine Kopie von GTA6 für Sie.\n",
            "Nächster Kunde, bitte!\n"
          ]
        }
      ]
    },
    {
      "cell_type": "markdown",
      "source": [
        "Typische Bedingungen bestehen aus dem Vergleich zweier Werte. Hier ist eine Tabelle mit den häufigsten Vergleichsoperatoren, die in Python verwendet werden:\n",
        "\n",
        " | Operator | Zweck                        | Beispiel    |\n",
        "|-----------|------------------------------|-------------|\n",
        "| ==        | Gleich                       | a == b      |\n",
        "| !=        | Nicht gleich                 | a != b      |\n",
        "| >         | Größer als                   | a > b       |\n",
        "| >=        | Größer oder gleich zu        | a >= b      |\n",
        "| <         | Weniger als                  | a < b       |\n",
        "| <=        | Weniger als oder gleich      | a <= b      |\n"
      ],
      "metadata": {
        "id": "s31dAzLU0C8s"
      }
    },
    {
      "cell_type": "markdown",
      "source": [
        "Werfen wir einen Blick auf ein Programm, das verschiedene Dinge ausgibt, je nachdem, ob die Zahl, die der Benutzer eingibt, negativ, positiv oder gleich Null ist."
      ],
      "metadata": {
        "id": "A9Ay5gqw0IwI"
      }
    },
    {
      "cell_type": "code",
      "source": [
        "number = int(input(\"Bitte geben Sie eine Zahl ein: \"))\n",
        "\n",
        "if number < 0:\n",
        "    print(\"Die Zahl ist negativ.\")\n",
        "\n",
        "if number > 0:\n",
        "    print(\"Die Zahl ist positiv.\")\n",
        "\n",
        "if number == 0:\n",
        "    print(\"Die Zahl ist Null.\")"
      ],
      "metadata": {
        "id": "-N_TqSAJ01Yw",
        "outputId": "8f17ced7-e310-4ee9-aba9-1122be0e24f8",
        "colab": {
          "base_uri": "https://localhost:8080/"
        }
      },
      "execution_count": null,
      "outputs": [
        {
          "output_type": "stream",
          "name": "stdout",
          "text": [
            "Bitte geben Sie eine Zahl ein: 5\n",
            "Die Zahl ist positiv.\n"
          ]
        }
      ]
    },
    {
      "cell_type": "markdown",
      "source": [
        "### Übung\n",
        "\n",
        "Mit welchen drei Fällen wird die eingegebene Zahl in diesem Code unterschieden?"
      ],
      "metadata": {
        "id": "VniITKKZ1L4k"
      }
    },
    {
      "cell_type": "markdown",
      "source": [
        "Deine Antwort:\n",
        "\n",
        "Fall 1: Wenn sie kleiner ist als 0, dann Negativ\n",
        "\n",
        "Fall 2: Wenn sie größer ist als 0, dann Positiv\n",
        "\n",
        "Fall 3: Wenn es eine 0 ist, dann ist sie gleich 0"
      ],
      "metadata": {
        "id": "T7f9wJcG1dgr"
      }
    },
    {
      "cell_type": "markdown",
      "source": [
        "Python erkennt, dass ein Codeblock Teil einer bedingten Anweisung ist, wenn jede Codezeile im Block gleich eingerückt ist. Das ist, es sollte ein bisschen Leerzeichen am Anfang jeder Codezeile innerhalb des Codeblocks geben. Jede Zeile sollte die gleiche Menge an Leerzeichen haben.\n",
        "\n",
        "Zum Beispiel:"
      ],
      "metadata": {
        "id": "sAdoT0e91m7R"
      }
    },
    {
      "cell_type": "code",
      "source": [
        "password = input(\"Bitte geben Sie ein Passwort ein: \")\n",
        "\n",
        "if password == \"kittycat\":\n",
        "    print(\"Du kennst das Passwort!\")\n",
        "    print(\"Sie müssen entweder der autorisierte Benutzer sein...\")\n",
        "    print(\"...oder ein ziemlich geschickter Hacker.\")\n",
        "\n",
        "print(\"Das Programm hat seine Ausführung beendet. Danke und tschüss!\")"
      ],
      "metadata": {
        "id": "1N2WpwB01qYG",
        "outputId": "68732b4a-e18f-4df3-c8c1-0f2b29c1eee4",
        "colab": {
          "base_uri": "https://localhost:8080/"
        }
      },
      "execution_count": null,
      "outputs": [
        {
          "output_type": "stream",
          "name": "stdout",
          "text": [
            "Bitte geben Sie ein Passwort ein: kittycat\n",
            "Du kennst das Passwort!\n",
            "Sie müssen entweder der autorisierte Benutzer sein...\n",
            "...oder ein ziemlich geschickter Hacker.\n",
            "Das Programm hat seine Ausführung beendet. Danke und tschüss!\n"
          ]
        }
      ]
    },
    {
      "cell_type": "markdown",
      "source": [
        "### Übung\n",
        "\n",
        "Schreiben ein Programm, das den Benutzer nach einer ganzen Zahl fragt. Das Programm sollte \"Orwell\" ausdrucken, wenn die Zahl genau 1984 ist, und ansonsten nichts tun.\n",
        "\n",
        "\n",
        "\n",
        "```\n",
        "Tippe bitte eine Zahl ein: 2020\n",
        "```\n",
        "\n",
        "\n",
        "\n",
        "```\n",
        "Tippe bitte eine Zahl ein: 1984\n",
        "Orwell\n",
        "```\n",
        "\n",
        "\n",
        "\n"
      ],
      "metadata": {
        "id": "pUYnXV4_2Dy4"
      }
    },
    {
      "cell_type": "code",
      "source": [
        "# Dein Code hier\n",
        "zahl = int(input(\"Tippe bitte eine Zahl ein: \"))\n",
        "if zahl == 2020:\n",
        "  print(\"Orwell\")\n",
        "if zahl == 1984:\n",
        "  print(\"Orwell\")"
      ],
      "metadata": {
        "id": "nyepb6aC2JMN",
        "outputId": "0b92f180-375a-48e2-9e57-cb3c0bd3951c",
        "colab": {
          "base_uri": "https://localhost:8080/"
        }
      },
      "execution_count": null,
      "outputs": [
        {
          "output_type": "stream",
          "name": "stdout",
          "text": [
            "Tippe bitte eine Zahl ein: 1984\n",
            "Orwell\n"
          ]
        }
      ]
    },
    {
      "cell_type": "markdown",
      "source": [
        "### Übung\n",
        "\n",
        "Schreiben ein Programm, das den Benutzer nach einer ganzen Zahl fragt. Wenn die Zahl kleiner als Null ist, sollte das Programm die Zahl multipliziert mit -1 ausdrucken. Andernfalls druckt das Programm die Nummer so aus, wie sie ist. Beispiele für erwartete Ausgaben:\n",
        "\n",
        "```\n",
        "Tippe bitte eine Zahl ein: -7\n",
        "Der absolute Wert deiner Zahl ist 7\n",
        "```\n",
        "\n",
        "```\n",
        "Tippe bitte eine Zahl ein: 1\n",
        "Der absolute Wert deiner Zahl ist 1\n",
        "```\n",
        "```\n",
        "Tippe bitte eine Zahl ein: -99\n",
        "Der absolute Wert deiner Zahl ist 99\n",
        "```\n"
      ],
      "metadata": {
        "id": "09GiTU6P2giF"
      }
    },
    {
      "cell_type": "code",
      "source": [
        "# Dein Code hier\n",
        "zahl = int(input(\"Tippe bitte eine Zahl ein: \"))\n",
        "if zahl < 0:\n",
        "  print(f\"Der absolute Wert deiner Zahl ist {zahl * -1}\")\n",
        "else:\n",
        "  print(f\"Der absolute Wert deiner Zahl ist {zahl}\")"
      ],
      "metadata": {
        "id": "QABh_NSa3L-n",
        "outputId": "4ab472ef-5523-410c-82d7-c01378006c94",
        "colab": {
          "base_uri": "https://localhost:8080/"
        }
      },
      "execution_count": null,
      "outputs": [
        {
          "output_type": "stream",
          "name": "stdout",
          "text": [
            "Tippe bitte eine Zahl ein: -99\n",
            "Der absolute Wert deiner Zahl ist 99\n"
          ]
        }
      ]
    },
    {
      "cell_type": "markdown",
      "source": [
        " Schreibe ein Programm, das nach dem Namen des Benutzers fragt. Wenn der Name etwas anderes als \"Jerry\" ist, fragt das Programm nach der Anzahl der Portionen und druckt die Gesamtkosten aus. Der Preis für eine einzelne Portion beträgt 5,90.\n",
        "\n",
        "Zwei Beispiele für die Ausführung des Programms:\n",
        "\n",
        "\n",
        "```\n",
        "Bitte sagen Sie mir Ihren Namen: Kramer\n",
        "Wie viele Portionen Suppe? 2\n",
        "Der Gesamtpreis beträgt 11,8\n",
        "Der Nächste bitte!\n",
        "```\n",
        "\n",
        "\n",
        "```\n",
        "Bitte sagen Sie mir Ihren Namen: Jerry\n",
        "Der Nächste bitte!\n",
        "```\n",
        "\n",
        "\n"
      ],
      "metadata": {
        "id": "iseTrOu13RKr"
      }
    },
    {
      "cell_type": "code",
      "source": [
        "# Dein Code hier\n",
        "name = input(\"Bitte sagen Sie mir Ihren Namen: \")\n",
        "if name == \"Jerry\":\n",
        "  print(\"Der Nächste bitte!\")\n",
        "else:\n",
        "  portionen = int(input(\"Wie viele Portionen Suppe? \"))\n",
        "  preis = 5.90 * portionen\n",
        "  print(f\"Der Gesamtpreis beträgt {preis}\")"
      ],
      "metadata": {
        "id": "JGPzZtmL3pwl",
        "outputId": "94b61b71-768d-437e-f513-43a62eff57b3",
        "colab": {
          "base_uri": "https://localhost:8080/"
        }
      },
      "execution_count": null,
      "outputs": [
        {
          "output_type": "stream",
          "name": "stdout",
          "text": [
            "Bitte sagen Sie mir Ihren Namen: thor\n",
            "Wie viele Portionen Suppe? 2\n",
            "Der Gesamtpreis beträgt 11.8\n"
          ]
        }
      ]
    },
    {
      "cell_type": "markdown",
      "source": [
        "Schreibe ein Programm, das den Benutzer nach einer ganzen Zahl fragt. Das Programm sollte dann die Größe der Zahl gemäß den folgenden Beispielen ausgeben:\n",
        "\n",
        "```\n",
        "Bitte geben Sie eine Zahl ein: 950\n",
        "Diese Zahl ist kleiner als 1000\n",
        "Dankeschön!\n",
        "```\n",
        "\n",
        "```\n",
        "Bitte geben Sie eine Zahl ein: 59\n",
        "Diese Zahl ist kleiner als 1000\n",
        "Diese Zahl ist kleiner als 100\n",
        "Dankeschön!\n",
        "```\n",
        "```\n",
        "Bitte geben Sie eine Zahl ein: 2\n",
        "Diese Zahl ist kleiner als 1000\n",
        "Diese Zahl ist kleiner als 100\n",
        "Diese Zahl ist kleiner als 10\n",
        "Dankeschön!\n",
        "```\n",
        "\n",
        "```\n",
        "Bitte geben Sie eine Zahl ein: 1123\n",
        "Dankeschön!\n",
        "```\n",
        "\n"
      ],
      "metadata": {
        "id": "jdnJ4_ji3rLd"
      }
    },
    {
      "cell_type": "code",
      "source": [
        "# Dein Code hier\n",
        "zahl = int(input(\"Bitte geben Sie eine Zahl ein: \"))\n",
        "if zahl < 1000:\n",
        "  print(\"Diese Zahl ist kleiner als 1000\")\n",
        "  if zahl < 100:\n",
        "    print(\"Diese Zahl ist kleiner als 100\")\n",
        "    if zahl < 10:\n",
        "      print(\"Diese Zahl ist kleiner als 10\")\n",
        "print(\"Dankeschön!\")"
      ],
      "metadata": {
        "id": "nOXh4vbU4Twy",
        "outputId": "921884ce-b74f-4fff-be62-0f0a737f2187",
        "colab": {
          "base_uri": "https://localhost:8080/"
        }
      },
      "execution_count": null,
      "outputs": [
        {
          "output_type": "stream",
          "name": "stdout",
          "text": [
            "Bitte geben Sie eine Zahl ein: 1123\n",
            "Dankeschön!\n"
          ]
        }
      ]
    },
    {
      "cell_type": "markdown",
      "source": [
        "## Boolesche Werte und boolesche Ausdrücke\n",
        "\n",
        "\n",
        "Jede Bedingung, die in einer bedingten Aussage verwendet wird, führt zu einem Wahrheitswert, d.h. entweder wahr oder falsch. Zum Beispiel ist die Bedingung a < 5 wahr, wenn a kleiner als 5 ist, und falsch, wenn a gleich oder größer als 5 ist.\n",
        "\n",
        "Diese Arten von Werten werden oft als Boolesche Werte bezeichnet, benannt nach dem englischen Mathematiker George Boole. In Python werden sie durch den Datentyp bool behandelt. Variablen vom Typ bool können nur zwei Werte annehmen: Wahr oder Falsch.\n",
        "\n",
        "Jedes Stück Code, das einen boolschen Wert ergibt, wird als boolscher Ausdruck bezeichnet. So ist beispielsweise die Bedingung in einer bedingten Anweisung immer ein boolescher Ausdruck, und die Begriffe Bedingung und boolescher Ausdruck können oft austauschbar verwendet werden.\n",
        "\n",
        "Das Ergebnis eines booleschen Ausdrucks kann in einer Variablen gespeichert werden, genau wie das Ergebnis einer numerischen Berechnung:"
      ],
      "metadata": {
        "id": "t-SHespp4WPW"
      }
    },
    {
      "cell_type": "code",
      "source": [
        "a = 3\n",
        "condition = a < 5\n",
        "print(condition)\n",
        "if condition:\n",
        "    print(\"a ist kleiner als 5\")"
      ],
      "metadata": {
        "id": "P7EaYy6A4eMv",
        "outputId": "5e789aae-8c38-47e5-971b-b9d3c0b20762",
        "colab": {
          "base_uri": "https://localhost:8080/"
        }
      },
      "execution_count": null,
      "outputs": [
        {
          "output_type": "stream",
          "name": "stdout",
          "text": [
            "True\n",
            "a ist kleiner als 5\n"
          ]
        }
      ]
    },
    {
      "cell_type": "markdown",
      "source": [
        "Die Python-Schlüsselwörter True und False können auch direkt verwendet werden. Im folgenden Beispiel wird der `print` Befehl jedes Mal ausgeführt, weil der Wert der Bedingung True ist:"
      ],
      "metadata": {
        "id": "SAoPmUKE4rjr"
      }
    },
    {
      "cell_type": "code",
      "source": [
        "condition = True\n",
        "if condition:\n",
        "    print(\"Diese Zeile wird jedes mal ausgegeben.\")"
      ],
      "metadata": {
        "id": "OqZqsu6h4xJw",
        "outputId": "0ea82bf8-6b6a-4600-925a-d7938b4dcec7",
        "colab": {
          "base_uri": "https://localhost:8080/"
        }
      },
      "execution_count": null,
      "outputs": [
        {
          "output_type": "stream",
          "name": "stdout",
          "text": [
            "Diese Zeile wird jedes mal ausgegeben.\n"
          ]
        }
      ]
    },
    {
      "cell_type": "markdown",
      "source": [
        "### Übung\n",
        "\n",
        "Schreibe ein Programm, das den Benutzer nach zwei Zahlen und einer Operation fragt. Wenn die Operation addieren, multiplizieren oder subtrahieren ist, soll das Programm das Ergebnis der Operation mit den angegebenen Zahlen berechnen und ausgeben. Wenn der Benutzer etwas anderes eingibt, soll das Programm nichts ausgeben.\n",
        "\n",
        "Einige Beispiele für das erwartete Verhalten:\n",
        "```\n",
        "Zahl 1: 10\n",
        "Zahl 2: 17\n",
        "Operation: Addieren\n",
        "10 + 17 = 27\n",
        "```\n",
        "```\n",
        "Zahl 1: 4\n",
        "Zahl 2: 6\n",
        "Operation: Multiplizieren\n",
        "4 * 6 = 24\n",
        "```\n",
        "```\n",
        "Zahl 1: 4\n",
        "Zahl 2: 6\n",
        "Operation: Subtrahieren\n",
        "4 - 6 = -2\n",
        "```"
      ],
      "metadata": {
        "id": "2B6Mq36T450K"
      }
    },
    {
      "cell_type": "code",
      "source": [
        "# Dein Code hier\n",
        "zahl1 = int(input(\"Zahl 1: \"))\n",
        "zahl2 = int(input(\"Zahl 2: \"))\n",
        "operation = input(\"Operation: \")\n",
        "if operation == \"Addieren\":\n",
        "  print(f\"{zahl1} + {zahl2} = {zahl1 + zahl2}\")\n",
        "if operation == \"Multiplizieren\":\n",
        "  print(f\"{zahl1} * {zahl2} = {zahl1 * zahl2}\")\n",
        "if operation == \"Subtrahieren\":\n",
        "  print(f\"{zahl1} - {zahl2} = {zahl1 - zahl2}\")"
      ],
      "metadata": {
        "id": "DLIBvEqj5SCr",
        "outputId": "27c28ffb-d874-4032-d784-03c926987779",
        "colab": {
          "base_uri": "https://localhost:8080/"
        }
      },
      "execution_count": null,
      "outputs": [
        {
          "output_type": "stream",
          "name": "stdout",
          "text": [
            "Zahl 1: 9\n",
            "Zahl 2: 4\n",
            "Operation: Subtrahieren\n",
            "9 - 4 = 5\n"
          ]
        }
      ]
    },
    {
      "cell_type": "markdown",
      "source": [
        "### Übung 2\n",
        "\n",
        "Schreibe ein Programm, das den Benutzer nach einer Temperatur in Grad Fahrenheit fragt und diese dann in Grad Celsius ausgibt. Wenn die umgerechnete Temperatur unter null Grad Celsius fällt, soll das Programm auch ausgeben: „Brr! Es ist kalt hier drinnen!“.\n",
        "\n",
        "Die Formel für die Umrechnung von Grad Fahrenheit in Grad Celsius findest du leicht in einer Suchmaschine deiner Wahl.\n",
        "\n",
        "Zwei Beispiele für das erwartete Verhalten:\n",
        "```\n",
        "Bitte geben Sie eine Temperatur (F) ein: 101\n",
        "101 Grad Fahrenheit entspricht 38,333333333333336 Grad Celsius\n",
        "```\n",
        "```\n",
        "Bitte geben Sie eine Temperatur (F) ein: 21\n",
        "21 Grad Fahrenheit entspricht -6,111111111111111 Grad Celsius\n",
        "Brr! Es ist kalt hier drinnen\n",
        "```"
      ],
      "metadata": {
        "id": "Sct1H94I5TYn"
      }
    },
    {
      "cell_type": "code",
      "source": [
        "# Dein Code hier\n",
        "fahrenheit = float(input(\"Bitte geben Sie eine Temperatur (F) ein: \"))\n",
        "celsius = (fahrenheit - 32) * 5/9\n",
        "print(f\"{fahrenheit} Grad Fahrenheit entspricht {celsius} Grad Celsius\")\n",
        "if celsius < 0:\n",
        "  print(\"Brr! Es ist kalt hier drinnen\")\n"
      ],
      "metadata": {
        "id": "M2wRZPzY5pme",
        "outputId": "d2332a3f-3891-40a4-9e99-0382155208df",
        "colab": {
          "base_uri": "https://localhost:8080/"
        }
      },
      "execution_count": null,
      "outputs": [
        {
          "output_type": "stream",
          "name": "stdout",
          "text": [
            "Bitte geben Sie eine Temperatur (F) ein: 21\n",
            "21.0 Grad Fahrenheit entspricht -6.111111111111111 Grad Celsius\n",
            "Brr! Es ist kalt hier drinnen\n"
          ]
        }
      ]
    },
    {
      "cell_type": "markdown",
      "source": [
        "### Übung 3\n",
        "\n",
        "Schreibe ein Programm, das nach dem Stundenlohn, den Arbeitsstunden und dem Wochentag fragt. Das Programm sollte dann den Tageslohn ausgeben, der dem Stundenlohn multipliziert mit den geleisteten Arbeitsstunden entspricht, außer an Sonntagen, wenn der Stundenlohn verdoppelt wird.\n",
        "\n",
        "```\n",
        "Stundenlohn: 8,5\n",
        "Geleistete Stunden: 3\n",
        "Tag der Woche: Montag\n",
        "Tageslohn: 25,5 Euro\n",
        "```\n",
        "\n",
        "```\n",
        "Stundenlohn: 12,5\n",
        "Geleistete Arbeitsstunden: 10\n",
        "Tag der Woche: Sonntag\n",
        "Tageslohn: 250,0 Euro\n",
        "```"
      ],
      "metadata": {
        "id": "nkEaFCTc5rDb"
      }
    },
    {
      "cell_type": "code",
      "source": [
        "# Dein Code hier\n",
        "stundenlohn = float(input(\"Stundenlohn: \"))\n",
        "stunden = float(input(\"Geleistete Stunden: \"))\n",
        "tag = input(\"Tag der Woche: \")\n",
        "if tag != \"Sonntag\":\n",
        " print(f\"Tageslohn: {stundenlohn * stunden} Euro\")\n",
        "if tag == \"Sonntag\":\n",
        " print(f\"Tageslohn: {(stundenlohn * 2) * stunden} Euro\")"
      ],
      "metadata": {
        "id": "hFK4XMKU53qN",
        "outputId": "b587092d-c2bd-4c7f-d748-79eff3480bb2",
        "colab": {
          "base_uri": "https://localhost:8080/"
        }
      },
      "execution_count": null,
      "outputs": [
        {
          "output_type": "stream",
          "name": "stdout",
          "text": [
            "Stundenlohn: 12.5\n",
            "Geleistete Stunden: 10\n",
            "Tag der Woche: Sonntag\n",
            "Tageslohn: 250.0 Euro\n"
          ]
        }
      ]
    },
    {
      "cell_type": "markdown",
      "source": [
        "### Übung 4\n",
        "\n",
        "Dieses Programm berechnet den Bonus, den ein Kunde am Jahresende auf seiner Kundenkarte erhält. Der Bonus wird nach der folgenden Formel berechnet:\n",
        "\n",
        "Wenn weniger als hundert Punkte auf der Karte sind, beträgt der Bonus 10 %.\n",
        "In allen anderen Fällen beträgt der Bonus 15 %.\n",
        "Das Programm sollte wie folgt funktionieren:\n",
        "\n",
        "```\n",
        "Wie viele Punkte befinden sich auf Ihrer Karte? 55\n",
        "Ihr Bonus beträgt 10 %.\n",
        "Sie haben jetzt 60,5 Punkte\n",
        "```\n",
        "Es gibt jedoch ein Problem mit dem Programm, so dass es bei einigen Eingaben nicht ganz richtig funktioniert:\n",
        "\n",
        "```\n",
        "Wie viele Punkte befinden sich auf Ihrer Karte? 95\n",
        "Ihr Bonus beträgt 10 %.\n",
        "Ihr Bonus beträgt 15 %.\n",
        "Sie haben jetzt 120.175 Punkte\n",
        "```\n",
        "Ändere das Programm so, dass es immer entweder einen 10 %- oder einen 15%-Bonus gibt, aber nie beides.\n"
      ],
      "metadata": {
        "id": "tg3Fgqc-6Nf0"
      }
    },
    {
      "cell_type": "code",
      "source": [
        "# Fix den Fehler im Programm\n",
        "points = int(input(\"Wie viele Punkte befinden sich auf Ihrer Karte? \"))\n",
        "if points < 100:\n",
        "    points *= 1.1\n",
        "    print(\"Ihr Bonus beträgt 10 %\")\n",
        "\n",
        "if points >= 100:\n",
        "    points *= 1.15\n",
        "    print(\"Ihr Bonus beträgt 15 %\")\n",
        "\n",
        "print(f\"Sie haben jetzt {round(points,2)} Punkte\")\n"
      ],
      "metadata": {
        "id": "cuFZ6z_i6ofK",
        "outputId": "fab3bda2-1be4-4a78-dd63-dd0fcdea57d2",
        "colab": {
          "base_uri": "https://localhost:8080/"
        }
      },
      "execution_count": 40,
      "outputs": [
        {
          "output_type": "stream",
          "name": "stdout",
          "text": [
            "Wie viele Punkte befinden sich auf Ihrer Karte? 105\n",
            "Ihr Bonus beträgt 15 %\n",
            "Sie haben jetzt 120.75 Punkte\n"
          ]
        }
      ]
    },
    {
      "cell_type": "markdown",
      "source": [
        "### Übung 5\n",
        "\n",
        "Schreube ein Programm, das nach der morgigen Wettervorhersage fragt und dann wetterangepasste Kleidung vorschlägt.\n",
        "\n",
        "Der Vorschlag sollte sich ändern, wenn die Temperatur (gemessen in Grad Celsius) über 20, 10 oder 5 Grad liegt, und auch, wenn Regen auf dem Radar zu sehen ist.\n",
        "\n",
        "Einige Beispiele für das erwartete Verhalten:\n",
        "\n",
        "```\n",
        "Wie lautet die Wettervorhersage für morgen?\n",
        "Temperatur: 21\n",
        "Wird es regnen (ja/nein): nein\n",
        "Trage Jeans und ein T-Shirt\n",
        "```\n",
        "```\n",
        "Wie ist die Wettervorhersage für morgen?\n",
        "Temperatur: 11\n",
        "Wird es regnen (ja/nein): nein\n",
        "Tragen Sie Jeans und ein T-Shirt\n",
        "Ich empfehle auch einen Pullover\n",
        "```\n",
        "```\n",
        "Wie ist die Wettervorhersage für morgen?\n",
        "Temperatur: 7\n",
        "Wird es regnen (ja/nein): nein\n",
        "Tragen Sie Jeans und ein T-Shirt\n",
        "Ich empfehle auch einen Pullover\n",
        "Nehmen Sie eine Jacke mit\n",
        "```\n",
        "```\n",
        "Wie ist die Wettervorhersage für morgen?\n",
        "Temperatur: 3\n",
        "Wird es regnen (ja/nein): ja\n",
        "Tragen Sie Jeans und ein T-Shirt\n",
        "Ich empfehle auch einen Pullover\n",
        "Nehmen Sie eine Jacke mit\n",
        "Es sollte eine warme Jacke sein.\n",
        "Ich denke, Handschuhe sind in Ordnung\n",
        "Vergessen Sie Ihren Regenschirm nicht\n",
        "```"
      ],
      "metadata": {
        "id": "Tv2elh1a61iT"
      }
    },
    {
      "cell_type": "code",
      "source": [
        "# Dein Code hier\n",
        "print(\"Wie lautet die Wettervorhersage für morgen?\")\n",
        "temperatur = input(\"Temperatur: \")\n",
        "regen = input(\"Wird es regnen (ja/nein): \")\n",
        "if int(temperatur) <= 21:\n",
        "  print(\"Trage Jeans und ein T-Shirt\")\n",
        "if int(temperatur) <= 11:\n",
        "  print(\"Ich empfehle auch einen Pullover\")\n",
        "if int(temperatur) <= 7:\n",
        "  print(\"Nehmen Sie eine Jacke mit\")\n",
        "if int(temperatur) <= 3:\n",
        "else int(regen == \"ja\")\n",
        "  print(\"Es sollte eine warme Jacke sein.\")\n",
        "  print(\"Ich denke, Handschuhe sind in Ordnung\")\n",
        "  print(\"Vergessen Sie Ihren Regenschirm nicht\")"
      ],
      "metadata": {
        "id": "GoK8kqPe7VLi",
        "outputId": "dad63919-a310-42b3-d033-648420b95ad9",
        "colab": {
          "base_uri": "https://localhost:8080/",
          "height": 106
        }
      },
      "execution_count": 53,
      "outputs": [
        {
          "output_type": "error",
          "ename": "IndentationError",
          "evalue": "expected an indented block after 'if' statement on line 11 (<ipython-input-53-2f239aa3ae61>, line 12)",
          "traceback": [
            "\u001b[0;36m  File \u001b[0;32m\"<ipython-input-53-2f239aa3ae61>\"\u001b[0;36m, line \u001b[0;32m12\u001b[0m\n\u001b[0;31m    else int(regen == \"ja\")\u001b[0m\n\u001b[0m    ^\u001b[0m\n\u001b[0;31mIndentationError\u001b[0m\u001b[0;31m:\u001b[0m expected an indented block after 'if' statement on line 11\n"
          ]
        }
      ]
    }
  ]
}