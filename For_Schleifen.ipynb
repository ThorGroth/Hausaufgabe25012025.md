{
  "nbformat": 4,
  "nbformat_minor": 0,
  "metadata": {
    "colab": {
      "provenance": [],
      "include_colab_link": true
    },
    "kernelspec": {
      "name": "python3",
      "display_name": "Python 3"
    },
    "language_info": {
      "name": "python"
    }
  },
  "cells": [
    {
      "cell_type": "markdown",
      "metadata": {
        "id": "view-in-github",
        "colab_type": "text"
      },
      "source": [
        "<a href=\"https://colab.research.google.com/github/ThorGroth/Hausaufgabe25012025.md/blob/main/For_Schleifen.ipynb\" target=\"_parent\"><img src=\"https://colab.research.google.com/assets/colab-badge.svg\" alt=\"Open In Colab\"/></a>"
      ]
    },
    {
      "cell_type": "markdown",
      "source": [
        "## 1. Klassische C-ähnliche for-Schleife (mit range)\n",
        "\n",
        "Diese Schleife gibt die Zahlen von 0 bis 4 aus:\n",
        "\n",
        "```\n",
        "for (int i = 0; i < 5; i++) {\n",
        "    printf(\"%d\\n\", i);\n",
        "}\n",
        "```\n",
        "\n",
        "`int i = 0` - `i` Zählervariable, i steht für Iterationen bzw. Wiederholungen, die Zählervariable wird mit dem Wert 0 initialisiert\n",
        "\n",
        "`i < 5` - die Abbruchsbedingung fuer die Schleife\n",
        "\n",
        "`i++` - `i++ = i + 1` Erhoeung des Wertes der Variable um 1\n",
        "\n",
        "Diese Schleife gibt die Zahlen von 10 bis 0 aus:\n",
        "\n",
        "```\n",
        "for (int i = 10; i > 0; i--) {\n",
        "    printf(\"%d\\n\", i);\n",
        "}\n",
        "```\n",
        "\n",
        "In Python schreibt man solche Schleifen viel einfacher:\n",
        "```\n",
        "for i in range(5):\n",
        "    print(i)\n",
        "\n",
        "```\n",
        "\n",
        "Diese Schleife startet bei 0, laeuft bis 5 (exklusiv), Schrittweite 1\n",
        "```\n",
        "for i in range(0, 5, 1):  \n",
        "    print(i)\n",
        "```\n"
      ],
      "metadata": {
        "id": "CKcnSroZ4fec"
      }
    },
    {
      "cell_type": "code",
      "source": [
        "for i in range(5):  # Zählt von 0 bis 4\n",
        "    print(i)\n"
      ],
      "metadata": {
        "colab": {
          "base_uri": "https://localhost:8080/"
        },
        "id": "jWm39_5E7ObC",
        "outputId": "bcd6186e-29c4-47ee-cd10-ca57b81ceeb2"
      },
      "execution_count": null,
      "outputs": [
        {
          "output_type": "stream",
          "name": "stdout",
          "text": [
            "0\n",
            "1\n",
            "2\n",
            "3\n",
            "4\n"
          ]
        }
      ]
    },
    {
      "cell_type": "code",
      "source": [
        "for i in range(2, 10, 2):\n",
        "    print(i)"
      ],
      "metadata": {
        "colab": {
          "base_uri": "https://localhost:8080/"
        },
        "id": "X9iW7OVP7xWB",
        "outputId": "8ec83a1b-d3ee-4dc1-874a-1d509f666f4e"
      },
      "execution_count": null,
      "outputs": [
        {
          "output_type": "stream",
          "name": "stdout",
          "text": [
            "2\n",
            "4\n",
            "6\n",
            "8\n"
          ]
        }
      ]
    },
    {
      "cell_type": "markdown",
      "source": [
        "## 2. Durch Listen iterieren\n",
        "\n",
        "Die Variable `zahl`repraesentiert jedes Element in der Liste."
      ],
      "metadata": {
        "id": "zE51YIuE8et_"
      }
    },
    {
      "cell_type": "code",
      "source": [
        "zahlen = [10, 20, 30, 40]\n",
        "\n",
        "for zahl in zahlen:\n",
        "    print(zahl * 10)\n"
      ],
      "metadata": {
        "colab": {
          "base_uri": "https://localhost:8080/"
        },
        "id": "JHAl7Q-T825s",
        "outputId": "9fe14b4a-7112-4cfe-a139-09a5d1271868"
      },
      "execution_count": null,
      "outputs": [
        {
          "output_type": "stream",
          "name": "stdout",
          "text": [
            "100\n",
            "200\n",
            "300\n",
            "400\n"
          ]
        }
      ]
    },
    {
      "cell_type": "markdown",
      "source": [
        "## 3. Durch Strings iterieren"
      ],
      "metadata": {
        "id": "WodpCJkB9gF5"
      }
    },
    {
      "cell_type": "code",
      "source": [
        "word = \"Python\"\n",
        "\n",
        "for character in word:\n",
        "    print(character)\n"
      ],
      "metadata": {
        "colab": {
          "base_uri": "https://localhost:8080/"
        },
        "id": "6Z573Oy-9on4",
        "outputId": "90e3206e-5290-47bb-e1da-43ccd741b274"
      },
      "execution_count": null,
      "outputs": [
        {
          "output_type": "stream",
          "name": "stdout",
          "text": [
            "P\n",
            "y\n",
            "t\n",
            "h\n",
            "o\n",
            "n\n"
          ]
        }
      ]
    },
    {
      "cell_type": "markdown",
      "source": [
        "## 4. Indizes mit `enumerate()`"
      ],
      "metadata": {
        "id": "-pq8-jZI-Ftu"
      }
    },
    {
      "cell_type": "code",
      "source": [
        "zahlen = [10, 20, 30, 40]\n",
        "\n",
        "for index, wert in enumerate(zahlen):\n",
        "    print(f\"Index {index}: Wert {wert}\")\n"
      ],
      "metadata": {
        "colab": {
          "base_uri": "https://localhost:8080/"
        },
        "id": "ZFMHVsBQ-Ui-",
        "outputId": "1878d3ba-e2db-4e26-a684-ad773a32333e"
      },
      "execution_count": null,
      "outputs": [
        {
          "output_type": "stream",
          "name": "stdout",
          "text": [
            "Index 0: Wert 10\n",
            "Index 1: Wert 20\n",
            "Index 2: Wert 30\n",
            "Index 3: Wert 40\n"
          ]
        }
      ]
    },
    {
      "cell_type": "markdown",
      "source": [
        "5. Durch `dict` iterieren"
      ],
      "metadata": {
        "id": "kRDVDZRY-s4U"
      }
    },
    {
      "cell_type": "code",
      "source": [
        "student = {\"Name\": \"Anna\", \"Alter\": 25, \"Kurs\": \"Python\"}\n",
        "\n",
        "for schluessel in student:\n",
        "    print(schluessel, \"->\", student[schluessel])\n"
      ],
      "metadata": {
        "colab": {
          "base_uri": "https://localhost:8080/"
        },
        "id": "jkl6afir-wAf",
        "outputId": "2ceb703d-7ddc-48a7-b5f7-cdf8bd5a3000"
      },
      "execution_count": null,
      "outputs": [
        {
          "output_type": "stream",
          "name": "stdout",
          "text": [
            "Name -> Anna\n",
            "Alter -> 25\n",
            "Kurs -> Python\n"
          ]
        }
      ]
    },
    {
      "cell_type": "code",
      "source": [
        "for schluessel, wert in student.items():\n",
        "    print(f\"{schluessel}: {wert}\")\n"
      ],
      "metadata": {
        "colab": {
          "base_uri": "https://localhost:8080/"
        },
        "id": "RnIJ9lPn_CJf",
        "outputId": "234b26ea-a3aa-480f-d305-3779676082a5"
      },
      "execution_count": null,
      "outputs": [
        {
          "output_type": "stream",
          "name": "stdout",
          "text": [
            "Name: Anna\n",
            "Alter: 25\n",
            "Kurs: Python\n"
          ]
        }
      ]
    },
    {
      "cell_type": "markdown",
      "source": [
        "## 6. Durch Mengen (`set`) iterieren\n",
        "Mengen (`set`) speichern Elemente ohne bestimmte Reihenfolge und ohne Duplikate"
      ],
      "metadata": {
        "id": "urSIrPXN_VF9"
      }
    },
    {
      "cell_type": "code",
      "source": [
        "farben = {\"rot\", \"blau\", \"grün\"}\n",
        "\n",
        "for farbe in farben:\n",
        "    print(farbe)\n"
      ],
      "metadata": {
        "colab": {
          "base_uri": "https://localhost:8080/"
        },
        "id": "6aQSJbtz_qqI",
        "outputId": "8c76f1bd-7259-458f-8c37-82007c27b13e"
      },
      "execution_count": null,
      "outputs": [
        {
          "output_type": "stream",
          "name": "stdout",
          "text": [
            "blau\n",
            "grün\n",
            "rot\n"
          ]
        }
      ]
    },
    {
      "cell_type": "markdown",
      "source": [
        "## 7. List Comprehensions\n",
        "\n",
        "Wenn man eine neue transformierte Liste erstellen moechte, benutzt man sehr oft List Comprehensions."
      ],
      "metadata": {
        "id": "GNRk7ocD_pD5"
      }
    },
    {
      "cell_type": "code",
      "source": [
        "zahlen = [1, 2, 3, 4, 5]\n",
        "quadrate = [x**2 for x in zahlen]\n",
        "print(zahlen)\n",
        "print(quadrate)"
      ],
      "metadata": {
        "colab": {
          "base_uri": "https://localhost:8080/"
        },
        "id": "rJR660DOAnFm",
        "outputId": "6f62f089-0577-4c47-fd0e-a652ae4f8f91"
      },
      "execution_count": null,
      "outputs": [
        {
          "output_type": "stream",
          "name": "stdout",
          "text": [
            "[1, 2, 3, 4, 5]\n",
            "[1, 4, 9, 16, 25]\n"
          ]
        }
      ]
    },
    {
      "cell_type": "markdown",
      "source": [],
      "metadata": {
        "id": "Fesa_W0sBxOn"
      }
    },
    {
      "cell_type": "code",
      "source": [
        "# Das gleiche macht folgende Schleife:\n",
        "quadrate = []\n",
        "for x in zahlen:\n",
        "    quadrate.append(x**2)\n",
        "\n",
        "print(quadrate)\n"
      ],
      "metadata": {
        "colab": {
          "base_uri": "https://localhost:8080/"
        },
        "id": "tu0AsArvBCoY",
        "outputId": "4b045d07-289a-4650-e1c4-00657917acc9"
      },
      "execution_count": null,
      "outputs": [
        {
          "output_type": "stream",
          "name": "stdout",
          "text": [
            "[1, 4, 9, 16, 25]\n"
          ]
        }
      ]
    },
    {
      "cell_type": "markdown",
      "source": [
        "## 8. `for` mit `else` – Eine seltene, aber coole Python-Eigenschaft\n",
        "\n",
        "Python erlaubt eine `else-Klausel nach einer for-Schleife. Diese wird nur ausgeführt, wenn die Schleife nicht durch break unterbrochen wurde:"
      ],
      "metadata": {
        "id": "Uf_bumYEBxVd"
      }
    },
    {
      "cell_type": "code",
      "source": [
        "for x in range(5):\n",
        "    if x == 3:\n",
        "        print(\"Gefunden!\")\n",
        "        break\n",
        "else:\n",
        "    print(\"Nicht gefunden!\")  # Wird nur ausgeführt, wenn `break` nicht erreicht wurde\n"
      ],
      "metadata": {
        "colab": {
          "base_uri": "https://localhost:8080/"
        },
        "id": "0wKgUehhCDoi",
        "outputId": "c9362e51-7e39-4f1c-d2bf-7a0b1f9739b2"
      },
      "execution_count": null,
      "outputs": [
        {
          "output_type": "stream",
          "name": "stdout",
          "text": [
            "Gefunden!\n"
          ]
        }
      ]
    },
    {
      "cell_type": "code",
      "source": [
        "for x in range(5):\n",
        "    if x == 13:\n",
        "        print(\"Gefunden!\")\n",
        "        break\n",
        "else:\n",
        "    print(\"Nicht gefunden!\")  # Wird nur ausgeführt, wenn `break` nicht erreicht wurde\n"
      ],
      "metadata": {
        "id": "nZi67Y9fCLzO",
        "outputId": "10e2d750-3b05-42c6-fc34-7c72c0be78e9",
        "colab": {
          "base_uri": "https://localhost:8080/"
        }
      },
      "execution_count": null,
      "outputs": [
        {
          "output_type": "stream",
          "name": "stdout",
          "text": [
            "Nicht gefunden!\n"
          ]
        }
      ]
    }
  ]
}