{
  "nbformat": 4,
  "nbformat_minor": 0,
  "metadata": {
    "colab": {
      "provenance": [],
      "include_colab_link": true
    },
    "kernelspec": {
      "name": "python3",
      "display_name": "Python 3"
    },
    "language_info": {
      "name": "python"
    }
  },
  "cells": [
    {
      "cell_type": "markdown",
      "metadata": {
        "id": "view-in-github",
        "colab_type": "text"
      },
      "source": [
        "<a href=\"https://colab.research.google.com/github/ThorGroth/Hausaufgabe25012025.md/blob/main/For_Schleifen.ipynb\" target=\"_parent\"><img src=\"https://colab.research.google.com/assets/colab-badge.svg\" alt=\"Open In Colab\"/></a>"
      ]
    },
    {
      "cell_type": "markdown",
      "source": [
        "## 1. Klassische C-ähnliche for-Schleife (mit range)\n",
        "\n",
        "Diese Schleife gibt die Zahlen von 0 bis 4 aus:\n",
        "\n",
        "```\n",
        "for (int i = 0; i < 5; i++) {\n",
        "    printf(\"%d\\n\", i);\n",
        "}\n",
        "```\n",
        "\n",
        "`int i = 0` - `i` Zählervariable, i steht für Iterationen bzw. Wiederholungen, die Zählervariable wird mit dem Wert 0 initialisiert\n",
        "\n",
        "`i < 5` - die Abbruchsbedingung fuer die Schleife\n",
        "\n",
        "`i++` - `i++ = i + 1` Erhoeung des Wertes der Variable um 1\n",
        "\n",
        "Diese Schleife gibt die Zahlen von 10 bis 0 aus:\n",
        "\n",
        "```\n",
        "for (int i = 10; i > 0; i--) {\n",
        "    printf(\"%d\\n\", i);\n",
        "}\n",
        "```\n",
        "\n",
        "In Python schreibt man solche Schleifen viel einfacher:\n",
        "```\n",
        "for i in range(5):\n",
        "    print(i)\n",
        "\n",
        "```\n",
        "\n",
        "Diese Schleife startet bei 0, laeuft bis 5 (exklusiv), Schrittweite 1\n",
        "```\n",
        "for i in range(0, 5, 1):  \n",
        "    print(i)\n",
        "```\n"
      ],
      "metadata": {
        "id": "CKcnSroZ4fec"
      }
    },
    {
      "cell_type": "code",
      "source": [
        "for i in range(5):  # Zählt von 0 bis 4\n",
        "    print(i)\n"
      ],
      "metadata": {
        "colab": {
          "base_uri": "https://localhost:8080/"
        },
        "id": "jWm39_5E7ObC",
        "outputId": "bcd6186e-29c4-47ee-cd10-ca57b81ceeb2"
      },
      "execution_count": null,
      "outputs": [
        {
          "output_type": "stream",
          "name": "stdout",
          "text": [
            "0\n",
            "1\n",
            "2\n",
            "3\n",
            "4\n"
          ]
        }
      ]
    },
    {
      "cell_type": "code",
      "source": [
        "for i in range(2, 10, 2):\n",
        "    print(i)"
      ],
      "metadata": {
        "colab": {
          "base_uri": "https://localhost:8080/"
        },
        "id": "X9iW7OVP7xWB",
        "outputId": "8ec83a1b-d3ee-4dc1-874a-1d509f666f4e"
      },
      "execution_count": null,
      "outputs": [
        {
          "output_type": "stream",
          "name": "stdout",
          "text": [
            "2\n",
            "4\n",
            "6\n",
            "8\n"
          ]
        }
      ]
    },
    {
      "cell_type": "markdown",
      "source": [
        "## 2. Durch Listen iterieren\n",
        "\n",
        "Die Variable `zahl`repraesentiert jedes Element in der Liste."
      ],
      "metadata": {
        "id": "zE51YIuE8et_"
      }
    },
    {
      "cell_type": "code",
      "source": [
        "zahlen = [10, 20, 30, 40]\n",
        "\n",
        "for zahl in zahlen:\n",
        "    print(zahl * 10)\n"
      ],
      "metadata": {
        "colab": {
          "base_uri": "https://localhost:8080/"
        },
        "id": "JHAl7Q-T825s",
        "outputId": "9fe14b4a-7112-4cfe-a139-09a5d1271868"
      },
      "execution_count": null,
      "outputs": [
        {
          "output_type": "stream",
          "name": "stdout",
          "text": [
            "100\n",
            "200\n",
            "300\n",
            "400\n"
          ]
        }
      ]
    },
    {
      "cell_type": "markdown",
      "source": [
        "## 3. Durch Strings iterieren"
      ],
      "metadata": {
        "id": "WodpCJkB9gF5"
      }
    },
    {
      "cell_type": "code",
      "source": [
        "word = \"Python\"\n",
        "\n",
        "for character in word:\n",
        "    print(character)\n"
      ],
      "metadata": {
        "colab": {
          "base_uri": "https://localhost:8080/"
        },
        "id": "6Z573Oy-9on4",
        "outputId": "90e3206e-5290-47bb-e1da-43ccd741b274"
      },
      "execution_count": null,
      "outputs": [
        {
          "output_type": "stream",
          "name": "stdout",
          "text": [
            "P\n",
            "y\n",
            "t\n",
            "h\n",
            "o\n",
            "n\n"
          ]
        }
      ]
    },
    {
      "cell_type": "markdown",
      "source": [
        "## 4. Indizes mit `enumerate()`"
      ],
      "metadata": {
        "id": "-pq8-jZI-Ftu"
      }
    },
    {
      "cell_type": "code",
      "source": [
        "zahlen = [10, 20, 30, 40]\n",
        "\n",
        "for index, wert in enumerate(zahlen):\n",
        "    print(f\"Index {index}: Wert {wert}\")\n"
      ],
      "metadata": {
        "id": "ZFMHVsBQ-Ui-"
      },
      "execution_count": null,
      "outputs": []
    }
  ]
}