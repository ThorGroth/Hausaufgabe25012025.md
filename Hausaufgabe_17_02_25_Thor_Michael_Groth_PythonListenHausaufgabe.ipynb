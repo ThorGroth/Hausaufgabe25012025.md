{
  "nbformat": 4,
  "nbformat_minor": 0,
  "metadata": {
    "colab": {
      "provenance": [],
      "include_colab_link": true
    },
    "kernelspec": {
      "name": "python3",
      "display_name": "Python 3"
    },
    "language_info": {
      "name": "python"
    }
  },
  "cells": [
    {
      "cell_type": "markdown",
      "metadata": {
        "id": "view-in-github",
        "colab_type": "text"
      },
      "source": [
        "<a href=\"https://colab.research.google.com/github/ThorGroth/Hausaufgabe25012025.md/blob/main/Hausaufgabe_17_02_25_Thor_Michael_Groth_PythonListenHausaufgabe.ipynb\" target=\"_parent\"><img src=\"https://colab.research.google.com/assets/colab-badge.svg\" alt=\"Open In Colab\"/></a>"
      ]
    },
    {
      "cell_type": "markdown",
      "source": [
        "# Python Listen Hausaufgabe\n",
        "\n",
        "Im Folgenden findest du **4 Aufgaben**, die jeweils **Listen** in verschiedenen realitätsnahen Szenarien nutzen.\n",
        "\n",
        "### Allgemeine Hinweise\n",
        "- **Nutze ausschließlich** die Methoden, die du bereits kennst: `append()`, `insert()`, `remove()`, `pop()`, `len()`, sowie einfache Schleifen und Bedingungen.  \n",
        "- Überlege, welche **Fehlersituationen** auftreten können (z.B. ungültiger Index, Produkt nicht vorhanden, maximale Kursanzahl etc.).  \n",
        "- Baue **weitere Features** ein, wenn du möchtest (z.B. Sortierung, Begrenzungen, zusätzliche Abfragen).\n",
        "\n",
        "Viel Erfolg beim Ausprobieren und Erweitern!\n",
        "\n",
        "---\n",
        "\n",
        "## 1. Bücherverwaltung in einer Bibliothek\n",
        "\n",
        "### Aufgabenbeschreibung\n",
        "Stelle dir vor, du arbeitest in einer kleinen Bibliothek und verwaltest die Bücher, die ausgeliehen oder zurückgegeben werden.\n",
        "\n",
        "1. Am Anfang des Programms wird eine leere Liste `bookshelf = []` erstellt.  \n",
        "2. Implementiere die Funktion `add_book(buecherregal, title)`, die ein **neues Buch** nur hinzufügt, wenn es nicht bereits vorhanden ist. Gebe folgende Meldungen aus:\n",
        "    - `\"Book '{title}' was added to the shelf.\"`, wenn das Buch neu ist.\n",
        "    - `\"Book '{title}' is already on the shelf.\"`, wenn das Buch bereits existiert.  \n",
        "3. Implementiere die Funktion `remove_book(buecherregal, title)`, die ein Buch nach Titel entfernt. Wenn das Buch nicht existiert, gebe eine Fehlermeldung aus.  \n",
        "4. Implementiere die Funktion `display_books(buecherregal)`, die **alle** Bücher auflistet. Falls keine Bücher vorhanden sind, teile dies ebenfalls mit.  \n",
        "5. Implementiere die Funktion `borrow_book(buecherregal, title)`, die:\n",
        "    - Das Buch aus `buecherregal` entfernt und ausgibt: `\"Book '{title}' has been borrowed.\"`, falls vorhanden.\n",
        "    - Andernfalls: `\"Book '{title}' is not available.\"`\n",
        "\n",
        "**Hinweis**  \n",
        "- Die `main()`-Funktion, in der du mehrmals auf diese Funktionen zugreifst, um das Hinzufügen, Anzeigen, Ausleihen und Entfernen zu testen, ist schon implementiert und kann für die Tests benutzt werden.\n",
        "\n",
        "### Skeleton Code:\n",
        "\n",
        "\n"
      ],
      "metadata": {
        "id": "TXesxwhVoUBG"
      }
    },
    {
      "cell_type": "code",
      "source": [
        "def add_book(bookshelf, title):\n",
        "  if title not in bookshelf:\n",
        "        bookshelf.append(title)\n",
        "        print(f\"Book '{title}' was added to the shelf.\")\n",
        "  else:\n",
        "        print(f\"Book '{title}' is already on the shelf.\")\n",
        "\n",
        "    # TODO: Check if 'title' is already in 'bookshelf'.\n",
        "    #       If not, append it and print a success message.\n",
        "    #       Otherwise, print a message that it's already there.\n",
        "\n",
        "def remove_book(bookshelf, title):\n",
        "  if title in bookshelf:\n",
        "        bookshelf.remove(title)\n",
        "        print(f\"Book '{title}' has been removed.\")\n",
        "  else:\n",
        "        print(f\"Book '{title}' does not exist on the shelf.\")\n",
        "    # TODO: Remove the book by its title if it exists.\n",
        "    #       Print an error if it doesn't exist.\n",
        "\n",
        "def display_books(bookshelf):\n",
        "   if bookshelf:\n",
        "        print(\"Books on the shelf:\")\n",
        "        for book in bookshelf:\n",
        "            print(f\"- {book}\")\n",
        "    # TODO: Print all books if the list is not empty.\n",
        "    #       Otherwise, indicate that the shelf is empty.\n",
        "\n",
        "def borrow_book(bookshelf, title):\n",
        "    if title in bookshelf:\n",
        "        bookshelf.remove(title)\n",
        "        print(f\"Book '{title}' has been borrowed.\")\n",
        "    else:\n",
        "        print(f\"Book '{title}' is not available.\")\n",
        "    # TODO: If the book is in 'bookshelf', remove it and print a message.\n",
        "    #       Otherwise, print it's not available.\n",
        "\n",
        "def main():\n",
        "    bookshelf = []\n",
        "\n",
        "    # Test your functions:\n",
        "    add_book(bookshelf, \"Python 101\")\n",
        "    add_book(bookshelf, \"Python 101\")  # Should indicate it's already there\n",
        "    display_books(bookshelf)\n",
        "    borrow_book(bookshelf, \"Python 101\")\n",
        "    borrow_book(bookshelf, \"Nonexistent Book\")\n",
        "    remove_book(bookshelf, \"Python 101\")\n",
        "    display_books(bookshelf)\n",
        "\n",
        "if __name__ == \"__main__\":\n",
        "    main()"
      ],
      "metadata": {
        "id": "ZKipn2OspZcv",
        "colab": {
          "base_uri": "https://localhost:8080/"
        },
        "outputId": "ee679a05-35e2-433d-954b-091d0a4778db"
      },
      "execution_count": 4,
      "outputs": [
        {
          "output_type": "stream",
          "name": "stdout",
          "text": [
            "Book 'Python 101' was added to the shelf.\n",
            "Book 'Python 101' is already on the shelf.\n",
            "Books on the shelf:\n",
            "- Python 101\n",
            "Book 'Python 101' has been borrowed.\n",
            "Book 'Nonexistent Book' is not available.\n",
            "Book 'Python 101' does not exist on the shelf.\n"
          ]
        }
      ]
    },
    {
      "cell_type": "markdown",
      "source": [
        "---\n",
        "\n",
        "## 2. Kursverwaltung in einer E-Learning-App\n",
        "\n",
        "### Aufgabenbeschreibung\n",
        "Auf einer E-Learning-Plattform können sich Nutzer in verschiedene Kurse ein- oder austragen. Jedoch darf jede Person maximal **3 Kurse** belegen.\n",
        "\n",
        "1. Die Liste `courses = []` wird am Anfang des Programms angelegt, die die aktuell belegten Kurse eines Nutzers speichert.  \n",
        "2. Implementiere `join_course(kurse, course_name)`, das prüft, ob noch Platz ist (max. 3 Kurse):\n",
        "    - Wenn Platz vorhanden: Füge `course_name` an und gebe `\"Enrolled in the course: {course_name}.\"` aus.\n",
        "    - Wenn kein Platz mehr: `\"You are already enrolled in 3 courses and have no more room.\"`\n",
        "3. Implementiere `leave_course(kurse, course_name)`, das:\n",
        "    - Den Kurs entfernt, wenn er in der Liste vorhanden ist.\n",
        "    - Eine Meldung ausgibt, wenn der Kurs sich **nicht** in der Liste befindet.  \n",
        "4. Implementiere `display_courses(kurse)`, um alle aktuellen Kurse anzuzeigen. Falls keine Kurse belegt sind, gebe dies an.\n",
        "\n",
        "**Testen**  \n",
        "- In der `main()`-Funktion füge mehrere Kurse hinzu, verlasse einige davon und rufe zwischendurch `display_courses` auf, um den aktuellen Status zu prüfen.\n",
        "\n",
        "### Skeleton Code:\n",
        "\n",
        "\n",
        "\n",
        "\n"
      ],
      "metadata": {
        "id": "7PKpW28_pIcq"
      }
    },
    {
      "cell_type": "code",
      "source": [
        "def join_course(courses, course_name):\n",
        "  if len(courses) < 3:\n",
        "        courses.append(course_name)\n",
        "        print(f\"Course '{course_name}' has been added.\")\n",
        "  else:\n",
        "        print(\"You are already enrolled in 3 courses and have no more room.\")\n",
        "    # TODO: Check if len(courses) < 3.\n",
        "    #       If yes, append and print a success message.\n",
        "    #       Otherwise, print there's no more room.\n",
        "\n",
        "def leave_course(courses, course_name):\n",
        "    if course_name in courses:\n",
        "        courses.remove(course_name)\n",
        "        print(f\"Course '{course_name}' has been removed.\")\n",
        "    else:\n",
        "        print(f\"Course '{course_name}' not found.\")\n",
        "    # TODO: Remove the course if it exists in 'courses',\n",
        "    #       otherwise print a message that it's not found.\n",
        "\n",
        "def display_courses(courses):\n",
        "      if courses:\n",
        "        print(\"Enrolled courses:\")\n",
        "        for course in courses:\n",
        "            print(f\"- {course}\")\n",
        "      else:\n",
        "        print(\"No courses are currently enrolled.\")\n",
        "    # TODO: Print each course if the list is not empty.\n",
        "    #       Otherwise, say that no courses are enrolled.\n",
        "\n",
        "def main():\n",
        "    courses = []\n",
        "\n",
        "    join_course(courses, \"Math\")\n",
        "    join_course(courses, \"English\")\n",
        "    join_course(courses, \"Biology\")\n",
        "    join_course(courses, \"Physics\")  # Should say no more room\n",
        "\n",
        "    display_courses(courses)\n",
        "\n",
        "    leave_course(courses, \"English\")\n",
        "    leave_course(courses, \"Philosophy\")  # Not found in the list\n",
        "\n",
        "    display_courses(courses)\n",
        "\n",
        "if __name__ == \"__main__\":\n",
        "    main()"
      ],
      "metadata": {
        "id": "mnwW4ARnqBlo",
        "colab": {
          "base_uri": "https://localhost:8080/"
        },
        "outputId": "b768aec1-4a68-41dd-dcdb-b22910c7fcaf"
      },
      "execution_count": 6,
      "outputs": [
        {
          "output_type": "stream",
          "name": "stdout",
          "text": [
            "Course 'Math' has been added.\n",
            "Course 'English' has been added.\n",
            "Course 'Biology' has been added.\n",
            "You are already enrolled in 3 courses and have no more room.\n",
            "Enrolled courses:\n",
            "- Math\n",
            "- English\n",
            "- Biology\n",
            "Course 'English' has been removed.\n",
            "Course 'Philosophy' not found.\n",
            "Enrolled courses:\n",
            "- Math\n",
            "- Biology\n"
          ]
        }
      ]
    },
    {
      "cell_type": "markdown",
      "source": [
        "---\n",
        "\n",
        "## 3. Online-Shop – Einkaufsliste\n",
        "\n",
        "### Aufgabenbeschreibung\n",
        "Du betreibst einen kleinen Online-Shop und möchtest das Hinzufügen und Entfernen von Artikeln in den Warenkorb sowie die Berechnung der Gesamtkosten realisieren.\n",
        "\n",
        "1. Die Liste `cart = []` wird am Anfang des Programms angelegt.  \n",
        "2. Implementiere `add_product(cart, product)`, das einen Artikel ans Ende anfügt und ausgibt: `\"Product '{product}' was added to the cart.\"`\n",
        "3. Implementiere `remove_product(cart, product)`, das:\n",
        "    - Das Produkt mit `remove()` löscht, wenn es in der Liste enthalten ist.\n",
        "    - Ansonsten `\"Product not in the cart.\"` ausgibt.  \n",
        "4. Implementiere `display_cart(cart)`, das alle Produkte im Warenkorb auflistet oder `\"Your cart is empty!\"` ausgibt, wenn kein Produkt enthalten ist.  \n",
        "5. Implementiere `calculate_total(cart)`, das die Produkte in `cart` durchläuft und anhand einer Preisliste (Dictionary) die Gesamtkosten summiert und ausgibt.\n",
        "\n",
        "**Testen**  \n",
        "- Füge mehrere Produkte hinzu, entferne einige, zeige den Inhalt an und berechne am Ende die Gesamtkosten.\n",
        "\n",
        "### Skeleton Code:\n",
        "\n",
        "\n",
        "\n"
      ],
      "metadata": {
        "id": "ORt_HdcJp0MQ"
      }
    },
    {
      "cell_type": "code",
      "source": [
        "def add_product(cart, product):\n",
        "  cart.append(product)\n",
        "  print(f\"Product '{product}' was added to the cart.\")\n",
        "    # TODO: Append product to 'cart'.\n",
        "    #       Print a success message.\n",
        "\n",
        "def remove_product(cart, product):\n",
        "   if product in cart:\n",
        "        cart.remove(product)\n",
        "        print(f\"Product '{product}' was removed from the cart.\")\n",
        "   else:\n",
        "        print(\"Product not in the cart.\")\n",
        "    # TODO: If product in cart, remove it.\n",
        "    #       Otherwise print \"Product not in the cart.\"\n",
        "\n",
        "def display_cart(cart):\n",
        "    if cart:\n",
        "        print(\"Your cart contains: \" + \", \".join(cart))\n",
        "    else:\n",
        "        print(\"Your cart is empty!\")\n",
        "    # TODO: If the cart is not empty, list all products.\n",
        "    #       Otherwise print \"Your cart is empty!\".\n",
        "\n",
        "def calculate_total(cart):\n",
        "     price_list = {\n",
        "        \"Apple\": 1.0,\n",
        "        \"Bread\": 2.0,\n",
        "        \"Milk\": 1.5\n",
        "    }\n",
        "     total = 0\n",
        "     for product in cart:\n",
        "        if product in price_list:\n",
        "            total += price_list[product]\n",
        "     print(f\"Total cost: €{total:.2f}\")\n",
        "    # TODO: Use a predefined price dictionary (e.g. {\"Apple\": 1.0, \"Bread\": 2.0}).\n",
        "    #       Sum up the costs for each product in 'cart' and print the final amount.\n",
        "\n",
        "def main():\n",
        "    cart = []\n",
        "    add_product(cart, \"Apple\")\n",
        "    add_product(cart, \"Bread\")\n",
        "    add_product(cart, \"Apple\")  # Another Apple\n",
        "    display_cart(cart)\n",
        "\n",
        "    remove_product(cart, \"Milk\")  # Not in the cart\n",
        "    remove_product(cart, \"Apple\")\n",
        "    display_cart(cart)\n",
        "\n",
        "    calculate_total(cart)  # Show total cost\n",
        "\n",
        "if __name__ == \"__main__\":\n",
        "    main()"
      ],
      "metadata": {
        "id": "xQCL0YE6qcYB",
        "colab": {
          "base_uri": "https://localhost:8080/"
        },
        "outputId": "f355f395-1052-4b2a-8cf0-30810247ed57"
      },
      "execution_count": 19,
      "outputs": [
        {
          "output_type": "stream",
          "name": "stdout",
          "text": [
            "Product 'Apple' was added to the cart.\n",
            "Product 'Bread' was added to the cart.\n",
            "Product 'Apple' was added to the cart.\n",
            "Your cart contains: Apple, Bread, Apple\n",
            "Product not in the cart.\n",
            "Product 'Apple' was removed from the cart.\n",
            "Your cart contains: Bread, Apple\n",
            "Total cost: €3.00\n"
          ]
        }
      ]
    },
    {
      "cell_type": "markdown",
      "source": [
        "---\n",
        "\n",
        "## 4. To-do-Liste für den Alltag\n",
        "\n",
        "### Aufgabenbeschreibung\n",
        "Du hast viele Aufgaben zu erledigen und möchtest sie in einer Liste verwalten.\n",
        "\n",
        "1. Lege eine Liste `todo_list = []` an.  \n",
        "2. Implementiere `add_task(todo_list, task)`, das eine neue Aufgabe ans **Ende** der Liste anhängt.  \n",
        "3. Implementiere `complete_task(todo_list, index)`, das:\n",
        "    - Prüft, ob `index` im gültigen Bereich liegt.\n",
        "    - Falls ja, mit `pop(index)` die Aufgabe entfernt und `\"Task '{removed_task}' has been completed!\"` ausgibt.\n",
        "    - Falls nein, `\"Invalid index, please try again.\"` ausgibt.  \n",
        "4. Implementiere `show_tasks(todo_list)`, das **alle** noch offenen Aufgaben durchnummeriert anzeigt (z.B. \"`1) Wäsche waschen`\").  \n",
        "5. Optional: `insert_task(todo_list, index, task)`, um eine Aufgabe an einer bestimmten Position einzufügen.\n",
        "\n",
        "**Aufgabe**  \n",
        "- Füge mehrere Aufgaben hinzu, zeige sie an und teste das Abschließen der Aufgaben mit verschiedenen Indizes (einschließlich ungültiger Werte).\n",
        "\n",
        "### Skeleton Code:"
      ],
      "metadata": {
        "id": "lCMzf1oup3MB"
      }
    },
    {
      "cell_type": "code",
      "source": [
        "def add_task(todo_list, task):\n",
        "    todo_list.append(task)\n",
        "    print(f\"Task '{task}' has been added.\")\n",
        "    # TODO: Append 'task' to 'todo_list'.\n",
        "\n",
        "def complete_task(todo_list, index):\n",
        "    if 0 <= index < len(todo_list):\n",
        "        removed_task = todo_list.pop(index)\n",
        "        print(f\"Task '{removed_task}' has been completed!\")\n",
        "    else:\n",
        "        print(\"Invalid index, please try again.\")\n",
        "    # TODO: If 0 <= index < len(todo_list), pop and print success message.\n",
        "    #       Otherwise, print an error message.\n",
        "\n",
        "def show_tasks(todo_list):\n",
        "    if not todo_list:\n",
        "        print(\"No tasks left!\")\n",
        "    else:\n",
        "        print(\"Tasks to complete:\")\n",
        "        for i, task in enumerate(todo_list, 1):\n",
        "            print(f\"{i}) {task}\")\n",
        "    # TODO: If todo_list is empty, say so.\n",
        "    #       Otherwise, print each task with a number (1-based).\n",
        "\n",
        "def insert_task(todo_list, index, task):\n",
        "    if 0 <= index <= len(todo_list):\n",
        "        todo_list.insert(index, task)\n",
        "        print(f\"Task '{task}' has been inserted at position {index + 1}.\")\n",
        "    else:\n",
        "        print(\"Invalid index, please try again.\")\n",
        "    # Optional: Insert at the specified index if valid.\n",
        "    #           Otherwise, append or print an error message.\n",
        "\n",
        "def main():\n",
        "    todo_list = []\n",
        "\n",
        "    add_task(todo_list, \"Wäsche waschen\")\n",
        "    add_task(todo_list, \"Learn Python\")\n",
        "    add_task(todo_list, \"Einkaufen\")\n",
        "\n",
        "    show_tasks(todo_list)\n",
        "\n",
        "    complete_task(todo_list, 1)  # Removes \"Learn Python\"\n",
        "    complete_task(todo_list, 5)  # Invalid index\n",
        "    show_tasks(todo_list)\n",
        "\n",
        "    insert_task(todo_list, 1, \"Zimmer aufräumen\")\n",
        "    show_tasks(todo_list)\n",
        "\n",
        "if __name__ == \"__main__\":\n",
        "    main()"
      ],
      "metadata": {
        "id": "EEzowXGAqryn",
        "colab": {
          "base_uri": "https://localhost:8080/"
        },
        "outputId": "00f17309-8f2f-48c2-8388-0f40c49f790d"
      },
      "execution_count": 25,
      "outputs": [
        {
          "output_type": "stream",
          "name": "stdout",
          "text": [
            "Task 'Wäsche waschen' has been added.\n",
            "Task 'Learn Python' has been added.\n",
            "Task 'Einkaufen' has been added.\n",
            "Tasks to complete:\n",
            "1) Wäsche waschen\n",
            "2) Learn Python\n",
            "3) Einkaufen\n",
            "Task 'Learn Python' has been completed!\n",
            "Invalid index, please try again.\n",
            "Tasks to complete:\n",
            "1) Wäsche waschen\n",
            "2) Einkaufen\n",
            "Task 'Zimmer aufräumen' has been inserted at position 2.\n",
            "Tasks to complete:\n",
            "1) Wäsche waschen\n",
            "2) Zimmer aufräumen\n",
            "3) Einkaufen\n"
          ]
        }
      ]
    }
  ]
}