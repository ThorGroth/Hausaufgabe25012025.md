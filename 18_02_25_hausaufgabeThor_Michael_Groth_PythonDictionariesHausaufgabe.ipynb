{
  "nbformat": 4,
  "nbformat_minor": 0,
  "metadata": {
    "colab": {
      "provenance": [],
      "include_colab_link": true
    },
    "kernelspec": {
      "name": "python3",
      "display_name": "Python 3"
    },
    "language_info": {
      "name": "python"
    }
  },
  "cells": [
    {
      "cell_type": "markdown",
      "metadata": {
        "id": "view-in-github",
        "colab_type": "text"
      },
      "source": [
        "<a href=\"https://colab.research.google.com/github/ThorGroth/Hausaufgabe25012025.md/blob/main/18_02_25_hausaufgabeThor_Michael_Groth_PythonDictionariesHausaufgabe.ipynb\" target=\"_parent\"><img src=\"https://colab.research.google.com/assets/colab-badge.svg\" alt=\"Open In Colab\"/></a>"
      ]
    },
    {
      "cell_type": "markdown",
      "source": [
        "# Python Dictionaries Hausaufgabe"
      ],
      "metadata": {
        "id": "zw1PU_lv_ARS"
      }
    },
    {
      "cell_type": "markdown",
      "source": [
        "## 1. Buchverwaltung\n",
        "\n",
        "### Aufgabenbeschreibung\n",
        "\n",
        "Stelle dir vor, du verwaltest eine Sammlung von Büchern. Jedes Buch verfügt über einen Titel, einen Autor und eine Bewertung (z.B. 1-10).\n",
        "\n",
        "1. Erstelle ein Dictionary namens `bookCatalog`.\n",
        "2. Implementiere eine Funktion `add_book(bookCatalog, title, author, rating)`, die:\n",
        "    - Ein neues Buch als Dictionary-Eintrag speichert, z.B.:\n",
        "        \n",
        "        ```python\n",
        "        bookCatalog[title] = {\n",
        "            \"title\": title,\n",
        "            \"author\": author,\n",
        "            \"rating\": rating\n",
        "        }\n",
        "        \n",
        "        ```\n",
        "        \n",
        "    - Eine Bestätigungsmeldung in Deutsch ausgibt, z.B. `\"Buch '{title}' wurde hinzugefügt.\"`.\n",
        "3. Implementiere eine Funktion `remove_book(bookCatalog, title)`, die:\n",
        "    - Prüft, ob das Buch vorhanden ist.\n",
        "    - Falls ja, es löscht und ausgibt `\"Buch '{title}' wurde entfernt.\"`.\n",
        "    - Falls nein, `\"Buch '{title}' nicht gefunden.\"`.\n",
        "4. Implementiere eine Funktion `display_catalog(bookCatalog)`, die:\n",
        "    - Alle Bücher mit Titel und Bewertung auflistet oder `\"Katalog ist leer.\"` ausgibt, falls keine Bücher vorhanden sind.\n",
        "5. Implementiere eine Funktion `search_book(bookCatalog, title)`, die:\n",
        "    - Ein bestimmtes Buch ausgibt (z.B. `\"Titel: X, Autor: Y, Bewertung: Z\"`) oder `\"Buch '{title}' nicht im Katalog.\"`, falls es nicht existiert.\n",
        "\n",
        "**Aufgabe**\n",
        "\n",
        "- Teste deine Funktionen im `main()`Block, indem du ein paar Bücher hinzufügst, entfernst, suchst und den gesamten Katalog anzeigst."
      ],
      "metadata": {
        "id": "fWq3MRsM_PbJ"
      }
    },
    {
      "cell_type": "code",
      "execution_count": 74,
      "metadata": {
        "id": "OjtCLPF9-Hd-",
        "colab": {
          "base_uri": "https://localhost:8080/"
        },
        "outputId": "ee5369d9-5325-4073-ede0-c56aae3ccafb"
      },
      "outputs": [
        {
          "output_type": "stream",
          "name": "stdout",
          "text": [
            "Buch 'Der Hobbit' wurde hinzugefügt.\n",
            "Buch 'Harry Potter' wurde hinzugefügt.\n",
            "Titel: Der Hobbit, Autor: J.R.R. Tolkien, Bewertung: 9.5\n",
            "Titel: Harry Potter, Autor: J.K. Rowling, Bewertung: 9.0\n",
            "Titel: Der Hobbit, Autor: J.R.R. Tolkien, Bewertung: 9.5\n",
            "Buch 'Harry Potter' wurde entfernt.\n",
            "Titel: Der Hobbit, Autor: J.R.R. Tolkien, Bewertung: 9.5\n"
          ]
        }
      ],
      "source": [
        "def add_book(bookCatalog, title, author, rating):\n",
        "  bookCatalog[title] = {\n",
        "    \"title\": title,\n",
        "    \"author\": author,\n",
        "    \"rating\": rating\n",
        "  }\n",
        "  print(f\"Buch '{title}' wurde hinzugefügt.\")\n",
        "    # TODO: Neues Buch in bookCatalog speichern\n",
        "    # TODO: Erfolgsmeldung in Deutsch ausgeben\n",
        "\n",
        "def remove_book(bookCatalog, title):\n",
        "  remove = bookCatalog.pop(title, None)\n",
        "  if remove:\n",
        "    print(f\"Buch '{title}' wurde entfernt.\")\n",
        "  else:\n",
        "    print(f\"Buch '{title}' nicht gefunden.\")\n",
        "    # TODO: Prüfen, ob 'title' existiert\n",
        "    # TODO: Entfernen oder Fehlermeldung ausgeben\n",
        "\n",
        "def display_catalog(bookCatalog):\n",
        "  if not bookCatalog:\n",
        "    print(\"Katalog ist leer.\")\n",
        "  else:\n",
        "    for title, book in bookCatalog.items():\n",
        "      print(f\"Titel: {book['title']}, Autor: {book['author']}, Bewertung: {book['rating']}\")\n",
        "    # TODO: Alle Bücher (Titel + Bewertung) anzeigen\n",
        "    # TODO: Falls leer, entsprechende Meldung ausgeben\n",
        "\n",
        "def search_book(bookCatalog, title):\n",
        "  book = bookCatalog.get(title)\n",
        "  if book:\n",
        "    print(f\"Titel: {book['title']}, Autor: {book['author']}, Bewertung: {book['rating']}\")\n",
        "    # TODO: Wenn vorhanden, Details ausgeben\n",
        "    # TODO: Sonst Fehlermeldung in Deutsch\n",
        "\n",
        "def main():\n",
        "    bookCatalog = {}\n",
        "\n",
        "    # Teste hier deine Funktionen\n",
        "    add_book(bookCatalog, \"Der Hobbit\", \"J.R.R. Tolkien\", 9.5)\n",
        "    add_book(bookCatalog, \"Harry Potter\", \"J.K. Rowling\", 9.0)\n",
        "    display_catalog(bookCatalog)\n",
        "    search_book(bookCatalog, \"Der Hobbit\")\n",
        "    remove_book(bookCatalog, \"Harry Potter\")\n",
        "    display_catalog(bookCatalog)\n",
        "    search_book(bookCatalog, \"Harry Potter\")\n",
        "\n",
        "if __name__ == \"__main__\":\n",
        "    main()\n"
      ]
    },
    {
      "cell_type": "markdown",
      "source": [
        "## 2. Online-Kursverzeichnis\n",
        "\n",
        "### Aufgabenbeschreibung\n",
        "\n",
        "Du baust eine Plattform für Online-Kurse und möchtest Kurse in einem Dictionary verwalten. Jeder Kurs hat einen Namen, einen Dozenten und eine Dauer (in Stunden).\n",
        "\n",
        "1. Lege ein Dictionary `courseCatalog` an.\n",
        "2. Schreibe eine Funktion `add_course(courseCatalog, name, instructor, duration)`, die:\n",
        "    - Ein neues Dictionary anlegt, z.B.\n",
        "        \n",
        "        ```python\n",
        "        courseCatalog[name] = {\n",
        "            \"name\": name,\n",
        "            \"instructor\": instructor,\n",
        "            \"duration\": duration\n",
        "        }\n",
        "        \n",
        "        ```\n",
        "        \n",
        "    - `\"Kurs '{name}' wurde hinzugefügt.\"` ausgibt.\n",
        "3. Schreibe eine Funktion `remove_course(courseCatalog, name)`, die:\n",
        "    - Den Kurs löscht und `\"Kurs '{name}' wurde entfernt.\"` ausgibt, wenn er existiert.\n",
        "    - Andernfalls `\"Kurs '{name}' nicht gefunden.\"`.\n",
        "4. Schreibe eine Funktion `display_courses(courseCatalog)`, die:\n",
        "    - Alle Kurse anzeigt, z.B. `\"Kurs: X, Dozent: Y, Dauer: Z Stunden\"`.\n",
        "    - `\"Keine Kurse vorhanden.\"` ausgibt, wenn leer.\n",
        "5. Schreibe eine Funktion `search_course(courseCatalog, name)`, die:\n",
        "    - Den Kurs ausgibt oder `\"Kurs '{name}' nicht im Verzeichnis.\"`.\n",
        "\n",
        "**Aufgabe**\n",
        "\n",
        "- Teste das Hinzufügen, Entfernen, Anzeigen und Suchen von Kursen in `main()`."
      ],
      "metadata": {
        "id": "ybrB9S7D_fnP"
      }
    },
    {
      "cell_type": "code",
      "source": [
        "def add_course(courseCatalog, name, instructor, duration):\n",
        "    courseCatalog[name] = {\n",
        "        \"name\": name,\n",
        "        \"instructor\": instructor,\n",
        "        \"duration\": duration\n",
        "    }\n",
        "    print(f\"Kurs '{name}' wurde hinzugefügt.\")\n",
        "    # TODO: Neuen Kurs ins Dictionary speichern\n",
        "    # TODO: Deutschsprachige Bestätigung ausgeben\n",
        "\n",
        "def remove_course(courseCatalog, name):\n",
        "    remove = courseCatalog.pop(name, None)\n",
        "    if remove:\n",
        "        print(f\"Kurs '{name}' wurde entfernt.\")\n",
        "    else:\n",
        "        print(f\"Kurs '{name}' nicht gefunden.\")\n",
        "    # TODO: Kurs nach 'name' entfernen oder Fehlermeldung\n",
        "\n",
        "def display_courses(courseCatalog):\n",
        "    if not courseCatalog:\n",
        "        print(\"Kein Kurs vorhanden.\")\n",
        "    else:\n",
        "        for name, course in courseCatalog.items():\n",
        "            print(f\"Kurs: {course['name']}, Dozent: {course['instructor']}, Dauer: {course['duration']} Stunden\")\n",
        "    # TODO: Alle Kurse anzeigen oder \"Keine Kurse vorhanden.\" falls leer\n",
        "\n",
        "def search_course(courseCatalog, name):\n",
        "    course = courseCatalog.get(name)\n",
        "    if course:\n",
        "        print(f\"Kurs: {course['name']}, Dozent: {course['instructor']}, Dauer: {course['duration']} Stunden\")\n",
        "    else:\n",
        "        print(f\"Kurs '{name}' nicht im Verzeichnis.\")\n",
        "    # TODO: Kursdetails oder Fehlermeldung ausgeben\n",
        "\n",
        "def main():\n",
        "    courseCatalog = {}\n",
        "\n",
        "    # Beispiele zum Testen\n",
        "    add_course(courseCatalog, \"Python Grundlagen\", \"Dr. Müller\", 10)\n",
        "    add_course(courseCatalog, \"Data Science\", \"Frau Schmidt\", 15)\n",
        "    display_courses(courseCatalog)\n",
        "    search_course(courseCatalog, \"Python Grundlagen\")\n",
        "    remove_course(courseCatalog, \"Data Science\")\n",
        "    display_courses(courseCatalog)\n",
        "    search_course(courseCatalog, \"Data Science\")\n",
        "\n",
        "if __name__ == \"__main__\":\n",
        "    main()\n"
      ],
      "metadata": {
        "id": "1OSv0E34_iNn",
        "colab": {
          "base_uri": "https://localhost:8080/"
        },
        "outputId": "201ec793-6c83-4912-ceb5-ae5d0679b7d2"
      },
      "execution_count": 75,
      "outputs": [
        {
          "output_type": "stream",
          "name": "stdout",
          "text": [
            "Kurs 'Python Grundlagen' wurde hinzugefügt.\n",
            "Kurs 'Data Science' wurde hinzugefügt.\n",
            "Kurs: Python Grundlagen, Dozent: Dr. Müller, Dauer: 10 Stunden\n",
            "Kurs: Data Science, Dozent: Frau Schmidt, Dauer: 15 Stunden\n",
            "Kurs: Python Grundlagen, Dozent: Dr. Müller, Dauer: 10 Stunden\n",
            "Kurs 'Data Science' wurde entfernt.\n",
            "Kurs: Python Grundlagen, Dozent: Dr. Müller, Dauer: 10 Stunden\n",
            "Kurs 'Data Science' nicht im Verzeichnis.\n"
          ]
        }
      ]
    },
    {
      "cell_type": "markdown",
      "source": [
        "## 3. Einkaufsverwaltung\n",
        "\n",
        "### Aufgabenbeschreibung\n",
        "\n",
        "Du betreibst einen kleinen Laden und möchtest die Produkte, die du anbietest, in einem Dictionary verwalten. Jedes Produkt hat einen Namen, einen Preis und einen Bestand (Menge).\n",
        "\n",
        "1. Erstelle ein Dictionary `productCatalog`.\n",
        "2. Implementiere `add_product(productCatalog, name, price, stock)`, das:\n",
        "    - Ein neues Produkt anlegt, z.B.\n",
        "        \n",
        "        ```python\n",
        "        productCatalog[name] = {\n",
        "            \"name\": name,\n",
        "            \"price\": price,\n",
        "            \"stock\": stock\n",
        "        }\n",
        "        \n",
        "        ```\n",
        "        \n",
        "    - `\"Produkt '{name}' wurde hinzugefügt.\"` ausgibt.\n",
        "3. Implementiere `remove_product(productCatalog, name)`, das:\n",
        "    - Das Produkt löscht, falls vorhanden. `\"Produkt '{name}' wurde entfernt.\"`\n",
        "    - Andernfalls `\"Produkt '{name}' nicht gefunden.\"`\n",
        "4. Implementiere `update_stock(productCatalog, name, new_stock)`, das:\n",
        "    - Den Bestand aktualisiert, wenn das Produkt existiert.\n",
        "    - `\"Bestand von '{name}' aktualisiert: new_stock\"` ausgibt.\n",
        "    - Ansonsten `\"Produkt '{name}' nicht im Katalog.\"`\n",
        "5. Implementiere `display_products(productCatalog)`, das alle Produkte auflistet:\n",
        "    - `\"Name: X, Preis: Y, Bestand: Z\"`\n",
        "    - Falls nichts vorhanden, `\"Keine Produkte im Katalog.\"`\n",
        "\n",
        "**Aufgabe**\n",
        "\n",
        "- Teste das Hinzufügen, Entfernen, Bestands-Aktualisieren und Anzeigen deiner Produkte."
      ],
      "metadata": {
        "id": "8LwFCCWa_kSv"
      }
    },
    {
      "cell_type": "code",
      "source": [
        "def add_product(productCatalog, name, price, stock):\n",
        "    productCatalog[name] = {\n",
        "        \"name\": name,\n",
        "        \"price\": price,\n",
        "        \"stock\": stock\n",
        "    }\n",
        "    print(f\"Produkt '{name}' wurde hinzugefügt.\")\n",
        "    # TODO: Produkt anlegen und Bestätigung ausgeben\n",
        "\n",
        "def remove_product(productCatalog, name):\n",
        "    remove = productCatalog.pop(name, None)\n",
        "    if remove:\n",
        "        print(f\"Produkt '{name}' wurde entfernt.\")\n",
        "    else:\n",
        "        print(f\"Produkt '{name}' nicht gefunden.\")\n",
        "    # TODO: Existenz prüfen und Produkt entfernen oder Fehlermeldung\n",
        "\n",
        "def update_stock(productCatalog, name, new_stock):\n",
        "    product = productCatalog.get(name)\n",
        "    if product:\n",
        "        product[\"stock\"] = new_stock\n",
        "        print(f\"Bestand von '{name}' aktualisiert: {new_stock}\")\n",
        "    else:\n",
        "        print(f\"Product '{name}' nicht im Katalog.\")\n",
        "    # TODO: Bestand anpassen oder Fehlermeldung ausgeben\n",
        "\n",
        "def display_products(productCatalog):\n",
        "    if not productCatalog:\n",
        "        print(\"Keine Produkte im Katalog.\")\n",
        "    else:\n",
        "        for name, product in productCatalog.items():\n",
        "            print(f\"Name: {product['name']}, Preis: {product['price']}, Bestand: {product['stock']}\")\n",
        "    # TODO: Alle Produkte auflisten oder melden, wenn leer\n",
        "\n",
        "def main():\n",
        "    productCatalog = {}\n",
        "\n",
        "    add_product(productCatalog, \"Apfel\", 0.5, 100)\n",
        "    add_product(productCatalog, \"Brot\", 2.0, 20)\n",
        "    display_products(productCatalog)\n",
        "    update_stock(productCatalog, \"Apfel\", 120)\n",
        "    update_stock(productCatalog, \"Milch\", 30)  # Nicht vorhanden\n",
        "    remove_product(productCatalog, \"Brot\")\n",
        "    display_products(productCatalog)\n",
        "\n",
        "if __name__ == \"__main__\":\n",
        "    main()\n"
      ],
      "metadata": {
        "id": "imdXGKNe_odb",
        "colab": {
          "base_uri": "https://localhost:8080/"
        },
        "outputId": "899651da-caeb-4fad-daca-a78a9cbc0722"
      },
      "execution_count": 76,
      "outputs": [
        {
          "output_type": "stream",
          "name": "stdout",
          "text": [
            "Produkt 'Apfel' wurde hinzugefügt.\n",
            "Produkt 'Brot' wurde hinzugefügt.\n",
            "Name: Apfel, Preis: 0.5, Bestand: 100\n",
            "Name: Brot, Preis: 2.0, Bestand: 20\n",
            "Bestand von 'Apfel' aktualisiert: 120\n",
            "Product 'Milch' nicht im Katalog.\n",
            "Produkt 'Brot' wurde entfernt.\n",
            "Name: Apfel, Preis: 0.5, Bestand: 120\n"
          ]
        }
      ]
    },
    {
      "cell_type": "markdown",
      "source": [
        "## 4. Gegenstände in einem Fantasy-Rollenspiel\n",
        "\n",
        "### Aufgabenbeschreibung\n",
        "\n",
        "Du entwickelst ein Rollenspiel, bei dem verschiedene Gegenstände (Items) im Spiel existieren. Jeder Gegenstand hat einen Namen, einen Typ (z.B. Waffe, Trank) und eine Stärke/Wirkung (z.B. Angriffskraft).\n",
        "\n",
        "1. Lege ein Dictionary `itemCatalog` an.\n",
        "2. Implementiere `add_item(itemCatalog, name, item_type, power)`, das:\n",
        "    - Eine neue Item-Beschreibung speichert, z.B.\n",
        "        \n",
        "        ```python\n",
        "        itemCatalog[name] = {\n",
        "            \"name\": name,\n",
        "            \"item_type\": item_type,\n",
        "            \"power\": power\n",
        "        }\n",
        "        \n",
        "        ```\n",
        "        \n",
        "    - `\"Gegenstand '{name}' wurde hinzugefügt.\"` ausgibt.\n",
        "3. Implementiere `remove_item(itemCatalog, name)`, das:\n",
        "    - Den Gegenstand entfernt, sofern vorhanden, `\"Gegenstand '{name}' wurde entfernt.\"`\n",
        "    - Ansonsten `\"Gegenstand '{name}' nicht gefunden.\"`\n",
        "4. Implementiere `display_items(itemCatalog)`, um alle Gegenstände im Spiel anzuzeigen:\n",
        "    - `\"Name: X, Typ: Y, Stärke: Z\"`\n",
        "    - Wenn keine Gegenstände angelegt sind, `\"Keine Gegenstände im Katalog.\"`\n",
        "5. Implementiere `search_item(itemCatalog, name)`, das:\n",
        "    - Den gewünschten Gegenstand mit allen Details anzeigt,\n",
        "    - oder `\"Gegenstand '{name}' ist nicht im Katalog.\"`, wenn er nicht existiert.\n",
        "\n",
        "**Aufgabe**\n",
        "\n",
        "- Teste das Hinzufügen, Entfernen, Suchen und Anzeigen deiner Fantasy-Items."
      ],
      "metadata": {
        "id": "68VTs2PI_q9T"
      }
    },
    {
      "cell_type": "code",
      "source": [
        "def add_item(itemCatalog, name, item_type, power):\n",
        "    itemCatalog[name] = {\n",
        "        \"name\": name,\n",
        "        \"item_type\": item_type,\n",
        "        \"power\": power\n",
        "    }\n",
        "    print(f\"\\nGegenstand '{name}' wurde hinzugefügt.\")\n",
        "    # TODO: Neuen Gegenstand speichern und Bestätigung ausgeben\n",
        "\n",
        "def remove_item(itemCatalog, name):\n",
        "    remove = itemCatalog.pop(name, None)\n",
        "    if remove:\n",
        "        print(f\"\\nGegenstand '{name}' wurde entfernt.\")\n",
        "    else:\n",
        "        print(f\"\\nGegenstand '{name}' nicht gefunden.\")\n",
        "    # TODO: Gegenstand entfernen oder Fehlermeldung\n",
        "\n",
        "def display_items(itemCatalog):\n",
        "    if not itemCatalog:\n",
        "        print(\"\\nKeine Gegenstände im Katalog.\")\n",
        "    else:\n",
        "        for name, item in itemCatalog.items():\n",
        "            print(f\"\\nName: {item['name']}, Typ: {item['item_type']}, Stärke: {item['power']}\")\n",
        "    # TODO: Alle Gegenstände ausgeben oder \"Keine Gegenstände im Katalog.\"\n",
        "\n",
        "def search_item(itemCatalog, name):\n",
        "    item = itemCatalog.get(name)\n",
        "    if item:\n",
        "        print(f\"\\nName: {item['name']}, Typ: {item['item_type']}, Stärke: {item['power']}\")\n",
        "    else:\n",
        "        print(f\"\\nGegenstand '{name}' ist nicht im Katalog.\")\n",
        "    # TODO: Details ausgeben oder Fehlermeldung\n",
        "\n",
        "def main():\n",
        "    itemCatalog = {}\n",
        "\n",
        "    add_item(itemCatalog, \"Feuer-Schwert\", \"Waffe\", 15)\n",
        "    add_item(itemCatalog, \"Heiltrank\", \"Trank\", 10)\n",
        "    display_items(itemCatalog)\n",
        "    search_item(itemCatalog, \"Heiltrank\")\n",
        "    remove_item(itemCatalog, \"Feuer-Schwert\")\n",
        "    display_items(itemCatalog)\n",
        "    search_item(itemCatalog, \"Feuer-Schwert\")\n",
        "\n",
        "if __name__ == \"__main__\":\n",
        "    main()\n"
      ],
      "metadata": {
        "id": "Ot0INexd_rqo",
        "colab": {
          "base_uri": "https://localhost:8080/"
        },
        "outputId": "67b35aba-2d1b-49f2-d225-6d26b1888046"
      },
      "execution_count": 77,
      "outputs": [
        {
          "output_type": "stream",
          "name": "stdout",
          "text": [
            "\n",
            "Gegenstand 'Feuer-Schwert' wurde hinzugefügt.\n",
            "\n",
            "Gegenstand 'Heiltrank' wurde hinzugefügt.\n",
            "\n",
            "Name: Feuer-Schwert, Typ: Waffe, Stärke: 15\n",
            "\n",
            "Name: Heiltrank, Typ: Trank, Stärke: 10\n",
            "\n",
            "Name: Heiltrank, Typ: Trank, Stärke: 10\n",
            "\n",
            "Gegenstand 'Feuer-Schwert' wurde entfernt.\n",
            "\n",
            "Name: Heiltrank, Typ: Trank, Stärke: 10\n",
            "\n",
            "Gegenstand 'Feuer-Schwert' ist nicht im Katalog.\n"
          ]
        }
      ]
    }
  ]
}