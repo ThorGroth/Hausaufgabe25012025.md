{
  "nbformat": 4,
  "nbformat_minor": 0,
  "metadata": {
    "colab": {
      "provenance": [],
      "authorship_tag": "ABX9TyN30x1YxLSDcUcLQSnQnzl1",
      "include_colab_link": true
    },
    "kernelspec": {
      "name": "python3",
      "display_name": "Python 3"
    },
    "language_info": {
      "name": "python"
    }
  },
  "cells": [
    {
      "cell_type": "markdown",
      "metadata": {
        "id": "view-in-github",
        "colab_type": "text"
      },
      "source": [
        "<a href=\"https://colab.research.google.com/github/ThorGroth/Hausaufgabe25012025.md/blob/main/Hausaufgabe_11_02_25.ipynb\" target=\"_parent\"><img src=\"https://colab.research.google.com/assets/colab-badge.svg\" alt=\"Open In Colab\"/></a>"
      ]
    },
    {
      "cell_type": "code",
      "execution_count": null,
      "metadata": {
        "id": "jv_SMss0_j1d"
      },
      "outputs": [],
      "source": [
        "# Hausaufgabe 11.02.2025"
      ]
    },
    {
      "cell_type": "markdown",
      "source": [
        "# 1. Der Wasser-Trink-Erinnerer 💧\n",
        "\n",
        "Ein Algorithmus soll täglich überwachen, ob eine Person genug Wasser getrunken hat und\n",
        "sie ggf. erinnern.\n",
        "\n",
        "👉 Hinweise:\n",
        "\n",
        "- Welche Eingaben sind nötig?\n",
        "- Wie überprüft ihr, ob das Tagesziel erreicht ist?\n",
        "- Welche Nachricht gibt das Programm je nach Fortschritt aus?"
      ],
      "metadata": {
        "id": "c8J2b8-G_3Tx"
      }
    },
    {
      "cell_type": "markdown",
      "source": [
        "# Antwort Aufgabe 1.:\n",
        "\n",
        "  1. Benutzer gibt sein tägliches Trinkziel in Litern ein.\n",
        "  2. Setze die bisher getrunkene Menge auf 0.\n",
        "  3. Solange die getrunkene Menge kleiner als das Tagesziel ist:\n",
        "  - a. Benutzer gibt ein, wie viel er gerade getrunken hat.\n",
        "  - b. Addiere diese Menge zur bisher getrunkenen Menge.\n",
        "  - c. Falls die getrunkene Menge noch nicht das Ziel erreicht hat:\n",
        "    - Gib eine Nachricht aus, die den Benutzer motiviert, weiterzutrinken.\n",
        "  - d. Falls das Ziel erreicht oder überschritten wurde:\n",
        "    - Gib eine Erfolgsmeldung aus."
      ],
      "metadata": {
        "id": "ccGfzpqdAx5x"
      }
    },
    {
      "cell_type": "code",
      "source": [
        "tagesziel = float(input(\"Gib dein tägliches Trinkziel in Litern ein: \"))\n",
        "getrunken = 0.0\n",
        "\n",
        "while getrunken < tagesziel:\n",
        "      eingabe = float(input(\"Wie viel Liter hast du gerade getrunken? \"))\n",
        "      getrunken += eingabe\n",
        "      if getrunken < tagesziel:\n",
        "        print(f\"Du hast bisher {getrunken}L getrunken. Weiter so!\")\n",
        "      if getrunken >= tagesziel:\n",
        "        print(f\"Super! Du hast dein Tagesziel von {tagesziel}L erreicht.\")"
      ],
      "metadata": {
        "colab": {
          "base_uri": "https://localhost:8080/"
        },
        "id": "3cCKp7MGAMrp",
        "outputId": "6b63f86c-ae3f-4c71-f9d1-1371ab4348ee"
      },
      "execution_count": 33,
      "outputs": [
        {
          "output_type": "stream",
          "name": "stdout",
          "text": [
            "Gib dein tägliches Trinkziel in Litern ein: 2\n",
            "Wie viel Liter hast du gerade getrunken? 1\n",
            "Du hast bisher 1.0L getrunken. Weiter so!\n",
            "Wie viel Liter hast du gerade getrunken? 2\n",
            "Super! Du hast dein Tagesziel von 2.0L erreicht.\n"
          ]
        }
      ]
    },
    {
      "cell_type": "markdown",
      "source": [
        "# 2. Passwort-Sicherheitsprüfung 🔐\n",
        "\n",
        "Erstellt einen Algorithmus, der überprüft, ob ein Passwort sicher ist.\n",
        "\n",
        "👉 Hinweise:\n",
        "\n",
        "- Prüft, ob das Passwort mindestens 8 Zeichen lang ist.\n",
        "- Enthält es Groß- und Kleinbuchstaben, Zahlen und Sonderzeichen?\n",
        "- Gebt eine Bewertung aus („schwach“, „mittel“, „stark“)."
      ],
      "metadata": {
        "id": "D6-LmEGmFCmy"
      }
    },
    {
      "cell_type": "markdown",
      "source": [
        "# Antwort Aufgabe 2.:\n",
        "1. Benutzer gibt ein Passwort ein.\n",
        "2. Überprüfe folgende Kriterien:\n",
        "- a. Ist das Passwort mindestens 8 Zeichen lang?\n",
        "- b. Enthält es mindestens einen Großbuchstaben?\n",
        "- c. Enthält es mindestens einen Kleinbuchstaben?\n",
        "- d. Enthält es mindestens eine Zahl?\n",
        "- e. Enthält es mindestens ein Sonderzeichen?\n",
        "3. Zähle die erfüllten Kriterien.\n",
        "4. Bestimme die Sicherheit basierend auf der Anzahl erfüllter Kriterien:\n",
        "- 0-2 Kriterien erfüllt → \"schwach\"\n",
        "- 3-4 Kriterien erfüllt → \"mittel\"\n",
        "- 5 Kriterien erfüllt → \"stark\"\n",
        "5. Gib die Passwort-Sicherheitsstufe aus."
      ],
      "metadata": {
        "id": "9UIG7iv9FRFp"
      }
    },
    {
      "cell_type": "code",
      "source": [
        "passwort = input(\"Gib dein Passwort ein: \")\n",
        "kriterien = [\n",
        "    len(passwort) >= 8,\n",
        "    any(c.isupper() for c in passwort),\n",
        "    any(c.islower() for c in passwort),\n",
        "    any(c.isdigit() for c in passwort),\n",
        "    any(c in \"!§$%&/()?@\" for c in passwort)\n",
        "    ]\n",
        "sicherheit = [\"schwach\", \"mittel\", \"stark\"][sum(kriterien) // 2]\n",
        "print(f\"Passwort-Sicherheit: {sicherheit}\")"
      ],
      "metadata": {
        "colab": {
          "base_uri": "https://localhost:8080/"
        },
        "id": "euJOVEyBFpPt",
        "outputId": "ca1fa451-add9-436b-f67d-d20013248d44"
      },
      "execution_count": 34,
      "outputs": [
        {
          "output_type": "stream",
          "name": "stdout",
          "text": [
            "Gib dein Passwort ein: thorgroth1988?\n",
            "Passwort-Sicherheit: stark\n"
          ]
        }
      ]
    },
    {
      "cell_type": "markdown",
      "source": [
        "# 3. Der Schnellste Routenfinder 🚗🗺\n",
        "\n",
        "Drei Straßen führen zu eurem Ziel, jede mit einer anderen Geschwindigkeit und\n",
        "Entfernung. Entwickelt einen Algorithmus, der die schnellste Route berechnet.\n",
        "\n",
        "👉 Hinweise:\n",
        "\n",
        "- Welche Eingaben braucht ihr? (Streckenlänge, Geschwindigkeit)\n",
        "- Wie berechnet ihr die Fahrzeit?\n",
        "- Wie findet ihr die kürzeste Zeit?"
      ],
      "metadata": {
        "id": "IEo0VGk_H60Z"
      }
    },
    {
      "cell_type": "markdown",
      "source": [
        "# Antwort Aufgabe 3.:\n",
        "1. Starte eine Liste für die Fahrzeiten.\n",
        "2. Den Benutzer um eingaben bitten.\n",
        "  - a. Benutzer gibt die Entfernung in km ein.\n",
        "  - b. Benutzer gibt die Geschwindigkeit in km/h ein.\n",
        "  - c. Berechne die Fahrzeit: Entfernung / Geschwindigkeit.\n",
        "  - d. Speichere die Fahrzeit in der Liste.\n",
        "3. Wiederhole diese für 3 Routen:\n",
        "4. Bestimme die Route mit der kürzesten Fahrzeit.(Fahrzeit = Strecke / Geschwindigkeit)\n",
        "5. Gib die schnellste Route und ihre Fahrzeit aus."
      ],
      "metadata": {
        "id": "E5hfII0DIHgo"
      }
    }
  ]
}