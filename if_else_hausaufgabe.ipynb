{
  "nbformat": 4,
  "nbformat_minor": 0,
  "metadata": {
    "colab": {
      "provenance": [],
      "include_colab_link": true
    },
    "kernelspec": {
      "name": "python3",
      "display_name": "Python 3"
    },
    "language_info": {
      "name": "python"
    }
  },
  "cells": [
    {
      "cell_type": "markdown",
      "metadata": {
        "id": "view-in-github",
        "colab_type": "text"
      },
      "source": [
        "<a href=\"https://colab.research.google.com/github/ThorGroth/Hausaufgabe25012025.md/blob/main/if_else_hausaufgabe.ipynb\" target=\"_parent\"><img src=\"https://colab.research.google.com/assets/colab-badge.svg\" alt=\"Open In Colab\"/></a>"
      ]
    },
    {
      "cell_type": "markdown",
      "source": [
        "# Hausaufgabe\n",
        "Heute haben wir uns mit den Kontrollstrukturen in Python beschäftigt.\n",
        "Im Zuge dessen bearbeitest du heute Nachmittag weitere kleine Aufgaben zu diesem Thema. Nimm dieses Notebook und füge deinen Code hinzu an den passenden Stellen.\n",
        "**Abgabe**: Gehe oben links auf Datei, dann auf Herunterladen, dann auf .ipynb. Dann startet ein Download des Notebooks. Diese heruntergeladene Datei fügst du bitte als Abgabe in den Classroom ein.\n",
        "\n"
      ],
      "metadata": {
        "id": "32gVnQpZ7mQz"
      }
    },
    {
      "cell_type": "markdown",
      "source": [
        "## if-else\n",
        "### Aufgabe 1 (BMI-Index)\n",
        "Berechne den Body-Mass-Index (BMI) und klassifiziere ihn:\n",
        "- < 18.5: Untergewicht\n",
        "- 18.5 - 24.9: Normalgewicht\n",
        "- 25 - 29.9: Übergewicht\n",
        "- 30+: Adipositas\n",
        "\n",
        "Zusatzaufgabe: Füge eine input-Funktion hinzu, damit du beim Ausführen des Codes, eine Eingabe tätigen kannst.\n",
        "Hinweis: `kg = float(input(\"Bitte gib dein Gewicht ein: \"))`"
      ],
      "metadata": {
        "id": "9pZQdBfN8GDV"
      }
    },
    {
      "cell_type": "code",
      "source": [
        "Kg = float(input(\"Gib dein gewicht in Kg ein\", 75))\n",
        "Meter = float(input(\"gib deine größe in Metern ein\", 184))\n",
        "Bmi = Kg / (Meter ** 2):\n",
        "if Bmi < 18.5:\n",
        "  print(Untergewicht)\n",
        "if Bmi < 24.9:\n",
        "  print(Normalgewicht)\n",
        "if Bmi < 29.9:\n",
        "  print(Übergewicht)\n",
        "else:\n",
        "  print(Aadipositas)"
      ],
      "metadata": {
        "id": "54YQr9hA8i95",
        "outputId": "e8a020cf-fe84-451e-8e3c-629fe5d194a7",
        "colab": {
          "base_uri": "https://localhost:8080/",
          "height": 106
        }
      },
      "execution_count": 8,
      "outputs": [
        {
          "output_type": "error",
          "ename": "SyntaxError",
          "evalue": "invalid syntax (<ipython-input-8-d8b40bc0e462>, line 3)",
          "traceback": [
            "\u001b[0;36m  File \u001b[0;32m\"<ipython-input-8-d8b40bc0e462>\"\u001b[0;36m, line \u001b[0;32m3\u001b[0m\n\u001b[0;31m    Bmi = Kg / (Meter ** 2):\u001b[0m\n\u001b[0m                           ^\u001b[0m\n\u001b[0;31mSyntaxError\u001b[0m\u001b[0;31m:\u001b[0m invalid syntax\n"
          ]
        }
      ]
    },
    {
      "cell_type": "markdown",
      "source": [
        "### Beispiel-Aufgabe zum Modulo-Operator (Division mit Rest)\n",
        "Schreibe ein Programm, das eine Zahl überprüft und ausgibt, ob die Zahl durch 3 teilbar ist.\n",
        "Modulo-Operator in Python --> `%`"
      ],
      "metadata": {
        "id": "Q-j4zOXLGJeP"
      }
    },
    {
      "cell_type": "code",
      "source": [
        "zahl = 6\n",
        "if ((zahl % 3) == 0):\n",
        "  print(\"Zahl ist durch 3 teilbar\")\n",
        "else:\n",
        "  print(\"Zahl ist nicht durch 3 teilbar\")"
      ],
      "metadata": {
        "colab": {
          "base_uri": "https://localhost:8080/"
        },
        "id": "U1Vm_NNfGWMi",
        "outputId": "b933e2c4-8a3d-4f33-f962-1411a48f6acf"
      },
      "execution_count": null,
      "outputs": [
        {
          "output_type": "stream",
          "name": "stdout",
          "text": [
            "Zahl ist durch 3 teilbar\n"
          ]
        }
      ]
    },
    {
      "cell_type": "markdown",
      "source": [
        "### Aufgabe 2 (Schaltjahr)\n",
        "Ein Jahr ist ein Schaltjahr, wenn es durch 4 teilbar (Achtung: modulo-Operator) ist, außer es ist durch 100 teilbar – außer es ist durch 400 teilbar.\n",
        "\n",
        "Zusatzaufgabe: Füge eine input-Funktion hinzu, damit du beim Ausführen des Codes, eine Eingabe tätigen kannst."
      ],
      "metadata": {
        "id": "Tz0qkYnt8jIk"
      }
    },
    {
      "cell_type": "code",
      "source": [],
      "metadata": {
        "id": "Yj2Kb2rG8rhM"
      },
      "execution_count": null,
      "outputs": []
    },
    {
      "cell_type": "markdown",
      "source": [
        "### Aufgabe 3 (Rabatt)\n",
        "Wenn ein Einkaufswert über 100€ liegt, gibt es 10% Rabatt, ansonsten keinen. Berechne den Endpreis.\n",
        "Zusatzaufgabe: Füge eine input-Funktion hinzu, damit du beim Ausführen des Codes, eine Eingabe tätigen kannst."
      ],
      "metadata": {
        "id": "aIckDaYu8sBi"
      }
    },
    {
      "cell_type": "code",
      "source": [],
      "metadata": {
        "id": "iplaWFpB8ycy"
      },
      "execution_count": null,
      "outputs": []
    },
    {
      "cell_type": "markdown",
      "source": [
        "## Datentypen\n",
        "### Aufgabe 1\n",
        "Initialisiere Variablen mit den Werten\n",
        "- 42\n",
        "- 3.14\n",
        "- \"Hallo Welt\"\n",
        "- True\n",
        "- [1,2,3]\n",
        "- (1,2)\n",
        "- {\"name\": \"Max\", \"alter\": 22}\n"
      ],
      "metadata": {
        "id": "Em4WQGm888Mc"
      }
    },
    {
      "cell_type": "code",
      "source": [],
      "metadata": {
        "id": "JOudTf8Q9aPJ"
      },
      "execution_count": null,
      "outputs": []
    },
    {
      "cell_type": "markdown",
      "source": [
        "### Aufgabe 2\n",
        "Bestimme jeweils um welche Art des Datentyps es sich handelt"
      ],
      "metadata": {
        "id": "gnrmw0w79abL"
      }
    },
    {
      "cell_type": "markdown",
      "source": [],
      "metadata": {
        "id": "uM-IpReO9b_R"
      }
    },
    {
      "cell_type": "markdown",
      "source": [
        "### Aufgabe 3\n",
        "Recherchiere nach dem Begriff Duck Typing in Python. Was bedeutet das?"
      ],
      "metadata": {
        "id": "Q1HHvqkv9cgx"
      }
    },
    {
      "cell_type": "markdown",
      "source": [],
      "metadata": {
        "id": "mOfhQQUK9lhu"
      }
    }
  ]
}