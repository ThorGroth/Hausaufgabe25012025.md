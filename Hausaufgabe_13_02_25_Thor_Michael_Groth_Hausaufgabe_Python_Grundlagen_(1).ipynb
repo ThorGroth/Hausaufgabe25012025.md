{
  "cells": [
    {
      "cell_type": "markdown",
      "metadata": {
        "id": "view-in-github",
        "colab_type": "text"
      },
      "source": [
        "<a href=\"https://colab.research.google.com/github/ThorGroth/Hausaufgabe25012025.md/blob/main/Hausaufgabe_13_02_25_Thor_Michael_Groth_Hausaufgabe_Python_Grundlagen_(1).ipynb\" target=\"_parent\"><img src=\"https://colab.research.google.com/assets/colab-badge.svg\" alt=\"Open In Colab\"/></a>"
      ]
    },
    {
      "cell_type": "markdown",
      "id": "70f5baf3",
      "metadata": {
        "id": "70f5baf3"
      },
      "source": [
        "# 📚 Hausaufgabe: Python-Grundlagen mit Story\n",
        "**Thema:** Einführung in Python mit einer Geschichte\n",
        "**Ziel:** Die Schüler sollen grundlegende Konzepte in Python selbstständig anwenden und vertiefen."
      ]
    },
    {
      "cell_type": "markdown",
      "id": "58e3ab41",
      "metadata": {
        "id": "58e3ab41"
      },
      "source": [
        "## 🏗️ 1. Konstanten & Variablen"
      ]
    },
    {
      "cell_type": "markdown",
      "id": "942a9623",
      "metadata": {
        "id": "942a9623"
      },
      "source": [
        "Du bist ein Reisender und brauchst eine Identität.\n",
        "\n",
        "**Aufgabe:**\n",
        "- Erstelle drei Variablen:\n",
        "  - `name` (dein Name als String)\n",
        "  - `alter` (dein Alter als ganze Zahl)\n",
        "  - `beruf` (dein Beruf als String)\n",
        "- Gib eine Begrüßung aus, die alle drei Variablen enthält.\n",
        "- **Zusatz:** Ändere die Variable `beruf` und gib die neue Begrüßung aus."
      ]
    },
    {
      "cell_type": "code",
      "execution_count": 8,
      "id": "b066b81f",
      "metadata": {
        "id": "b066b81f",
        "colab": {
          "base_uri": "https://localhost:8080/"
        },
        "outputId": "1ea219cb-d051-4eea-c5b5-a702d1f6ba29"
      },
      "outputs": [
        {
          "output_type": "stream",
          "name": "stdout",
          "text": [
            "Hallo, mein Name ist Thor Groth. Ich bin 37 Jahre alt und arbeiten im Einzelhandel.\n",
            "Hallo, mein Name ist Thor Groth. Ich bin 37 Jahre alt und arbeiten im Zoo.\n"
          ]
        }
      ],
      "source": [
        "# Variablen erstellen\n",
        "name = \"Thor Groth\"\n",
        "alter = 37\n",
        "beruf = \"Einzelhandel\"\n",
        "\n",
        "print(f\"Hallo, mein Name ist {name}. Ich bin {alter} Jahre alt und arbeiten im {beruf}.\")\n",
        "\n",
        "beruf = \"Zoo\"\n",
        "\n",
        "print(f\"Hallo, mein Name ist {name}. Ich bin {alter} Jahre alt und arbeiten im {beruf}.\")\n"
      ]
    },
    {
      "cell_type": "markdown",
      "id": "3aebae3d",
      "metadata": {
        "id": "3aebae3d"
      },
      "source": [
        "## 📦 2. Datentypen & Datenstrukturen"
      ]
    },
    {
      "cell_type": "markdown",
      "id": "8633b8bc",
      "metadata": {
        "id": "8633b8bc"
      },
      "source": [
        "Du entdeckst einen magischen Rucksack, in dem du Gegenstände sammeln kannst! 🎒\n",
        "\n",
        "**Aufgabe:**\n",
        "- Erstelle eine **Liste** `rucksack`, die folgende drei Gegenstände enthält: \"Trank\", \"Schwert\", \"Goldmünzen\".\n",
        "- Füge mit `.append()` ein weiteres Item hinzu.\n",
        "- Entferne mit `.remove()` ein Item.\n",
        "- Gib die aktuelle Liste aus."
      ]
    },
    {
      "cell_type": "code",
      "execution_count": 10,
      "id": "681bcfcc",
      "metadata": {
        "id": "681bcfcc",
        "colab": {
          "base_uri": "https://localhost:8080/"
        },
        "outputId": "25039cce-81cd-4e3f-fd59-91cb8fa895ad"
      },
      "outputs": [
        {
          "output_type": "stream",
          "name": "stdout",
          "text": [
            "['Trank', 'Schwert', 'Goldmünzen']\n",
            "['Trank', 'Goldmünzen', 'Bogen']\n"
          ]
        }
      ],
      "source": [
        "# Rucksack-Liste erstellen\n",
        "\n",
        "rucksack = [\"Trank\", \"Schwert\", \"Goldmünzen\"]\n",
        "\n",
        "# Ausgabe des Rucksacks\n",
        "\n",
        "print(rucksack)\n",
        "\n",
        "rucksack.append(\"Bogen\")\n",
        "\n",
        "rucksack.remove(\"Schwert\")\n",
        "\n",
        "print(rucksack)\n"
      ]
    },
    {
      "cell_type": "markdown",
      "id": "b79066d5",
      "metadata": {
        "id": "b79066d5"
      },
      "source": [
        "## 🍽️ 3. Funktionen für Datenstrukturen"
      ]
    },
    {
      "cell_type": "markdown",
      "id": "cd51cd02",
      "metadata": {
        "id": "cd51cd02"
      },
      "source": [
        "Der Händler gibt dir ein **magisches Buch**. Darin kannst du deine Lieblingsgerichte speichern! 🍽️\n",
        "\n",
        "**Aufgabe:**\n",
        "- Erstelle ein **Dictionary** `lieblingsessen`, das die Namen von 3 Freunden als Schlüssel und ihre Lieblingsgerichte als Werte enthält.\n",
        "- Füge mit `dictionary[key] = value` einen neuen Freund hinzu.\n",
        "- Gib die Lieblingsgerichte aus."
      ]
    },
    {
      "cell_type": "code",
      "execution_count": 11,
      "id": "8bb16249",
      "metadata": {
        "id": "8bb16249",
        "colab": {
          "base_uri": "https://localhost:8080/"
        },
        "outputId": "28cc159b-ec3f-44c4-d835-b3d7223ab48e"
      },
      "outputs": [
        {
          "output_type": "stream",
          "name": "stdout",
          "text": [
            "{'Zito': 'Lasagne', 'Theo': 'Pizza', 'Helen': 'Ramen', 'Joel': 'Pasta'}\n"
          ]
        }
      ],
      "source": [
        "# Lieblingsessen-Dictionary erstellen\n",
        "\n",
        "lieblingsessen = {\"Zito\": \"Lasagne\",\n",
        "                  \"Theo\": \"Pizza\",\n",
        "                  \"Helen\": \"Ramen\"\n",
        "}\n",
        "\n",
        "# Neuen Eintrag hinzufügen\n",
        "\n",
        "lieblingsessen[\"Joel\"] = \"Pasta\"\n",
        "\n",
        "# Ausgabe\n",
        "print(lieblingsessen)"
      ]
    },
    {
      "cell_type": "markdown",
      "id": "147da788",
      "metadata": {
        "id": "147da788"
      },
      "source": [
        "## 🛠️ 4. Funktionen definieren"
      ]
    },
    {
      "cell_type": "markdown",
      "id": "c334fea0",
      "metadata": {
        "id": "c334fea0"
      },
      "source": [
        "Du lernst einen **Zauberspruch**, um einen geheimen Raum zu öffnen! 🪄\n",
        "\n",
        "**Aufgabe:**\n",
        "- Schreibe eine Funktion `zauber_spruch()`, die den Satz \"Der geheime Raum öffnet sich!\" ausgibt.\n",
        "- Rufe die Funktion auf."
      ]
    },
    {
      "cell_type": "code",
      "execution_count": 14,
      "id": "e1bed226",
      "metadata": {
        "id": "e1bed226",
        "colab": {
          "base_uri": "https://localhost:8080/"
        },
        "outputId": "58882919-1fa2-43b7-8eb5-51f0ade06ab5"
      },
      "outputs": [
        {
          "output_type": "stream",
          "name": "stdout",
          "text": [
            "Wie lautet der Zauberspruch? Sesam öffne dich\n",
            "Der geheime Raum öffnet sich!\n"
          ]
        }
      ],
      "source": [
        "# Funktion definieren\n",
        "zauber = input(\"Wie lautet der Zauberspruch? \")\n",
        "\n",
        "zauberspruch = \"Sesam öffne dich\"\n",
        "\n",
        "if zauberspruch == \"Sesam öffne dich\":\n",
        "\n",
        "  print(\"Der geheime Raum öffnet sich!\")\n",
        "\n",
        "# Funktion aufrufen\n",
        "\n"
      ]
    },
    {
      "cell_type": "markdown",
      "id": "1d8fdc5e",
      "metadata": {
        "id": "1d8fdc5e"
      },
      "source": [
        "## 🔑 5. Kontrollstrukturen (if-else)"
      ]
    },
    {
      "cell_type": "markdown",
      "id": "f6ed2eef",
      "metadata": {
        "id": "f6ed2eef"
      },
      "source": [
        "Ein Wächter stellt dir eine Frage: **\"Wie lautet das geheime Passwort?\"**\n",
        "\n",
        "**Aufgabe:**\n",
        "- Frage den Benutzer mit `input()` nach dem Passwort.\n",
        "- Falls das Passwort \"Magie\" lautet, soll \"✅ Zugang gewährt!\" ausgegeben werden.\n",
        "- Andernfalls soll \"❌ Falsches Passwort!\" erscheinen."
      ]
    },
    {
      "cell_type": "code",
      "execution_count": 17,
      "id": "7cde5df2",
      "metadata": {
        "id": "7cde5df2",
        "colab": {
          "base_uri": "https://localhost:8080/"
        },
        "outputId": "10cc0a02-5a40-4483-ef5a-b9e17a13b289"
      },
      "outputs": [
        {
          "output_type": "stream",
          "name": "stdout",
          "text": [
            "Wie lautet das geheime Passwort? hallo\n",
            "❌ Falsches Passwort!\n"
          ]
        }
      ],
      "source": [
        "# Passwort-Abfrage\n",
        "passwort = input(\"Wie lautet das geheime Passwort? \")\n",
        "\n",
        "if passwort == \"Magie\":\n",
        "  print(\"✅ Zugang gewährt!\")\n",
        "else:\n",
        "  print(\"❌ Falsches Passwort!\")\n"
      ]
    },
    {
      "cell_type": "markdown",
      "id": "750de35a",
      "metadata": {
        "id": "750de35a"
      },
      "source": [
        "## 🔄 6. Schleifen (for, while, break)"
      ]
    },
    {
      "cell_type": "markdown",
      "id": "900c3b26",
      "metadata": {
        "id": "900c3b26"
      },
      "source": [
        "Du musst eine **verzauberte Treppe mit 5 Stufen** hochsteigen! 🏛️\n",
        "\n",
        "**Aufgabe:**\n",
        "- Schreibe eine `for`-Schleife, die die Stufen von 1 bis 5 ausgibt.\n",
        "- **Zusatz:** Verwende eine `while`-Schleife, die nach jeder Stufe fragt, ob du weitergehen willst (`ja/nein`). Falls \"nein\", soll die Schleife abbrechen."
      ]
    },
    {
      "cell_type": "code",
      "execution_count": 1,
      "id": "309a7500",
      "metadata": {
        "id": "309a7500",
        "colab": {
          "base_uri": "https://localhost:8080/"
        },
        "outputId": "3197cabd-114d-42e7-cfd4-748276297a5b"
      },
      "outputs": [
        {
          "name": "stdout",
          "output_type": "stream",
          "text": [
            "Du stehst auf Stufe 1.\n",
            "Willst du weitergehen? (ja/nein): ja\n",
            "Du stehst auf Stufe 2.\n",
            "Willst du weitergehen? (ja/nein): ja\n",
            "Du stehst auf Stufe 3.\n",
            "Willst du weitergehen? (ja/nein): nein\n",
            "Du bleibst stehen.\n",
            "Willst du weitergehen? (ja/nein): nein\n",
            "Du bleibst stehen.\n",
            "Willst du weitergehen? (ja/nein): ja\n",
            "Du stehst auf Stufe 4.\n",
            "Willst du weitergehen? (ja/nein): ja\n",
            "Du stehst auf Stufe 5.\n",
            "Willst du weitergehen? (ja/nein): ja\n"
          ]
        }
      ],
      "source": [
        "# For-Schleife zum Hochsteigen der Treppe\n",
        "for stufe in range(1, 6):\n",
        "    print(f\"Du stehst auf Stufe {stufe}.\")\n",
        "\n",
        "    # While-Schleife für Benutzerabfrage\n",
        "    while True:\n",
        "        antwort = input(\"Willst du weitergehen? (ja/nein): \")\n",
        "        if antwort == \"ja\":\n",
        "            break\n",
        "        elif antwort == \"nein\":\n",
        "            print(\"Du bleibst stehen.\")\n",
        "            exit()\n",
        "        else:\n",
        "            print(\"Bitte gib 'ja' oder 'nein' ein.\")\n"
      ]
    },
    {
      "cell_type": "markdown",
      "source": [
        "## 7. Import von Modulen\n",
        "Importiere die Bibliothek `math` und schreibe eine Funktion, die die Wurzel einer Zahl berechnet."
      ],
      "metadata": {
        "id": "hEqmFNMbosYM"
      },
      "id": "hEqmFNMbosYM"
    },
    {
      "cell_type": "code",
      "source": [
        "# Modul math importieren\n",
        "\n",
        "# Funktion definieren\n",
        "def compute_square(number):\n",
        "  ...\n",
        "# Funktion ausführen und Ergebnis ausgeben\n",
        "print(compute_square(2))"
      ],
      "metadata": {
        "id": "8MpfboH_o6pk"
      },
      "id": "8MpfboH_o6pk",
      "execution_count": null,
      "outputs": []
    },
    {
      "cell_type": "markdown",
      "source": [
        "## D&D-Spiel\n",
        "Recherchiere nach dem Spiel D&D. Notiere dir einen Ablaufplan der Spiellogik. Versuche das in eigenen Worten zu beschreiben. Wie können wir wesentliche Dinge mithilfe von algorithmischen Konzepten umsetzen?\n",
        "Alternativ darfst du gerne mit Pseudocode/Struktogrammen arbeiten.\n",
        "![](https://images.ctfassets.net/0piqveu8x9oj/7xkbfuRW3hWVoneQ13sI94/f97f0e8982c6ef35a71eeeea42f9d6a1/Articles_Header_Image_w07_2.jpg)"
      ],
      "metadata": {
        "id": "_O60eOiPnT-U"
      },
      "id": "_O60eOiPnT-U"
    },
    {
      "cell_type": "markdown",
      "source": [],
      "metadata": {
        "id": "AsQV1Hsknovi"
      },
      "id": "AsQV1Hsknovi"
    }
  ],
  "metadata": {
    "colab": {
      "provenance": [],
      "include_colab_link": true
    },
    "language_info": {
      "name": "python"
    },
    "kernelspec": {
      "name": "python3",
      "display_name": "Python 3"
    }
  },
  "nbformat": 4,
  "nbformat_minor": 5
}